{
 "cells": [
  {
   "cell_type": "code",
   "execution_count": 1,
   "id": "initial_id",
   "metadata": {
    "collapsed": true,
    "ExecuteTime": {
     "end_time": "2024-03-25T21:37:30.584167Z",
     "start_time": "2024-03-25T21:37:29.192670Z"
    }
   },
   "outputs": [],
   "source": [
    "import pandas as pd\n",
    "import numpy as np\n",
    "from surprise import KNNBasic,KNNWithMeans\n",
    "from surprise import accuracy\n",
    "from surprise import Dataset, Reader\n",
    "from surprise.model_selection import train_test_split\n",
    "from surprise.model_selection import cross_validate\n",
    "from catboost import CatBoostClassifier\n",
    "import pandas as pd"
   ]
  },
  {
   "cell_type": "code",
   "execution_count": 2,
   "outputs": [],
   "source": [
    "visit_data = pd.read_parquet('visit_data.parquet')"
   ],
   "metadata": {
    "collapsed": false,
    "ExecuteTime": {
     "end_time": "2024-03-25T21:37:49.252523Z",
     "start_time": "2024-03-25T21:37:49.134457Z"
    }
   },
   "id": "359acb1077ce3b58"
  },
  {
   "cell_type": "code",
   "execution_count": 3,
   "outputs": [
    {
     "data": {
      "text/plain": "        user_id  age   gender  \\\n0             1   18  Мужской   \n1             1   18  Мужской   \n2             1   18  Мужской   \n3             2   22  Мужской   \n4             2   22  Мужской   \n...         ...  ...      ...   \n569467    99999   48  Женский   \n569468    99999   48  Женский   \n569469   100000   47  Женский   \n569470   100000   47  Женский   \n569471   100000   47  Женский   \n\n                                                     name  \\\n0                                                     Fox   \n1                                             Кремлёвский   \n2                                             Soul Burger   \n3                                                   МУ-МУ   \n4                                             Москва-Дели   \n...                                                   ...   \n569467  Центр театра и кино под руководством Никиты Ми...   \n569468  Московский Драматический театр им. М.Н. Ермоловой   \n569469                                            Кашемир   \n569470                                       Мосспектакль   \n569471                                            СОбытие   \n\n                                                  address       pos1  \\\n0       Парк Фили, Большая Филёвская улица, 22 ст16а, ...  37.490661   \n1                1-я Тверская-Ямская улица, 3 ст1, Москва  37.594379   \n2            Большой Сухаревский переулок, 25 ст1, Москва  37.632115   \n3       Казанский вокзал, Комсомольская площадь, 2, Мо...  37.656479   \n4                        Ермолаевский переулок, 7, Москва  37.590505   \n...                                                   ...        ...   \n569467                    Улица Поварская, 33 ст1, Москва  37.586203   \n569468                        Тверская улица, 5/6, Москва  37.612017   \n569469   ТКЗ Дворец на Яузе, площадь Журавлева, 1, Москва  37.704673   \n569470                        Улица Покровка, 40Б, Москва  37.652562   \n569471      4-й Сыромятнический переулок, 3/5 ст4, Москва  37.667564   \n\n             pos2  user_rating  \n0       55.750929            5  \n1       55.770681            2  \n2       55.770884            5  \n3       55.773491            3  \n4       55.764352            5  \n...           ...          ...  \n569467  55.756832            4  \n569468  55.757425            5  \n569469  55.784040            5  \n569470  55.761082            5  \n569471  55.755697            4  \n\n[569472 rows x 8 columns]",
      "text/html": "<div>\n<style scoped>\n    .dataframe tbody tr th:only-of-type {\n        vertical-align: middle;\n    }\n\n    .dataframe tbody tr th {\n        vertical-align: top;\n    }\n\n    .dataframe thead th {\n        text-align: right;\n    }\n</style>\n<table border=\"1\" class=\"dataframe\">\n  <thead>\n    <tr style=\"text-align: right;\">\n      <th></th>\n      <th>user_id</th>\n      <th>age</th>\n      <th>gender</th>\n      <th>name</th>\n      <th>address</th>\n      <th>pos1</th>\n      <th>pos2</th>\n      <th>user_rating</th>\n    </tr>\n  </thead>\n  <tbody>\n    <tr>\n      <th>0</th>\n      <td>1</td>\n      <td>18</td>\n      <td>Мужской</td>\n      <td>Fox</td>\n      <td>Парк Фили, Большая Филёвская улица, 22 ст16а, ...</td>\n      <td>37.490661</td>\n      <td>55.750929</td>\n      <td>5</td>\n    </tr>\n    <tr>\n      <th>1</th>\n      <td>1</td>\n      <td>18</td>\n      <td>Мужской</td>\n      <td>Кремлёвский</td>\n      <td>1-я Тверская-Ямская улица, 3 ст1, Москва</td>\n      <td>37.594379</td>\n      <td>55.770681</td>\n      <td>2</td>\n    </tr>\n    <tr>\n      <th>2</th>\n      <td>1</td>\n      <td>18</td>\n      <td>Мужской</td>\n      <td>Soul Burger</td>\n      <td>Большой Сухаревский переулок, 25 ст1, Москва</td>\n      <td>37.632115</td>\n      <td>55.770884</td>\n      <td>5</td>\n    </tr>\n    <tr>\n      <th>3</th>\n      <td>2</td>\n      <td>22</td>\n      <td>Мужской</td>\n      <td>МУ-МУ</td>\n      <td>Казанский вокзал, Комсомольская площадь, 2, Мо...</td>\n      <td>37.656479</td>\n      <td>55.773491</td>\n      <td>3</td>\n    </tr>\n    <tr>\n      <th>4</th>\n      <td>2</td>\n      <td>22</td>\n      <td>Мужской</td>\n      <td>Москва-Дели</td>\n      <td>Ермолаевский переулок, 7, Москва</td>\n      <td>37.590505</td>\n      <td>55.764352</td>\n      <td>5</td>\n    </tr>\n    <tr>\n      <th>...</th>\n      <td>...</td>\n      <td>...</td>\n      <td>...</td>\n      <td>...</td>\n      <td>...</td>\n      <td>...</td>\n      <td>...</td>\n      <td>...</td>\n    </tr>\n    <tr>\n      <th>569467</th>\n      <td>99999</td>\n      <td>48</td>\n      <td>Женский</td>\n      <td>Центр театра и кино под руководством Никиты Ми...</td>\n      <td>Улица Поварская, 33 ст1, Москва</td>\n      <td>37.586203</td>\n      <td>55.756832</td>\n      <td>4</td>\n    </tr>\n    <tr>\n      <th>569468</th>\n      <td>99999</td>\n      <td>48</td>\n      <td>Женский</td>\n      <td>Московский Драматический театр им. М.Н. Ермоловой</td>\n      <td>Тверская улица, 5/6, Москва</td>\n      <td>37.612017</td>\n      <td>55.757425</td>\n      <td>5</td>\n    </tr>\n    <tr>\n      <th>569469</th>\n      <td>100000</td>\n      <td>47</td>\n      <td>Женский</td>\n      <td>Кашемир</td>\n      <td>ТКЗ Дворец на Яузе, площадь Журавлева, 1, Москва</td>\n      <td>37.704673</td>\n      <td>55.784040</td>\n      <td>5</td>\n    </tr>\n    <tr>\n      <th>569470</th>\n      <td>100000</td>\n      <td>47</td>\n      <td>Женский</td>\n      <td>Мосспектакль</td>\n      <td>Улица Покровка, 40Б, Москва</td>\n      <td>37.652562</td>\n      <td>55.761082</td>\n      <td>5</td>\n    </tr>\n    <tr>\n      <th>569471</th>\n      <td>100000</td>\n      <td>47</td>\n      <td>Женский</td>\n      <td>СОбытие</td>\n      <td>4-й Сыромятнический переулок, 3/5 ст4, Москва</td>\n      <td>37.667564</td>\n      <td>55.755697</td>\n      <td>4</td>\n    </tr>\n  </tbody>\n</table>\n<p>569472 rows × 8 columns</p>\n</div>"
     },
     "execution_count": 3,
     "metadata": {},
     "output_type": "execute_result"
    }
   ],
   "source": [
    "\n",
    "visit_data"
   ],
   "metadata": {
    "collapsed": false,
    "ExecuteTime": {
     "end_time": "2024-03-25T21:37:49.676614Z",
     "start_time": "2024-03-25T21:37:49.645311Z"
    }
   },
   "id": "f9e6eab3aaddf36f"
  },
  {
   "cell_type": "markdown",
   "source": [
    "### Добавление искусственной информации о том посетил ли пользователь место или посмотрел подробнее"
   ],
   "metadata": {
    "collapsed": false
   },
   "id": "a4fbbd76d3c1b2a5"
  },
  {
   "cell_type": "code",
   "execution_count": 4,
   "outputs": [],
   "source": [
    "visit_data['visited'] = np.random.choice([0, 1], size=len(visit_data), p=[0.8, 0.2])\n",
    "# Просмотр подробной информации (40% вероятность)\n",
    "visit_data['viewed_detail'] = np.random.choice([0, 1], size=len(visit_data), p=[0.6, 0.4])"
   ],
   "metadata": {
    "collapsed": false,
    "ExecuteTime": {
     "end_time": "2024-03-25T21:37:50.925673Z",
     "start_time": "2024-03-25T21:37:50.896049Z"
    }
   },
   "id": "7938c507aaf0f66c"
  },
  {
   "cell_type": "code",
   "execution_count": 5,
   "outputs": [
    {
     "data": {
      "text/plain": "        user_id  age   gender  \\\n0             1   18  Мужской   \n1             1   18  Мужской   \n2             1   18  Мужской   \n3             2   22  Мужской   \n4             2   22  Мужской   \n...         ...  ...      ...   \n569467    99999   48  Женский   \n569468    99999   48  Женский   \n569469   100000   47  Женский   \n569470   100000   47  Женский   \n569471   100000   47  Женский   \n\n                                                     name  \\\n0                                                     Fox   \n1                                             Кремлёвский   \n2                                             Soul Burger   \n3                                                   МУ-МУ   \n4                                             Москва-Дели   \n...                                                   ...   \n569467  Центр театра и кино под руководством Никиты Ми...   \n569468  Московский Драматический театр им. М.Н. Ермоловой   \n569469                                            Кашемир   \n569470                                       Мосспектакль   \n569471                                            СОбытие   \n\n                                                  address       pos1  \\\n0       Парк Фили, Большая Филёвская улица, 22 ст16а, ...  37.490661   \n1                1-я Тверская-Ямская улица, 3 ст1, Москва  37.594379   \n2            Большой Сухаревский переулок, 25 ст1, Москва  37.632115   \n3       Казанский вокзал, Комсомольская площадь, 2, Мо...  37.656479   \n4                        Ермолаевский переулок, 7, Москва  37.590505   \n...                                                   ...        ...   \n569467                    Улица Поварская, 33 ст1, Москва  37.586203   \n569468                        Тверская улица, 5/6, Москва  37.612017   \n569469   ТКЗ Дворец на Яузе, площадь Журавлева, 1, Москва  37.704673   \n569470                        Улица Покровка, 40Б, Москва  37.652562   \n569471      4-й Сыромятнический переулок, 3/5 ст4, Москва  37.667564   \n\n             pos2  user_rating  visited  viewed_detail  \n0       55.750929            5        0              1  \n1       55.770681            2        0              1  \n2       55.770884            5        0              1  \n3       55.773491            3        0              1  \n4       55.764352            5        0              0  \n...           ...          ...      ...            ...  \n569467  55.756832            4        0              0  \n569468  55.757425            5        0              0  \n569469  55.784040            5        0              1  \n569470  55.761082            5        0              1  \n569471  55.755697            4        1              1  \n\n[569472 rows x 10 columns]",
      "text/html": "<div>\n<style scoped>\n    .dataframe tbody tr th:only-of-type {\n        vertical-align: middle;\n    }\n\n    .dataframe tbody tr th {\n        vertical-align: top;\n    }\n\n    .dataframe thead th {\n        text-align: right;\n    }\n</style>\n<table border=\"1\" class=\"dataframe\">\n  <thead>\n    <tr style=\"text-align: right;\">\n      <th></th>\n      <th>user_id</th>\n      <th>age</th>\n      <th>gender</th>\n      <th>name</th>\n      <th>address</th>\n      <th>pos1</th>\n      <th>pos2</th>\n      <th>user_rating</th>\n      <th>visited</th>\n      <th>viewed_detail</th>\n    </tr>\n  </thead>\n  <tbody>\n    <tr>\n      <th>0</th>\n      <td>1</td>\n      <td>18</td>\n      <td>Мужской</td>\n      <td>Fox</td>\n      <td>Парк Фили, Большая Филёвская улица, 22 ст16а, ...</td>\n      <td>37.490661</td>\n      <td>55.750929</td>\n      <td>5</td>\n      <td>0</td>\n      <td>1</td>\n    </tr>\n    <tr>\n      <th>1</th>\n      <td>1</td>\n      <td>18</td>\n      <td>Мужской</td>\n      <td>Кремлёвский</td>\n      <td>1-я Тверская-Ямская улица, 3 ст1, Москва</td>\n      <td>37.594379</td>\n      <td>55.770681</td>\n      <td>2</td>\n      <td>0</td>\n      <td>1</td>\n    </tr>\n    <tr>\n      <th>2</th>\n      <td>1</td>\n      <td>18</td>\n      <td>Мужской</td>\n      <td>Soul Burger</td>\n      <td>Большой Сухаревский переулок, 25 ст1, Москва</td>\n      <td>37.632115</td>\n      <td>55.770884</td>\n      <td>5</td>\n      <td>0</td>\n      <td>1</td>\n    </tr>\n    <tr>\n      <th>3</th>\n      <td>2</td>\n      <td>22</td>\n      <td>Мужской</td>\n      <td>МУ-МУ</td>\n      <td>Казанский вокзал, Комсомольская площадь, 2, Мо...</td>\n      <td>37.656479</td>\n      <td>55.773491</td>\n      <td>3</td>\n      <td>0</td>\n      <td>1</td>\n    </tr>\n    <tr>\n      <th>4</th>\n      <td>2</td>\n      <td>22</td>\n      <td>Мужской</td>\n      <td>Москва-Дели</td>\n      <td>Ермолаевский переулок, 7, Москва</td>\n      <td>37.590505</td>\n      <td>55.764352</td>\n      <td>5</td>\n      <td>0</td>\n      <td>0</td>\n    </tr>\n    <tr>\n      <th>...</th>\n      <td>...</td>\n      <td>...</td>\n      <td>...</td>\n      <td>...</td>\n      <td>...</td>\n      <td>...</td>\n      <td>...</td>\n      <td>...</td>\n      <td>...</td>\n      <td>...</td>\n    </tr>\n    <tr>\n      <th>569467</th>\n      <td>99999</td>\n      <td>48</td>\n      <td>Женский</td>\n      <td>Центр театра и кино под руководством Никиты Ми...</td>\n      <td>Улица Поварская, 33 ст1, Москва</td>\n      <td>37.586203</td>\n      <td>55.756832</td>\n      <td>4</td>\n      <td>0</td>\n      <td>0</td>\n    </tr>\n    <tr>\n      <th>569468</th>\n      <td>99999</td>\n      <td>48</td>\n      <td>Женский</td>\n      <td>Московский Драматический театр им. М.Н. Ермоловой</td>\n      <td>Тверская улица, 5/6, Москва</td>\n      <td>37.612017</td>\n      <td>55.757425</td>\n      <td>5</td>\n      <td>0</td>\n      <td>0</td>\n    </tr>\n    <tr>\n      <th>569469</th>\n      <td>100000</td>\n      <td>47</td>\n      <td>Женский</td>\n      <td>Кашемир</td>\n      <td>ТКЗ Дворец на Яузе, площадь Журавлева, 1, Москва</td>\n      <td>37.704673</td>\n      <td>55.784040</td>\n      <td>5</td>\n      <td>0</td>\n      <td>1</td>\n    </tr>\n    <tr>\n      <th>569470</th>\n      <td>100000</td>\n      <td>47</td>\n      <td>Женский</td>\n      <td>Мосспектакль</td>\n      <td>Улица Покровка, 40Б, Москва</td>\n      <td>37.652562</td>\n      <td>55.761082</td>\n      <td>5</td>\n      <td>0</td>\n      <td>1</td>\n    </tr>\n    <tr>\n      <th>569471</th>\n      <td>100000</td>\n      <td>47</td>\n      <td>Женский</td>\n      <td>СОбытие</td>\n      <td>4-й Сыромятнический переулок, 3/5 ст4, Москва</td>\n      <td>37.667564</td>\n      <td>55.755697</td>\n      <td>4</td>\n      <td>1</td>\n      <td>1</td>\n    </tr>\n  </tbody>\n</table>\n<p>569472 rows × 10 columns</p>\n</div>"
     },
     "execution_count": 5,
     "metadata": {},
     "output_type": "execute_result"
    }
   ],
   "source": [
    "visit_data"
   ],
   "metadata": {
    "collapsed": false,
    "ExecuteTime": {
     "end_time": "2024-03-25T21:37:51.660195Z",
     "start_time": "2024-03-25T21:37:51.638816Z"
    }
   },
   "id": "d3ec74c5870cd530"
  },
  {
   "cell_type": "markdown",
   "source": [
    "### Коллаборативная фильтрация"
   ],
   "metadata": {
    "collapsed": false
   },
   "id": "632c1e3a0147d8a7"
  },
  {
   "cell_type": "code",
   "execution_count": 6,
   "outputs": [],
   "source": [
    "data = visit_data.copy()"
   ],
   "metadata": {
    "collapsed": false,
    "ExecuteTime": {
     "end_time": "2024-03-25T21:38:08.213293Z",
     "start_time": "2024-03-25T21:38:08.194326Z"
    }
   },
   "id": "1f3317f420b26d3c"
  },
  {
   "cell_type": "code",
   "execution_count": 7,
   "outputs": [],
   "source": [
    "# Подготовка данных для surprise\n",
    "reader = Reader(rating_scale=(1, 5))  # Рейтинги в вашем датасете от 1 до 5\n",
    "data = Dataset.load_from_df(data[['user_id', 'name', 'user_rating']], reader)\n",
    "\n",
    "# Разделение на обучающую и тестовую выборки\n",
    "trainset, testset = train_test_split(data, test_size=0.25)"
   ],
   "metadata": {
    "collapsed": false,
    "ExecuteTime": {
     "end_time": "2024-03-25T17:41:27.277671Z",
     "start_time": "2024-03-25T17:41:26.228948Z"
    }
   },
   "id": "e38d011b91438a2f"
  },
  {
   "cell_type": "markdown",
   "source": [
    "### Модель KNN"
   ],
   "metadata": {
    "collapsed": false
   },
   "id": "19307d2ef99781f7"
  },
  {
   "cell_type": "code",
   "execution_count": null,
   "outputs": [],
   "source": [
    "# Создание и обучение модели\n",
    "model = KNNBasic()\n",
    "model.fit(trainset)\n",
    "\n",
    "# Предсказания на тестовом наборе\n",
    "predictions = model.test(testset)\n",
    "\n",
    "# Расчет RMSE (Root Mean Squared Error)\n",
    "accuracy.rmse(predictions)"
   ],
   "metadata": {
    "collapsed": false,
    "ExecuteTime": {
     "start_time": "2024-03-25T17:41:27.255995Z"
    }
   },
   "id": "3dcbd825b75e92a6"
  },
  {
   "cell_type": "code",
   "execution_count": null,
   "outputs": [],
   "source": [
    "# Предсказания на тестовом наборе\n",
    "predictions = model.test(testset)"
   ],
   "metadata": {
    "collapsed": false
   },
   "id": "5cf1ea4c27a5b536"
  },
  {
   "cell_type": "code",
   "execution_count": null,
   "outputs": [],
   "source": [
    "from collections import defaultdict\n",
    "from surprise import accuracy\n",
    "\n",
    "def precision_recall_at_k(predictions, k=10, threshold=4):\n",
    "    '''Возвращает словарь с precision и recall по пользователю для заданного k и порога.'''\n",
    "\n",
    "    # Словарь для хранения результатов\n",
    "    user_est_true = defaultdict(list)\n",
    "    for uid, _, true_r, est, _ in predictions:\n",
    "        user_est_true[uid].append((est, true_r))\n",
    "\n",
    "    precisions = dict()\n",
    "    recalls = dict()\n",
    "\n",
    "    for uid, user_ratings in user_est_true.items():\n",
    "        # Сортируем предсказания пользователя по убыванию предсказанного рейтинга\n",
    "        user_ratings.sort(key=lambda x: x[0], reverse=True)\n",
    "\n",
    "        # Число рекомендованных объектов, рейтинг которых выше порога\n",
    "        n_rel = sum((true_r >= threshold) for (_, true_r) in user_ratings[:k])\n",
    "\n",
    "        # Число релевантных и рекомендованных объектов\n",
    "        n_rec_k = sum((est >= threshold) for (est, _) in user_ratings[:k])\n",
    "\n",
    "        # Число релевантных объектов\n",
    "        n_rel_and_rec_k = sum(((true_r >= threshold) and (est >= threshold)) for (est, true_r) in user_ratings[:k])\n",
    "\n",
    "        # Precision@K: Процент рекомендованных объектов, которые релевантны\n",
    "        precisions[uid] = n_rel_and_rec_k / n_rec_k if n_rec_k != 0 else 1\n",
    "\n",
    "        # Recall@K: Процент релевантных объектов, которые были рекомендованы\n",
    "        recalls[uid] = n_rel_and_rec_k / n_rel if n_rel != 0 else 1\n",
    "\n",
    "    return precisions, recalls"
   ],
   "metadata": {
    "collapsed": false
   },
   "id": "40f1cdfdf769d1da"
  },
  {
   "cell_type": "code",
   "execution_count": null,
   "outputs": [],
   "source": [
    "# Расчет метрик\n",
    "precisions, recalls = precision_recall_at_k(predictions, k=1, threshold=4)\n",
    "\n",
    "# Средний precision и recall по всем пользователям\n",
    "print(f\"Precision@5: {sum(prec for prec in precisions.values()) / len(precisions):.4f}\")\n",
    "print(f\"Recall@5: {sum(rec for rec in recalls.values()) / len(recalls):.4f}\")"
   ],
   "metadata": {
    "collapsed": false
   },
   "id": "52513cbf1fed75f4"
  },
  {
   "cell_type": "code",
   "execution_count": null,
   "outputs": [],
   "source": [
    "predictions"
   ],
   "metadata": {
    "collapsed": false
   },
   "id": "5e38223dde675ffa"
  },
  {
   "cell_type": "markdown",
   "source": [
    "### Инференс модели"
   ],
   "metadata": {
    "collapsed": false
   },
   "id": "8db367e20106ad16"
  },
  {
   "cell_type": "code",
   "execution_count": null,
   "outputs": [
    {
     "name": "stdout",
     "output_type": "stream",
     "text": [
      "Estimating biases using als...\n"
     ]
    }
   ],
   "source": [
    "data = visit_data.copy()\n",
    "# Подготовка данных для surprise\n",
    "reader = Reader(rating_scale=(1, 5))  # Рейтинги в вашем датасете от 1 до 5\n",
    "data = Dataset.load_from_df(data[['user_id', 'name', 'user_rating']], reader)\n",
    "trainset = data.build_full_trainset()\n",
    "sim_options = {\n",
    "    'name': 'pearson_baseline',  # Метрика схожести: косинусное сходство, MSD, pearson, pearson_baseline\n",
    "    'user_based': True,  # или False, если предпочитаете схожесть на основе объектов\n",
    "    'min_support': 5,  # Минимальное количество общих объектов/пользователей\n",
    "    'shrinkage': 0  # Параметр уменьшения для pearson_baseline, 100 по умолчанию\n",
    "}\n",
    "\n",
    "# Создание и обучение модели KNNWithMeans\n",
    "inference_model = KNNWithMeans(k=40, sim_options=sim_options)\n",
    "cross_validate(inference_model, data, measures=['RMSE', 'MAE'], cv=3, verbose=True)\n",
    "inference_model.fit(trainset)"
   ],
   "metadata": {
    "collapsed": false,
    "ExecuteTime": {
     "start_time": "2024-03-25T17:42:16.459485Z"
    }
   },
   "id": "7f83be679bfbbfa9"
  },
  {
   "cell_type": "code",
   "execution_count": null,
   "outputs": [],
   "source": [
    "1"
   ],
   "metadata": {
    "collapsed": false
   },
   "id": "733857d84bf61a4d"
  },
  {
   "cell_type": "code",
   "execution_count": null,
   "outputs": [],
   "source": [
    "from surprise import Dataset, Reader, KNNBasic\n",
    "from surprise.model_selection import train_test_split\n",
    "from surprise import accuracy\n",
    "# Допустим, мы хотим сгенерировать рекомендации для пользователя с user_id\n",
    "# Обучение модели\n",
    "users = trainset.all_users()\n",
    "items = trainset.all_items()\n",
    "item_names = trainset.to_raw_iid  # Получаем исходные идентификаторы объектов\n",
    "\n",
    "# Предположим, мы хотим сгенерировать рекомендации для пользователя с исходным user_id\n",
    "user_id = 16  # Пример исходного ID пользователя\n",
    "inner_user_id = trainset.to_inner_uid(user_id)  # Преобразуем во внутренний ID\n",
    "\n",
    "# Получаем список объектов, которые пользователь уже оценил\n",
    "user_rated_items = [item for (item, _) in trainset.ur[inner_user_id]]\n",
    "\n",
    "# Генерация предсказаний для объектов, которые пользователь не оценил\n",
    "unrated_items = [item for item in items if item not in user_rated_items]\n",
    "predictions = [inference_model.predict(inner_user_id, item) for item in unrated_items]\n",
    "\n",
    "# Сортировка предсказаний по убыванию предсказанного рейтинга\n",
    "predictions.sort(key=lambda x: x.est, reverse=True)\n",
    "\n",
    "# Выбор top-N рекомендаций\n",
    "N = 100\n",
    "top_n_recommendations = predictions[:N]\n",
    "\n",
    "# Вывод рекомендаций\n",
    "print(f\"Top-{N} Recommendations for User {user_id}:\")\n",
    "for pred in top_n_recommendations:\n",
    "    print(f\"Item ID: {item_names(pred.iid)}, Predicted Rating: {pred.est}\")"
   ],
   "metadata": {
    "collapsed": false
   },
   "id": "b2e074bae134664c"
  },
  {
   "cell_type": "code",
   "execution_count": null,
   "outputs": [],
   "source": [
    "visit_data[visit_data['user_id']==16]"
   ],
   "metadata": {
    "collapsed": false
   },
   "id": "675efa77f90a6655"
  },
  {
   "cell_type": "code",
   "execution_count": null,
   "outputs": [],
   "source": [
    "visit_data[visit_data['name']=='Happy']"
   ],
   "metadata": {
    "collapsed": false
   },
   "id": "1d958d68db2c6e05"
  },
  {
   "cell_type": "code",
   "execution_count": null,
   "outputs": [],
   "source": [
    "predictions"
   ],
   "metadata": {
    "collapsed": false
   },
   "id": "57f09da984175ee1"
  },
  {
   "cell_type": "markdown",
   "source": [
    "### Модель SVD"
   ],
   "metadata": {
    "collapsed": false
   },
   "id": "7433853535bdd0e1"
  },
  {
   "cell_type": "code",
   "execution_count": null,
   "outputs": [],
   "source": [
    "from surprise import SVD, Dataset, Reader\n",
    "from surprise.model_selection import cross_validate\n",
    "data = visit_data.copy()\n",
    "# Подготовка данных для surprise\n",
    "reader = Reader(rating_scale=(1, 5))  # Рейтинги в вашем датасете от 1 до 5\n",
    "data = Dataset.load_from_df(data[['user_id', 'name', 'user_rating']], reader)\n",
    "\n",
    "# Разделение на обучающую и тестовую выборки\n",
    "trainset, testset = train_test_split(data, test_size=0.25)\n",
    "\n",
    "# Использование SVD\n",
    "algo = SVD()\n",
    "\n",
    "# Проведение кросс-валидации для оценки модели\n",
    "cross_validate(algo, trainset, measures=['RMSE', 'MAE'], cv=5, verbose=True)"
   ],
   "metadata": {
    "collapsed": false
   },
   "id": "66df480d803a8a93"
  },
  {
   "cell_type": "code",
   "execution_count": null,
   "outputs": [],
   "source": [
    "from surprise.model_selection import GridSearchCV\n",
    "\n",
    "param_grid = {\n",
    "    'n_epochs': [5, 10, 20],  # Количество эпох обучения\n",
    "    'lr_all': [0.002, 0.005],  # Скорость обучения\n",
    "    'reg_all': [0.4, 0.6]  # Коэффициент регуляризации\n",
    "}\n",
    "\n",
    "gs = GridSearchCV(SVD, param_grid, measures=['rmse', 'mae'], cv=3)\n",
    "gs.fit(data)\n",
    "\n",
    "# Лучшие результаты RMSE\n",
    "print(gs.best_score['rmse'])\n",
    "\n",
    "# Параметры для лучшего RMSE\n",
    "print(gs.best_params['rmse'])"
   ],
   "metadata": {
    "collapsed": false
   },
   "id": "a88f92ec0fa54fd4"
  },
  {
   "cell_type": "code",
   "execution_count": null,
   "outputs": [],
   "source": [
    "# Обучение модели с лучшими параметрами\n",
    "algo = SVD(n_epochs=gs.best_params['rmse']['n_epochs'],\n",
    "           lr_all=gs.best_params['rmse']['lr_all'],\n",
    "           reg_all=gs.best_params['rmse']['reg_all'])\n",
    "algo.fit(trainset)"
   ],
   "metadata": {
    "collapsed": false
   },
   "id": "f4196576c4f01019"
  },
  {
   "cell_type": "code",
   "execution_count": null,
   "outputs": [],
   "source": [
    "from surprise import Dataset, Reader, KNNBasic\n",
    "from surprise.model_selection import train_test_split\n",
    "from surprise import accuracy\n",
    "# Допустим, мы хотим сгенерировать рекомендации для пользователя с user_id = 1\n",
    "# Обучение модели\n",
    "users = trainset.all_users()\n",
    "items = trainset.all_items()\n",
    "item_names = trainset.to_raw_iid  # Получаем исходные идентификаторы объектов\n",
    "\n",
    "# Предположим, мы хотим сгенерировать рекомендации для пользователя с исходным user_id\n",
    "user_id = 16  # Пример исходного ID пользователя\n",
    "inner_user_id = trainset.to_inner_uid(user_id)  # Преобразуем во внутренний ID\n",
    "\n",
    "# Получаем список объектов, которые пользователь уже оценил\n",
    "user_rated_items = [item for (item, _) in trainset.ur[inner_user_id]]\n",
    "\n",
    "# Генерация предсказаний для объектов, которые пользователь не оценил\n",
    "unrated_items = [item for item in items if item not in user_rated_items]\n",
    "predictions = [inference_model.predict(inner_user_id, item) for item in unrated_items]\n",
    "\n",
    "# Сортировка предсказаний по убыванию предсказанного рейтинга\n",
    "predictions.sort(key=lambda x: x.est, reverse=True)\n",
    "\n",
    "# Выбор top-N рекомендаций\n",
    "N = 100\n",
    "top_n_recommendations = predictions[:N]\n",
    "\n",
    "# Вывод рекомендаций\n",
    "print(f\"Top-{N} Recommendations for User {user_id}:\")\n",
    "for pred in top_n_recommendations:\n",
    "    print(f\"Item ID: {item_names(pred.iid)}, Predicted Rating: {pred.est}\")"
   ],
   "metadata": {
    "collapsed": false
   },
   "id": "cfabef21c914fe4f"
  },
  {
   "cell_type": "code",
   "execution_count": null,
   "outputs": [],
   "source": [
    "# Предсказания на тестовом наборе\n",
    "predictions = algo.test(testset)"
   ],
   "metadata": {
    "collapsed": false
   },
   "id": "414ea33fa59c86f9"
  },
  {
   "cell_type": "code",
   "execution_count": 30,
   "outputs": [
    {
     "name": "stdout",
     "output_type": "stream",
     "text": [
      "Precision@5: 0.9999\n",
      "Recall@5: 0.4023\n"
     ]
    }
   ],
   "source": [
    "# Расчет метрик\n",
    "precisions, recalls = precision_recall_at_k(predictions, k=1, threshold=4)\n",
    "\n",
    "# Средний precision и recall по всем пользователям\n",
    "print(f\"Precision@5: {sum(prec for prec in precisions.values()) / len(precisions):.4f}\")\n",
    "print(f\"Recall@5: {sum(rec for rec in recalls.values()) / len(recalls):.4f}\")"
   ],
   "metadata": {
    "collapsed": false,
    "ExecuteTime": {
     "end_time": "2024-03-16T21:59:56.037113Z",
     "start_time": "2024-03-16T21:59:55.836970Z"
    }
   },
   "id": "da05563b2a564a61"
  },
  {
   "cell_type": "markdown",
   "source": [
    "### Гибридная рекомендательная система"
   ],
   "metadata": {
    "collapsed": false
   },
   "id": "3a351f384125d0b0"
  },
  {
   "cell_type": "code",
   "execution_count": 7,
   "outputs": [
    {
     "name": "stdout",
     "output_type": "stream",
     "text": [
      "0:\tlearn: 0.6912048\ttotal: 319ms\tremaining: 2m 39s\n",
      "50:\tlearn: 0.6731845\ttotal: 2.93s\tremaining: 25.8s\n",
      "100:\tlearn: 0.6730446\ttotal: 4.64s\tremaining: 18.4s\n",
      "150:\tlearn: 0.6730070\ttotal: 6.48s\tremaining: 15s\n",
      "200:\tlearn: 0.6729733\ttotal: 8.38s\tremaining: 12.5s\n",
      "250:\tlearn: 0.6729341\ttotal: 10.2s\tremaining: 10.2s\n",
      "300:\tlearn: 0.6728915\ttotal: 12.2s\tremaining: 8.07s\n",
      "350:\tlearn: 0.6728334\ttotal: 14.2s\tremaining: 6.03s\n",
      "400:\tlearn: 0.6727871\ttotal: 16.2s\tremaining: 4.01s\n",
      "450:\tlearn: 0.6727398\ttotal: 18.2s\tremaining: 1.98s\n",
      "499:\tlearn: 0.6726952\ttotal: 20.2s\tremaining: 0us\n"
     ]
    },
    {
     "data": {
      "text/plain": "<catboost.core.CatBoostClassifier at 0x14a5ccd10>"
     },
     "execution_count": 7,
     "metadata": {},
     "output_type": "execute_result"
    }
   ],
   "source": [
    "from sklearn.model_selection import train_test_split\n",
    "df = visit_data.copy()\n",
    "df['name'] = df['name'].astype('category')\n",
    "df['address'] = df['address'].astype('category')\n",
    "\n",
    "# Создаем новую колонку 'place_id'\n",
    "df['place_id'] = df['name'].astype(str) + ' - ' + df['address'].astype(str)\n",
    "df['place_id'] = df['place_id'].astype('category')\n",
    "\n",
    "# Преобразование рейтингов и пола пользователя\n",
    "df['rating_class'] = (df['user_rating'] >= 4).astype(int)\n",
    "df['gender'] = df['gender'].astype('category')\n",
    "\n",
    "# Подготовка признаков и целевой переменной\n",
    "X = df[['user_id', 'age', 'gender', 'place_id']]  # Исключаем ненужные колонки\n",
    "y = df['rating_class']\n",
    "\n",
    "# CatBoost умеет работать с категориальными переменными напрямую\n",
    "cat_features = ['gender', 'place_id']\n",
    "\n",
    "# Разделение на обучающую и тестовую выборки\n",
    "X_train, X_test, y_train, y_test = train_test_split(X, y, test_size=0.2, random_state=42, shuffle=False)\n",
    "\n",
    "# Инициализация и обучение модели CatBoostClassifier\n",
    "classifier = CatBoostClassifier(iterations=500,\n",
    "                                learning_rate=0.05,\n",
    "                                depth=4,\n",
    "                                verbose=50,\n",
    "                                thread_count=-1)\n",
    "classifier.fit(X_train, y_train, cat_features=cat_features)"
   ],
   "metadata": {
    "collapsed": false,
    "ExecuteTime": {
     "end_time": "2024-03-25T21:38:37.300688Z",
     "start_time": "2024-03-25T21:38:15.745477Z"
    }
   },
   "id": "e1c62ec49fa91de0"
  },
  {
   "cell_type": "code",
   "execution_count": 8,
   "outputs": [
    {
     "data": {
      "text/plain": "455577    0\n455578    1\n455579    0\n455580    1\n455581    0\n         ..\n569467    1\n569468    1\n569469    1\n569470    1\n569471    1\nName: rating_class, Length: 113895, dtype: int64"
     },
     "execution_count": 8,
     "metadata": {},
     "output_type": "execute_result"
    }
   ],
   "source": [
    "y_test"
   ],
   "metadata": {
    "collapsed": false,
    "ExecuteTime": {
     "end_time": "2024-03-25T21:38:51.373699Z",
     "start_time": "2024-03-25T21:38:51.355521Z"
    }
   },
   "id": "7c07aede0cb0d1b6"
  },
  {
   "cell_type": "code",
   "execution_count": 20,
   "outputs": [
    {
     "name": "stdout",
     "output_type": "stream",
     "text": [
      "Average Precision (AP): 0.6007\n",
      "Precision@5: 0.6000, Recall@5: 0.9333\n"
     ]
    }
   ],
   "source": [
    "from sklearn.metrics import precision_recall_curve, average_precision_score\n",
    "import numpy as np\n",
    "\n",
    "# Предсказание вероятностей для тестовой выборки\n",
    "y_scores = classifier.predict_proba(X_test)[:, 1]\n",
    "\n",
    "# Расчет precision и recall для всех возможных порогов\n",
    "precision, recall, thresholds = precision_recall_curve(y_test, y_scores)\n",
    "\n",
    "# Расчет Average Precision (AP)\n",
    "ap_score = average_precision_score(y_test, y_scores)\n",
    "\n",
    "\n",
    "print(f'Average Precision (AP): {ap_score:.4f}')\n",
    "k = 5\n",
    "# Опционально: Найти precision и recall при конкретном k, используя пороги\n",
    "# Например, для порога, соответствующего top-k предсказаний\n",
    "threshold_k = 0.55\n",
    "precision_at_k = precision[np.searchsorted(thresholds, threshold_k)]\n",
    "recall_at_k = recall[np.searchsorted(thresholds, threshold_k)]\n",
    "\n",
    "print(f'Precision@{k}: {precision_at_k:.4f}, Recall@{k}: {recall_at_k:.4f}')"
   ],
   "metadata": {
    "collapsed": false,
    "ExecuteTime": {
     "end_time": "2024-03-25T21:41:00.240681Z",
     "start_time": "2024-03-25T21:41:00.184425Z"
    }
   },
   "id": "db389a64afbc457e"
  },
  {
   "cell_type": "code",
   "execution_count": 12,
   "outputs": [],
   "source": [
    "def prepare_inference_data(user_id, user_features, all_places):\n",
    "    \"\"\"\n",
    "    Создает DataFrame для инференса для одного пользователя с учетом всех неоцененных мест.\n",
    "    user_id: ID пользователя, для которого генерируются рекомендации\n",
    "    user_features: Демографические данные пользователя (например, возраст и пол)\n",
    "    all_places: DataFrame всех возможных мест с их информацией (включая названия и адреса)\n",
    "    Возвращает DataFrame, подходящий для модели предсказания.\n",
    "    \"\"\"\n",
    "    # Создаем список словарей, где каждый словарь соответствует одной строке в будущем DataFrame\n",
    "    data_rows = [{\n",
    "        'user_id': user_id,\n",
    "        'age': user_features['age'],\n",
    "        'gender': user_features['gender'],\n",
    "        'place_id': row['place_id']  # Используем place_id напрямую из all_places\n",
    "    } for index, row in all_places.iterrows()]\n",
    "\n",
    "    # Преобразуем список словарей в DataFrame\n",
    "    data = pd.DataFrame(data_rows)\n",
    "\n",
    "    return data\n",
    "\n",
    "# Убедитесь, что all_places содержит уникальные идентификаторы мест (place_id), включая название и адрес\n",
    "all_places = df[['place_id']].drop_duplicates()\n",
    "\n",
    "# Подготовка данных для инференса\n",
    "user_id = 16\n",
    "user_features = {'age': 25, 'gender': 'Мужской'}\n",
    "X_infer = prepare_inference_data(user_id, user_features, all_places)\n",
    "\n",
    "# Теперь X_infer должен содержать корректную структуру для инференса: \n",
    "# одна строка для каждой пары \"пользователь-место\", где место еще не оценено данным пользователем."
   ],
   "metadata": {
    "collapsed": false,
    "ExecuteTime": {
     "end_time": "2024-03-25T21:39:34.893749Z",
     "start_time": "2024-03-25T21:39:34.852006Z"
    }
   },
   "id": "1581d4b01db2787e"
  },
  {
   "cell_type": "code",
   "execution_count": 13,
   "outputs": [
    {
     "data": {
      "text/plain": "      user_id  age   gender                                           place_id\n0          16   25  Мужской  Fox - Парк Фили, Большая Филёвская улица, 22 с...\n1          16   25  Мужской  Кремлёвский - 1-я Тверская-Ямская улица, 3 ст1...\n2          16   25  Мужской  Soul Burger - Большой Сухаревский переулок, 25...\n3          16   25  Мужской  МУ-МУ - Казанский вокзал, Комсомольская площад...\n4          16   25  Мужской     Москва-Дели - Ермолаевский переулок, 7, Москва\n...       ...  ...      ...                                                ...\n2101       16   25  Мужской      Библиотека №218 - Нежинская улица, 13, Москва\n2102       16   25  Мужской   библиотека №59 - Ярославское шоссе, 6 к1, Москва\n2103       16   25  Мужской  Российская государственная библиотека - Звёздн...\n2104       16   25  Мужской    Библиотека №27 - Улица Фестивальная, 67, Москва\n2105       16   25  Мужской     Библиотека №29 - Дмитровское шоссе, 43, Москва\n\n[2106 rows x 4 columns]",
      "text/html": "<div>\n<style scoped>\n    .dataframe tbody tr th:only-of-type {\n        vertical-align: middle;\n    }\n\n    .dataframe tbody tr th {\n        vertical-align: top;\n    }\n\n    .dataframe thead th {\n        text-align: right;\n    }\n</style>\n<table border=\"1\" class=\"dataframe\">\n  <thead>\n    <tr style=\"text-align: right;\">\n      <th></th>\n      <th>user_id</th>\n      <th>age</th>\n      <th>gender</th>\n      <th>place_id</th>\n    </tr>\n  </thead>\n  <tbody>\n    <tr>\n      <th>0</th>\n      <td>16</td>\n      <td>25</td>\n      <td>Мужской</td>\n      <td>Fox - Парк Фили, Большая Филёвская улица, 22 с...</td>\n    </tr>\n    <tr>\n      <th>1</th>\n      <td>16</td>\n      <td>25</td>\n      <td>Мужской</td>\n      <td>Кремлёвский - 1-я Тверская-Ямская улица, 3 ст1...</td>\n    </tr>\n    <tr>\n      <th>2</th>\n      <td>16</td>\n      <td>25</td>\n      <td>Мужской</td>\n      <td>Soul Burger - Большой Сухаревский переулок, 25...</td>\n    </tr>\n    <tr>\n      <th>3</th>\n      <td>16</td>\n      <td>25</td>\n      <td>Мужской</td>\n      <td>МУ-МУ - Казанский вокзал, Комсомольская площад...</td>\n    </tr>\n    <tr>\n      <th>4</th>\n      <td>16</td>\n      <td>25</td>\n      <td>Мужской</td>\n      <td>Москва-Дели - Ермолаевский переулок, 7, Москва</td>\n    </tr>\n    <tr>\n      <th>...</th>\n      <td>...</td>\n      <td>...</td>\n      <td>...</td>\n      <td>...</td>\n    </tr>\n    <tr>\n      <th>2101</th>\n      <td>16</td>\n      <td>25</td>\n      <td>Мужской</td>\n      <td>Библиотека №218 - Нежинская улица, 13, Москва</td>\n    </tr>\n    <tr>\n      <th>2102</th>\n      <td>16</td>\n      <td>25</td>\n      <td>Мужской</td>\n      <td>библиотека №59 - Ярославское шоссе, 6 к1, Москва</td>\n    </tr>\n    <tr>\n      <th>2103</th>\n      <td>16</td>\n      <td>25</td>\n      <td>Мужской</td>\n      <td>Российская государственная библиотека - Звёздн...</td>\n    </tr>\n    <tr>\n      <th>2104</th>\n      <td>16</td>\n      <td>25</td>\n      <td>Мужской</td>\n      <td>Библиотека №27 - Улица Фестивальная, 67, Москва</td>\n    </tr>\n    <tr>\n      <th>2105</th>\n      <td>16</td>\n      <td>25</td>\n      <td>Мужской</td>\n      <td>Библиотека №29 - Дмитровское шоссе, 43, Москва</td>\n    </tr>\n  </tbody>\n</table>\n<p>2106 rows × 4 columns</p>\n</div>"
     },
     "execution_count": 13,
     "metadata": {},
     "output_type": "execute_result"
    }
   ],
   "source": [
    "X_infer"
   ],
   "metadata": {
    "collapsed": false,
    "ExecuteTime": {
     "end_time": "2024-03-25T21:39:35.509866Z",
     "start_time": "2024-03-25T21:39:35.496141Z"
    }
   },
   "id": "8b89215978f1f335"
  },
  {
   "cell_type": "code",
   "execution_count": 14,
   "outputs": [
    {
     "name": "stdout",
     "output_type": "stream",
     "text": [
      "Топ-100 рекомендаций для пользователя с ID 16:\n",
      "                                              place_id  probability\n",
      "304               Ra`men - Пятницкая улица, 45, Москва     0.646056\n",
      "17     Beverly hills diner - Улица Сретенка, 1, Москва     0.644939\n",
      "281  Petruccio. Pizza&pasta - РЦ Высота, улица Юных...     0.642595\n",
      "231  Live stars - Красный Октябрь, Берсеневский пер...     0.640918\n",
      "477         Молодежь - Сущёвская улица, 21 ст8, Москва     0.640697\n",
      "..                                                 ...          ...\n",
      "353                Anima - Сущёвская улица, 21, Москва     0.623944\n",
      "286  Royal estate - ТЦ Estate mall, деревня Обушков...     0.623944\n",
      "248  Luxor - Посёлок Развилка, ст10, Ленинский горо...     0.623944\n",
      "185  Вираж - Центральная улица, 98, д. Осеево, Лоси...     0.623944\n",
      "77   Polyanka bar&kitchen - Улица Большая Полянка, ...     0.623944\n",
      "\n",
      "[100 rows x 2 columns]\n"
     ]
    }
   ],
   "source": [
    "# Предполагается, что X_infer - это DataFrame, подготовленный для инференса,\n",
    "# и predictions - массив вероятностей положительного класса для каждого места\n",
    "predictions = classifier.predict_proba(X_infer)[:, 1]\n",
    "# Добавляем вероятности как новый столбец в X_infer\n",
    "X_infer['probability'] = predictions\n",
    "\n",
    "# Сортируем места по убыванию вероятности\n",
    "X_infer_sorted = X_infer.sort_values(by='probability', ascending=False)\n",
    "\n",
    "# Выбираем топ-N мест\n",
    "N = 100\n",
    "top_n_recommendations = X_infer_sorted.head(N)\n",
    "\n",
    "# Выводим топ-N рекомендаций\n",
    "print(\"Топ-{} рекомендаций для пользователя с ID {}:\".format(N, user_id))\n",
    "print(top_n_recommendations[['place_id', 'probability']])"
   ],
   "metadata": {
    "collapsed": false,
    "ExecuteTime": {
     "end_time": "2024-03-25T21:39:36.055751Z",
     "start_time": "2024-03-25T21:39:36.032394Z"
    }
   },
   "id": "471bfdc01178507c"
  },
  {
   "cell_type": "code",
   "execution_count": 15,
   "outputs": [
    {
     "data": {
      "text/plain": "     user_id  age   gender             name  \\\n94        16   19  Мужской              Нах   \n95        16   19  Мужской         Петрович   \n96        16   19  Мужской            Весна   \n97        16   19  Мужской          Танzпол   \n98        16   19  Мужской  Geisha Superman   \n99        16   19  Мужской            Happy   \n100       16   19  Мужской          The Бык   \n101       16   19  Мужской  Twenty One Club   \n\n                                               address       pos1       pos2  \\\n94                           Тверская улица, 9, Москва  37.611009  55.759413   \n95                     Улица Мясницкая, 24 ст3, Москва  37.635206  55.762667   \n96   ТЦ Московский, Московский бульвар, 1а, Балаших...  37.960486  55.825886   \n97    Шараповская улица, 7, Мытищи, Московская область  37.751242  55.915195   \n98                  Улица Малая Бронная, 2 ст1, Москва  37.598300  55.759026   \n99   Ансамбль Миусского трамвайного депо, улица Лес...  37.593084  55.780218   \n100          ТДЦ ВЭБ.РФ, Новинский бульвар, 31, Москва  37.582520  55.757830   \n101  БЦ Обновление Арбата, улица Новый Арбат, 21, М...  37.586733  55.751924   \n\n     user_rating  visited  viewed_detail  \n94             5        0              0  \n95             5        0              0  \n96             5        0              0  \n97             4        0              0  \n98             3        0              0  \n99             5        1              1  \n100            4        0              0  \n101            5        0              0  ",
      "text/html": "<div>\n<style scoped>\n    .dataframe tbody tr th:only-of-type {\n        vertical-align: middle;\n    }\n\n    .dataframe tbody tr th {\n        vertical-align: top;\n    }\n\n    .dataframe thead th {\n        text-align: right;\n    }\n</style>\n<table border=\"1\" class=\"dataframe\">\n  <thead>\n    <tr style=\"text-align: right;\">\n      <th></th>\n      <th>user_id</th>\n      <th>age</th>\n      <th>gender</th>\n      <th>name</th>\n      <th>address</th>\n      <th>pos1</th>\n      <th>pos2</th>\n      <th>user_rating</th>\n      <th>visited</th>\n      <th>viewed_detail</th>\n    </tr>\n  </thead>\n  <tbody>\n    <tr>\n      <th>94</th>\n      <td>16</td>\n      <td>19</td>\n      <td>Мужской</td>\n      <td>Нах</td>\n      <td>Тверская улица, 9, Москва</td>\n      <td>37.611009</td>\n      <td>55.759413</td>\n      <td>5</td>\n      <td>0</td>\n      <td>0</td>\n    </tr>\n    <tr>\n      <th>95</th>\n      <td>16</td>\n      <td>19</td>\n      <td>Мужской</td>\n      <td>Петрович</td>\n      <td>Улица Мясницкая, 24 ст3, Москва</td>\n      <td>37.635206</td>\n      <td>55.762667</td>\n      <td>5</td>\n      <td>0</td>\n      <td>0</td>\n    </tr>\n    <tr>\n      <th>96</th>\n      <td>16</td>\n      <td>19</td>\n      <td>Мужской</td>\n      <td>Весна</td>\n      <td>ТЦ Московский, Московский бульвар, 1а, Балаших...</td>\n      <td>37.960486</td>\n      <td>55.825886</td>\n      <td>5</td>\n      <td>0</td>\n      <td>0</td>\n    </tr>\n    <tr>\n      <th>97</th>\n      <td>16</td>\n      <td>19</td>\n      <td>Мужской</td>\n      <td>Танzпол</td>\n      <td>Шараповская улица, 7, Мытищи, Московская область</td>\n      <td>37.751242</td>\n      <td>55.915195</td>\n      <td>4</td>\n      <td>0</td>\n      <td>0</td>\n    </tr>\n    <tr>\n      <th>98</th>\n      <td>16</td>\n      <td>19</td>\n      <td>Мужской</td>\n      <td>Geisha Superman</td>\n      <td>Улица Малая Бронная, 2 ст1, Москва</td>\n      <td>37.598300</td>\n      <td>55.759026</td>\n      <td>3</td>\n      <td>0</td>\n      <td>0</td>\n    </tr>\n    <tr>\n      <th>99</th>\n      <td>16</td>\n      <td>19</td>\n      <td>Мужской</td>\n      <td>Happy</td>\n      <td>Ансамбль Миусского трамвайного депо, улица Лес...</td>\n      <td>37.593084</td>\n      <td>55.780218</td>\n      <td>5</td>\n      <td>1</td>\n      <td>1</td>\n    </tr>\n    <tr>\n      <th>100</th>\n      <td>16</td>\n      <td>19</td>\n      <td>Мужской</td>\n      <td>The Бык</td>\n      <td>ТДЦ ВЭБ.РФ, Новинский бульвар, 31, Москва</td>\n      <td>37.582520</td>\n      <td>55.757830</td>\n      <td>4</td>\n      <td>0</td>\n      <td>0</td>\n    </tr>\n    <tr>\n      <th>101</th>\n      <td>16</td>\n      <td>19</td>\n      <td>Мужской</td>\n      <td>Twenty One Club</td>\n      <td>БЦ Обновление Арбата, улица Новый Арбат, 21, М...</td>\n      <td>37.586733</td>\n      <td>55.751924</td>\n      <td>5</td>\n      <td>0</td>\n      <td>0</td>\n    </tr>\n  </tbody>\n</table>\n</div>"
     },
     "execution_count": 15,
     "metadata": {},
     "output_type": "execute_result"
    }
   ],
   "source": [
    "visit_data[visit_data['user_id']==16]"
   ],
   "metadata": {
    "collapsed": false,
    "ExecuteTime": {
     "end_time": "2024-03-25T21:39:36.793413Z",
     "start_time": "2024-03-25T21:39:36.780146Z"
    }
   },
   "id": "a813d067b11e77fb"
  },
  {
   "cell_type": "code",
   "execution_count": 16,
   "outputs": [
    {
     "data": {
      "text/plain": "<catboost.core.CatBoostClassifier at 0x14a5ccd10>"
     },
     "execution_count": 16,
     "metadata": {},
     "output_type": "execute_result"
    }
   ],
   "source": [
    "classifier"
   ],
   "metadata": {
    "collapsed": false,
    "ExecuteTime": {
     "end_time": "2024-03-25T21:39:37.380996Z",
     "start_time": "2024-03-25T21:39:37.367825Z"
    }
   },
   "id": "53d540e8f892d088"
  },
  {
   "cell_type": "code",
   "execution_count": 17,
   "outputs": [],
   "source": [
    "import pickle\n",
    "with open('model.pkl', 'wb') as f:\n",
    "    pickle.dump(classifier, f)"
   ],
   "metadata": {
    "collapsed": false,
    "ExecuteTime": {
     "end_time": "2024-03-25T21:39:37.896486Z",
     "start_time": "2024-03-25T21:39:37.860017Z"
    }
   },
   "id": "41932c50d5cd8c66"
  },
  {
   "cell_type": "markdown",
   "source": [
    "# Реализация финального подхода- совмещение SVD и CatBoost. Подготовка модели для инференса(обучение модели на всем наборе данных, без деления на test/train)"
   ],
   "metadata": {
    "collapsed": false
   },
   "id": "98c32fd38fac0cce"
  },
  {
   "cell_type": "code",
   "execution_count": 1,
   "outputs": [
    {
     "name": "stderr",
     "output_type": "stream",
     "text": [
      "C:\\Users\\ASUS\\anaconda3\\lib\\site-packages\\xgboost\\compat.py:36: FutureWarning: pandas.Int64Index is deprecated and will be removed from pandas in a future version. Use pandas.Index with the appropriate dtype instead.\n",
      "  from pandas import MultiIndex, Int64Index\n"
     ]
    }
   ],
   "source": [
    "import pandas as pd\n",
    "from surprise import SVD, Dataset, Reader\n",
    "from catboost import CatBoostClassifier, Pool"
   ],
   "metadata": {
    "collapsed": false,
    "ExecuteTime": {
     "end_time": "2024-04-20T15:08:56.658860100Z",
     "start_time": "2024-04-20T15:08:54.241015Z"
    }
   },
   "id": "b1636fea8d834051"
  },
  {
   "cell_type": "code",
   "execution_count": 47,
   "outputs": [
    {
     "name": "stdout",
     "output_type": "stream",
     "text": [
      "<class 'pandas.core.frame.DataFrame'>\n",
      "RangeIndex: 569472 entries, 0 to 569471\n",
      "Data columns (total 8 columns):\n",
      " #   Column       Non-Null Count   Dtype  \n",
      "---  ------       --------------   -----  \n",
      " 0   user_id      569472 non-null  int64  \n",
      " 1   age          569472 non-null  int64  \n",
      " 2   gender       569472 non-null  object \n",
      " 3   name         569472 non-null  object \n",
      " 4   address      569472 non-null  object \n",
      " 5   pos1         569472 non-null  float64\n",
      " 6   pos2         569472 non-null  float64\n",
      " 7   user_rating  569472 non-null  int64  \n",
      "dtypes: float64(2), int64(3), object(3)\n",
      "memory usage: 34.8+ MB\n"
     ]
    }
   ],
   "source": [
    "tmp = pd.read_parquet('visit_data.parquet')\n",
    "tmp.info()"
   ],
   "metadata": {
    "collapsed": false,
    "ExecuteTime": {
     "end_time": "2024-04-20T15:26:14.383803300Z",
     "start_time": "2024-04-20T15:26:12.561170Z"
    }
   },
   "id": "4125bd967dd58265"
  },
  {
   "cell_type": "code",
   "execution_count": 48,
   "outputs": [],
   "source": [
    "# Загрузка данных\n",
    "data_visit = pd.read_parquet('visits_full.parquet')\n",
    "data_places = pd.read_parquet('places_full.parquet')\n",
    "data_users = pd.read_parquet('users_full.parquet')"
   ],
   "metadata": {
    "collapsed": false,
    "ExecuteTime": {
     "end_time": "2024-04-20T15:26:35.085343800Z",
     "start_time": "2024-04-20T15:26:29.829711900Z"
    }
   },
   "id": "130d241b675c0de8"
  },
  {
   "cell_type": "code",
   "execution_count": 49,
   "outputs": [
    {
     "name": "stdout",
     "output_type": "stream",
     "text": [
      "<class 'pandas.core.frame.DataFrame'>\n",
      "RangeIndex: 569472 entries, 0 to 569471\n",
      "Data columns (total 4 columns):\n",
      " #   Column       Non-Null Count   Dtype \n",
      "---  ------       --------------   ----- \n",
      " 0   id           569472 non-null  int64 \n",
      " 1   user_id      569472 non-null  object\n",
      " 2   place_id     569472 non-null  int64 \n",
      " 3   user_rating  569472 non-null  int64 \n",
      "dtypes: int64(3), object(1)\n",
      "memory usage: 17.4+ MB\n"
     ]
    }
   ],
   "source": [
    "data_visit.info()"
   ],
   "metadata": {
    "collapsed": false,
    "ExecuteTime": {
     "end_time": "2024-04-20T15:26:54.299746600Z",
     "start_time": "2024-04-20T15:26:54.148693200Z"
    }
   },
   "id": "d12e2930eb2ad15a"
  },
  {
   "cell_type": "code",
   "execution_count": 50,
   "outputs": [
    {
     "name": "stdout",
     "output_type": "stream",
     "text": [
      "Index(['id', 'category', 'subcategory', 'name', 'address', 'rating',\n",
      "       'reviews_count', 'pos1', 'pos2'],\n",
      "      dtype='object')\n",
      "Index(['id', 'age', 'gender'], dtype='object')\n",
      "Index(['id', 'user_id', 'place_id', 'user_rating'], dtype='object')\n"
     ]
    }
   ],
   "source": [
    "print(data_places.columns)\n",
    "print(data_users.columns)\n",
    "print(data_visit.columns)"
   ],
   "metadata": {
    "collapsed": false,
    "ExecuteTime": {
     "end_time": "2024-04-20T15:26:55.131161Z",
     "start_time": "2024-04-20T15:26:55.059997500Z"
    }
   },
   "id": "eddfbb09ca0a99b8"
  },
  {
   "cell_type": "code",
   "execution_count": 51,
   "outputs": [],
   "source": [
    "data_visit = data_visit.drop('id',axis=1)"
   ],
   "metadata": {
    "collapsed": false,
    "ExecuteTime": {
     "end_time": "2024-04-20T15:26:56.234100Z",
     "start_time": "2024-04-20T15:26:56.175143700Z"
    }
   },
   "id": "122cd5d6c881436b"
  },
  {
   "cell_type": "code",
   "execution_count": 52,
   "outputs": [
    {
     "data": {
      "text/plain": "       user_id  place_id  user_rating\n0            1       353            5\n1            1       183            2\n2            1       233            5\n3            2         1            3\n4            2       414            5\n...        ...       ...          ...\n569467   99999     12313            4\n569468   99999      2486            5\n569469  100000     65770            5\n569470  100000     12343            5\n569471  100000     12261            4\n\n[569472 rows x 3 columns]",
      "text/html": "<div>\n<style scoped>\n    .dataframe tbody tr th:only-of-type {\n        vertical-align: middle;\n    }\n\n    .dataframe tbody tr th {\n        vertical-align: top;\n    }\n\n    .dataframe thead th {\n        text-align: right;\n    }\n</style>\n<table border=\"1\" class=\"dataframe\">\n  <thead>\n    <tr style=\"text-align: right;\">\n      <th></th>\n      <th>user_id</th>\n      <th>place_id</th>\n      <th>user_rating</th>\n    </tr>\n  </thead>\n  <tbody>\n    <tr>\n      <th>0</th>\n      <td>1</td>\n      <td>353</td>\n      <td>5</td>\n    </tr>\n    <tr>\n      <th>1</th>\n      <td>1</td>\n      <td>183</td>\n      <td>2</td>\n    </tr>\n    <tr>\n      <th>2</th>\n      <td>1</td>\n      <td>233</td>\n      <td>5</td>\n    </tr>\n    <tr>\n      <th>3</th>\n      <td>2</td>\n      <td>1</td>\n      <td>3</td>\n    </tr>\n    <tr>\n      <th>4</th>\n      <td>2</td>\n      <td>414</td>\n      <td>5</td>\n    </tr>\n    <tr>\n      <th>...</th>\n      <td>...</td>\n      <td>...</td>\n      <td>...</td>\n    </tr>\n    <tr>\n      <th>569467</th>\n      <td>99999</td>\n      <td>12313</td>\n      <td>4</td>\n    </tr>\n    <tr>\n      <th>569468</th>\n      <td>99999</td>\n      <td>2486</td>\n      <td>5</td>\n    </tr>\n    <tr>\n      <th>569469</th>\n      <td>100000</td>\n      <td>65770</td>\n      <td>5</td>\n    </tr>\n    <tr>\n      <th>569470</th>\n      <td>100000</td>\n      <td>12343</td>\n      <td>5</td>\n    </tr>\n    <tr>\n      <th>569471</th>\n      <td>100000</td>\n      <td>12261</td>\n      <td>4</td>\n    </tr>\n  </tbody>\n</table>\n<p>569472 rows × 3 columns</p>\n</div>"
     },
     "execution_count": 52,
     "metadata": {},
     "output_type": "execute_result"
    }
   ],
   "source": [
    "data_visit"
   ],
   "metadata": {
    "collapsed": false,
    "ExecuteTime": {
     "end_time": "2024-04-20T15:26:56.837855600Z",
     "start_time": "2024-04-20T15:26:56.750923200Z"
    }
   },
   "id": "1b3079d8b795831b"
  },
  {
   "cell_type": "code",
   "execution_count": 53,
   "outputs": [],
   "source": [
    "data_places.rename(columns={'id':'place_id'},inplace=True)"
   ],
   "metadata": {
    "collapsed": false,
    "ExecuteTime": {
     "end_time": "2024-04-20T15:26:57.612620Z",
     "start_time": "2024-04-20T15:26:57.526840100Z"
    }
   },
   "id": "d1b3edf2699019e7"
  },
  {
   "cell_type": "code",
   "execution_count": 54,
   "outputs": [],
   "source": [
    "data = data_visit.merge(data_places,how='left',on='place_id')"
   ],
   "metadata": {
    "collapsed": false,
    "ExecuteTime": {
     "end_time": "2024-04-20T15:26:58.361141600Z",
     "start_time": "2024-04-20T15:26:58.147007800Z"
    }
   },
   "id": "efd35bbf7f072ec"
  },
  {
   "cell_type": "code",
   "execution_count": 55,
   "outputs": [
    {
     "data": {
      "text/plain": "  user_id  place_id  user_rating category subcategory         name  \\\n0       1       353            5   Поесть        Кафе          Fox   \n1       1       183            2   Поесть        Кафе  Кремлёвский   \n2       1       233            5   Поесть        Кафе  Soul Burger   \n3       2         1            3   Поесть        Кафе        МУ-МУ   \n4       2       414            5   Поесть        Кафе  Москва-Дели   \n\n                                             address  rating reviews_count  \\\n0  Парк Фили, Большая Филёвская улица, 22 ст16а, ...     4.8   5180 оценок   \n1           1-я Тверская-Ямская улица, 3 ст1, Москва     4.6    267 оценок   \n2       Большой Сухаревский переулок, 25 ст1, Москва     2.6    144 оценки   \n3       Охотный ряд, Манежная площадь, 1 ст2, Москва     4.6    894 оценки   \n4                   Ермолаевский переулок, 7, Москва     4.7     48 оценок   \n\n        pos1       pos2  \n0  37.490661  55.750929  \n1  37.594379  55.770681  \n2  37.632115  55.770884  \n3  37.615036  55.755489  \n4  37.590505  55.764352  ",
      "text/html": "<div>\n<style scoped>\n    .dataframe tbody tr th:only-of-type {\n        vertical-align: middle;\n    }\n\n    .dataframe tbody tr th {\n        vertical-align: top;\n    }\n\n    .dataframe thead th {\n        text-align: right;\n    }\n</style>\n<table border=\"1\" class=\"dataframe\">\n  <thead>\n    <tr style=\"text-align: right;\">\n      <th></th>\n      <th>user_id</th>\n      <th>place_id</th>\n      <th>user_rating</th>\n      <th>category</th>\n      <th>subcategory</th>\n      <th>name</th>\n      <th>address</th>\n      <th>rating</th>\n      <th>reviews_count</th>\n      <th>pos1</th>\n      <th>pos2</th>\n    </tr>\n  </thead>\n  <tbody>\n    <tr>\n      <th>0</th>\n      <td>1</td>\n      <td>353</td>\n      <td>5</td>\n      <td>Поесть</td>\n      <td>Кафе</td>\n      <td>Fox</td>\n      <td>Парк Фили, Большая Филёвская улица, 22 ст16а, ...</td>\n      <td>4.8</td>\n      <td>5180 оценок</td>\n      <td>37.490661</td>\n      <td>55.750929</td>\n    </tr>\n    <tr>\n      <th>1</th>\n      <td>1</td>\n      <td>183</td>\n      <td>2</td>\n      <td>Поесть</td>\n      <td>Кафе</td>\n      <td>Кремлёвский</td>\n      <td>1-я Тверская-Ямская улица, 3 ст1, Москва</td>\n      <td>4.6</td>\n      <td>267 оценок</td>\n      <td>37.594379</td>\n      <td>55.770681</td>\n    </tr>\n    <tr>\n      <th>2</th>\n      <td>1</td>\n      <td>233</td>\n      <td>5</td>\n      <td>Поесть</td>\n      <td>Кафе</td>\n      <td>Soul Burger</td>\n      <td>Большой Сухаревский переулок, 25 ст1, Москва</td>\n      <td>2.6</td>\n      <td>144 оценки</td>\n      <td>37.632115</td>\n      <td>55.770884</td>\n    </tr>\n    <tr>\n      <th>3</th>\n      <td>2</td>\n      <td>1</td>\n      <td>3</td>\n      <td>Поесть</td>\n      <td>Кафе</td>\n      <td>МУ-МУ</td>\n      <td>Охотный ряд, Манежная площадь, 1 ст2, Москва</td>\n      <td>4.6</td>\n      <td>894 оценки</td>\n      <td>37.615036</td>\n      <td>55.755489</td>\n    </tr>\n    <tr>\n      <th>4</th>\n      <td>2</td>\n      <td>414</td>\n      <td>5</td>\n      <td>Поесть</td>\n      <td>Кафе</td>\n      <td>Москва-Дели</td>\n      <td>Ермолаевский переулок, 7, Москва</td>\n      <td>4.7</td>\n      <td>48 оценок</td>\n      <td>37.590505</td>\n      <td>55.764352</td>\n    </tr>\n  </tbody>\n</table>\n</div>"
     },
     "execution_count": 55,
     "metadata": {},
     "output_type": "execute_result"
    }
   ],
   "source": [
    "data.head()"
   ],
   "metadata": {
    "collapsed": false,
    "ExecuteTime": {
     "end_time": "2024-04-20T15:26:58.766427800Z",
     "start_time": "2024-04-20T15:26:58.661077900Z"
    }
   },
   "id": "e84d63e3c79ce0c"
  },
  {
   "cell_type": "code",
   "execution_count": 56,
   "outputs": [],
   "source": [
    "data_users = data_users.rename(columns={'id':'user_id'})"
   ],
   "metadata": {
    "collapsed": false,
    "ExecuteTime": {
     "end_time": "2024-04-20T15:27:00.343538400Z",
     "start_time": "2024-04-20T15:27:00.211898500Z"
    }
   },
   "id": "b32641970f64e728"
  },
  {
   "cell_type": "code",
   "execution_count": 57,
   "outputs": [],
   "source": [
    "data = data.merge(data_users,how='left',on='user_id')"
   ],
   "metadata": {
    "collapsed": false,
    "ExecuteTime": {
     "end_time": "2024-04-20T15:27:02.492275700Z",
     "start_time": "2024-04-20T15:27:01.152088400Z"
    }
   },
   "id": "ecd49fd18f7d25d0"
  },
  {
   "cell_type": "code",
   "execution_count": 59,
   "outputs": [],
   "source": [
    "data.head().to_csv('data_visit_20.csv')"
   ],
   "metadata": {
    "collapsed": false,
    "ExecuteTime": {
     "end_time": "2024-04-20T15:27:18.117982200Z",
     "start_time": "2024-04-20T15:27:18.042937600Z"
    }
   },
   "id": "cb393a5cc8d888bf"
  },
  {
   "cell_type": "code",
   "execution_count": 60,
   "outputs": [
    {
     "name": "stderr",
     "output_type": "stream",
     "text": [
      "C:\\Users\\ASUS\\AppData\\Local\\Temp\\ipykernel_67064\\812377277.py:51: SettingWithCopyWarning: \n",
      "A value is trying to be set on a copy of a slice from a DataFrame.\n",
      "Try using .loc[row_indexer,col_indexer] = value instead\n",
      "\n",
      "See the caveats in the documentation: https://pandas.pydata.org/pandas-docs/stable/user_guide/indexing.html#returning-a-view-versus-a-copy\n",
      "  X['gender'] = X['gender'].map({'Мужской': 0, 'Женский': 1})\n",
      "C:\\Users\\ASUS\\AppData\\Local\\Temp\\ipykernel_67064\\812377277.py:52: SettingWithCopyWarning: \n",
      "A value is trying to be set on a copy of a slice from a DataFrame.\n",
      "Try using .loc[row_indexer,col_indexer] = value instead\n",
      "\n",
      "See the caveats in the documentation: https://pandas.pydata.org/pandas-docs/stable/user_guide/indexing.html#returning-a-view-versus-a-copy\n",
      "  X['category'] = X['category'].astype('category').cat.codes\n",
      "C:\\Users\\ASUS\\AppData\\Local\\Temp\\ipykernel_67064\\812377277.py:53: SettingWithCopyWarning: \n",
      "A value is trying to be set on a copy of a slice from a DataFrame.\n",
      "Try using .loc[row_indexer,col_indexer] = value instead\n",
      "\n",
      "See the caveats in the documentation: https://pandas.pydata.org/pandas-docs/stable/user_guide/indexing.html#returning-a-view-versus-a-copy\n",
      "  X['subcategory'] = X['subcategory'].astype('category').cat.codes\n"
     ]
    },
    {
     "name": "stdout",
     "output_type": "stream",
     "text": [
      "0:\tlearn: 1.5807237\ttotal: 753ms\tremaining: 1m 14s\n",
      "1:\tlearn: 1.5585592\ttotal: 1.08s\tremaining: 53.2s\n",
      "2:\tlearn: 1.5411722\ttotal: 1.61s\tremaining: 52s\n",
      "3:\tlearn: 1.5273604\ttotal: 2.04s\tremaining: 49s\n",
      "4:\tlearn: 1.5162919\ttotal: 2.57s\tremaining: 48.8s\n",
      "5:\tlearn: 1.5073598\ttotal: 3.21s\tremaining: 50.4s\n",
      "6:\tlearn: 1.5001349\ttotal: 3.68s\tremaining: 48.9s\n",
      "7:\tlearn: 1.4942733\ttotal: 4.08s\tremaining: 47s\n",
      "8:\tlearn: 1.4894701\ttotal: 4.47s\tremaining: 45.3s\n",
      "9:\tlearn: 1.4855571\ttotal: 4.84s\tremaining: 43.6s\n",
      "10:\tlearn: 1.4823502\ttotal: 5.32s\tremaining: 43s\n",
      "11:\tlearn: 1.4797048\ttotal: 5.75s\tremaining: 42.2s\n",
      "12:\tlearn: 1.4775406\ttotal: 6.12s\tremaining: 41s\n",
      "13:\tlearn: 1.4757647\ttotal: 6.51s\tremaining: 40s\n",
      "14:\tlearn: 1.4742952\ttotal: 6.88s\tremaining: 39s\n",
      "15:\tlearn: 1.4730732\ttotal: 7.33s\tremaining: 38.5s\n",
      "16:\tlearn: 1.4720672\ttotal: 7.79s\tremaining: 38s\n",
      "17:\tlearn: 1.4712586\ttotal: 8.14s\tremaining: 37.1s\n",
      "18:\tlearn: 1.4705318\ttotal: 8.56s\tremaining: 36.5s\n",
      "19:\tlearn: 1.4699792\ttotal: 8.98s\tremaining: 35.9s\n",
      "20:\tlearn: 1.4694631\ttotal: 9.45s\tremaining: 35.6s\n",
      "21:\tlearn: 1.4690299\ttotal: 9.85s\tremaining: 34.9s\n",
      "22:\tlearn: 1.4686973\ttotal: 10.3s\tremaining: 34.4s\n",
      "23:\tlearn: 1.4683843\ttotal: 10.7s\tremaining: 34s\n",
      "24:\tlearn: 1.4681465\ttotal: 11.1s\tremaining: 33.3s\n",
      "25:\tlearn: 1.4679199\ttotal: 11.5s\tremaining: 32.7s\n",
      "26:\tlearn: 1.4677234\ttotal: 12s\tremaining: 32.3s\n",
      "27:\tlearn: 1.4675277\ttotal: 12.4s\tremaining: 31.9s\n",
      "28:\tlearn: 1.4673848\ttotal: 12.8s\tremaining: 31.4s\n",
      "29:\tlearn: 1.4672236\ttotal: 13.4s\tremaining: 31.2s\n",
      "30:\tlearn: 1.4670691\ttotal: 13.8s\tremaining: 30.7s\n",
      "31:\tlearn: 1.4669512\ttotal: 14.4s\tremaining: 30.5s\n",
      "32:\tlearn: 1.4668164\ttotal: 14.8s\tremaining: 30.1s\n",
      "33:\tlearn: 1.4666962\ttotal: 15.3s\tremaining: 29.7s\n",
      "34:\tlearn: 1.4665982\ttotal: 15.8s\tremaining: 29.4s\n",
      "35:\tlearn: 1.4665173\ttotal: 16.2s\tremaining: 28.8s\n",
      "36:\tlearn: 1.4664023\ttotal: 16.6s\tremaining: 28.3s\n",
      "37:\tlearn: 1.4662928\ttotal: 17s\tremaining: 27.7s\n",
      "38:\tlearn: 1.4662178\ttotal: 17.4s\tremaining: 27.2s\n",
      "39:\tlearn: 1.4661321\ttotal: 17.8s\tremaining: 26.7s\n",
      "40:\tlearn: 1.4660443\ttotal: 18.2s\tremaining: 26.1s\n",
      "41:\tlearn: 1.4659553\ttotal: 18.5s\tremaining: 25.6s\n",
      "42:\tlearn: 1.4658685\ttotal: 19s\tremaining: 25.2s\n",
      "43:\tlearn: 1.4657611\ttotal: 19.3s\tremaining: 24.6s\n",
      "44:\tlearn: 1.4656912\ttotal: 19.7s\tremaining: 24.1s\n",
      "45:\tlearn: 1.4656328\ttotal: 20.1s\tremaining: 23.6s\n",
      "46:\tlearn: 1.4655197\ttotal: 20.6s\tremaining: 23.2s\n",
      "47:\tlearn: 1.4654486\ttotal: 20.9s\tremaining: 22.7s\n",
      "48:\tlearn: 1.4653803\ttotal: 21.4s\tremaining: 22.3s\n",
      "49:\tlearn: 1.4652850\ttotal: 21.7s\tremaining: 21.7s\n",
      "50:\tlearn: 1.4652061\ttotal: 22.2s\tremaining: 21.3s\n",
      "51:\tlearn: 1.4651460\ttotal: 22.6s\tremaining: 20.8s\n",
      "52:\tlearn: 1.4650521\ttotal: 23s\tremaining: 20.4s\n",
      "53:\tlearn: 1.4649639\ttotal: 23.4s\tremaining: 19.9s\n",
      "54:\tlearn: 1.4648787\ttotal: 23.9s\tremaining: 19.5s\n",
      "55:\tlearn: 1.4647921\ttotal: 24.2s\tremaining: 19s\n",
      "56:\tlearn: 1.4647020\ttotal: 24.6s\tremaining: 18.6s\n",
      "57:\tlearn: 1.4646066\ttotal: 25s\tremaining: 18.1s\n",
      "58:\tlearn: 1.4645205\ttotal: 25.4s\tremaining: 17.6s\n",
      "59:\tlearn: 1.4644473\ttotal: 25.7s\tremaining: 17.1s\n",
      "60:\tlearn: 1.4643496\ttotal: 26.1s\tremaining: 16.7s\n",
      "61:\tlearn: 1.4642601\ttotal: 26.5s\tremaining: 16.2s\n",
      "62:\tlearn: 1.4641510\ttotal: 26.9s\tremaining: 15.8s\n",
      "63:\tlearn: 1.4640542\ttotal: 27.3s\tremaining: 15.4s\n",
      "64:\tlearn: 1.4639719\ttotal: 27.7s\tremaining: 14.9s\n",
      "65:\tlearn: 1.4639017\ttotal: 28.1s\tremaining: 14.5s\n",
      "66:\tlearn: 1.4638293\ttotal: 28.6s\tremaining: 14.1s\n",
      "67:\tlearn: 1.4637743\ttotal: 29s\tremaining: 13.6s\n",
      "68:\tlearn: 1.4636908\ttotal: 29.4s\tremaining: 13.2s\n",
      "69:\tlearn: 1.4636196\ttotal: 29.8s\tremaining: 12.8s\n",
      "70:\tlearn: 1.4635355\ttotal: 30.2s\tremaining: 12.3s\n",
      "71:\tlearn: 1.4634602\ttotal: 30.6s\tremaining: 11.9s\n",
      "72:\tlearn: 1.4633898\ttotal: 31s\tremaining: 11.5s\n",
      "73:\tlearn: 1.4633185\ttotal: 31.4s\tremaining: 11s\n",
      "74:\tlearn: 1.4632355\ttotal: 31.8s\tremaining: 10.6s\n",
      "75:\tlearn: 1.4631619\ttotal: 32.1s\tremaining: 10.1s\n",
      "76:\tlearn: 1.4631009\ttotal: 32.5s\tremaining: 9.7s\n",
      "77:\tlearn: 1.4630237\ttotal: 32.9s\tremaining: 9.28s\n",
      "78:\tlearn: 1.4629437\ttotal: 33.3s\tremaining: 8.86s\n",
      "79:\tlearn: 1.4628369\ttotal: 33.7s\tremaining: 8.44s\n",
      "80:\tlearn: 1.4627437\ttotal: 34.2s\tremaining: 8.03s\n",
      "81:\tlearn: 1.4626858\ttotal: 34.6s\tremaining: 7.59s\n",
      "82:\tlearn: 1.4626387\ttotal: 35s\tremaining: 7.17s\n",
      "83:\tlearn: 1.4625584\ttotal: 35.4s\tremaining: 6.74s\n",
      "84:\tlearn: 1.4624804\ttotal: 35.9s\tremaining: 6.33s\n",
      "85:\tlearn: 1.4623703\ttotal: 36.3s\tremaining: 5.91s\n",
      "86:\tlearn: 1.4622969\ttotal: 36.7s\tremaining: 5.49s\n",
      "87:\tlearn: 1.4622220\ttotal: 37.3s\tremaining: 5.09s\n",
      "88:\tlearn: 1.4621448\ttotal: 38s\tremaining: 4.69s\n",
      "89:\tlearn: 1.4620781\ttotal: 38.6s\tremaining: 4.29s\n",
      "90:\tlearn: 1.4619668\ttotal: 39.3s\tremaining: 3.88s\n",
      "91:\tlearn: 1.4618656\ttotal: 39.7s\tremaining: 3.45s\n",
      "92:\tlearn: 1.4617768\ttotal: 40.1s\tremaining: 3.02s\n",
      "93:\tlearn: 1.4616921\ttotal: 40.8s\tremaining: 2.6s\n",
      "94:\tlearn: 1.4616115\ttotal: 41.3s\tremaining: 2.18s\n",
      "95:\tlearn: 1.4615180\ttotal: 41.9s\tremaining: 1.75s\n",
      "96:\tlearn: 1.4614009\ttotal: 42.7s\tremaining: 1.32s\n",
      "97:\tlearn: 1.4613261\ttotal: 43.4s\tremaining: 885ms\n",
      "98:\tlearn: 1.4612510\ttotal: 44.2s\tremaining: 446ms\n",
      "99:\tlearn: 1.4611906\ttotal: 44.8s\tremaining: 0us\n"
     ]
    }
   ],
   "source": [
    "# Подготовка данных для обучения SVD\n",
    "ratings_data = data[['user_id', 'place_id', 'user_rating']]\n",
    "ratings_data.columns = ['user_id', 'place_id', 'rating']\n",
    "\n",
    "# Обучение модели SVD\n",
    "def train_svd(ratings_data):\n",
    "    reader = Reader(rating_scale=(1, 5))\n",
    "    data = Dataset.load_from_df(ratings_data[['user_id', 'place_id', 'rating']], reader)\n",
    "\n",
    "    algo = SVD()\n",
    "    trainset = data.build_full_trainset()\n",
    "    algo.fit(trainset)\n",
    "\n",
    "    user_embeddings = algo.pu\n",
    "    place_embeddings = algo.qi\n",
    "\n",
    "    return user_embeddings, place_embeddings\n",
    "\n",
    "user_embeddings, place_embeddings = train_svd(ratings_data)\n",
    "\n",
    "# Подготовка данных для обучения CatBoost\n",
    "train_data = data.copy()\n",
    "\n",
    "# Фильтруем train_data, оставляя только пользователей и места, присутствующие в ratings_data\n",
    "train_data = train_data[train_data['user_id'].isin(ratings_data['user_id']) & train_data['place_id'].isin(ratings_data['place_id'])]\n",
    "\n",
    "# Создаем словарь для сопоставления идентификаторов пользователей с их векторными представлениями\n",
    "user_embedding_map = {user_id: embedding for user_id, embedding in zip(ratings_data['user_id'], user_embeddings)}\n",
    "\n",
    "# Получаем векторные представления пользователей из словаря user_embedding_map\n",
    "train_data['user_embedding'] = train_data['user_id'].map(user_embedding_map)\n",
    "\n",
    "# Создаем словарь для сопоставления идентификаторов мест с их векторными представлениями\n",
    "place_embedding_map = {place_id: embedding for place_id, embedding in zip(ratings_data['place_id'], place_embeddings)}\n",
    "\n",
    "# Получаем векторные представления мест из словаря place_embedding_map\n",
    "train_data['place_embedding'] = train_data['place_id'].map(place_embedding_map)\n",
    "\n",
    "# Удаляем строки с отсутствующими значениями user_embedding и place_embedding\n",
    "train_data.dropna(subset=['user_embedding', 'place_embedding'], inplace=True)\n",
    "\n",
    "# Преобразование векторных представлений в числовой формат\n",
    "train_data['user_embedding'] = train_data['user_embedding'].apply(lambda x: list(map(float, x)))\n",
    "train_data['place_embedding'] = train_data['place_embedding'].apply(lambda x: list(map(float, x)))\n",
    "\n",
    "# Разделение признаков и целевой переменной\n",
    "X = train_data[['age', 'gender', 'user_embedding', 'place_embedding', 'category', 'subcategory']]\n",
    "y = train_data['user_rating']\n",
    "\n",
    "# Преобразование категориальных признаков\n",
    "X['gender'] = X['gender'].map({'Мужской': 0, 'Женский': 1})\n",
    "X['category'] = X['category'].astype('category').cat.codes\n",
    "X['subcategory'] = X['subcategory'].astype('category').cat.codes\n",
    "\n",
    "# Преобразование векторных представлений в отдельные признаки\n",
    "user_embedding_features = pd.DataFrame(X['user_embedding'].tolist(), index=X.index)\n",
    "user_embedding_features = user_embedding_features.add_prefix('user_embedding_')\n",
    "\n",
    "place_embedding_features = pd.DataFrame(X['place_embedding'].tolist(), index=X.index)\n",
    "place_embedding_features = place_embedding_features.add_prefix('place_embedding_')\n",
    "\n",
    "# Объединение всех признаков\n",
    "X = pd.concat([X[['age', 'gender', 'category', 'subcategory']], user_embedding_features, place_embedding_features], axis=1)\n",
    "\n",
    "# Обучение модели CatBoost\n",
    "model = CatBoostClassifier(iterations=100, depth=4, learning_rate=0.1, loss_function='MultiClass')\n",
    "model.fit(X, y, cat_features=['gender', 'category', 'subcategory'])\n",
    "\n",
    "# Сохранение моделей\n",
    "import pickle\n",
    "\n",
    "with open('svd_model.pkl', 'wb') as file:\n",
    "    pickle.dump((user_embeddings, place_embeddings), file)\n",
    "\n",
    "model.save_model('catboost_model.pkl')"
   ],
   "metadata": {
    "collapsed": false,
    "ExecuteTime": {
     "end_time": "2024-04-20T15:33:59.279832600Z",
     "start_time": "2024-04-20T15:32:48.785653300Z"
    }
   },
   "id": "ba224a4596cf073e"
  },
  {
   "cell_type": "code",
   "execution_count": null,
   "outputs": [],
   "source": [],
   "metadata": {
    "collapsed": false
   },
   "id": "2cc3ab5a7706dc6"
  },
  {
   "cell_type": "code",
   "execution_count": null,
   "outputs": [],
   "source": [],
   "metadata": {
    "collapsed": false
   },
   "id": "1b0a5866b30263df"
  },
  {
   "cell_type": "code",
   "execution_count": null,
   "outputs": [],
   "source": [],
   "metadata": {
    "collapsed": false
   },
   "id": "8f08aaed199b987c"
  },
  {
   "cell_type": "code",
   "execution_count": null,
   "outputs": [],
   "source": [],
   "metadata": {
    "collapsed": false
   },
   "id": "839e2cfde973f97f"
  },
  {
   "cell_type": "code",
   "execution_count": null,
   "outputs": [],
   "source": [],
   "metadata": {
    "collapsed": false
   },
   "id": "b0d8152125bce8da"
  },
  {
   "cell_type": "code",
   "execution_count": null,
   "outputs": [],
   "source": [],
   "metadata": {
    "collapsed": false
   },
   "id": "b62d3f28ad9a0dbc"
  },
  {
   "cell_type": "code",
   "execution_count": 39,
   "outputs": [],
   "source": [
    "# Подготовка данных для обучения SVD\n",
    "ratings_data = data[['user_id', 'name', 'user_rating']]\n",
    "ratings_data.columns = ['user_id', 'place_id', 'rating']"
   ],
   "metadata": {
    "collapsed": false,
    "ExecuteTime": {
     "end_time": "2024-04-20T15:21:37.144231700Z",
     "start_time": "2024-04-20T15:21:36.996033Z"
    }
   },
   "id": "b1198358492f2637"
  },
  {
   "cell_type": "code",
   "execution_count": 40,
   "outputs": [],
   "source": [
    "# Обучение модели SVD\n",
    "def train_svd(ratings_data):\n",
    "    reader = Reader(rating_scale=(1, 5))\n",
    "    data = Dataset.load_from_df(ratings_data[['user_id', 'place_id', 'rating']], reader)\n",
    "\n",
    "    algo = SVD()\n",
    "    trainset = data.build_full_trainset()\n",
    "    algo.fit(trainset)\n",
    "\n",
    "    user_embeddings = algo.pu\n",
    "    place_embeddings = algo.qi\n",
    "\n",
    "    return user_embeddings, place_embeddings"
   ],
   "metadata": {
    "collapsed": false,
    "ExecuteTime": {
     "end_time": "2024-04-20T15:21:38.393121300Z",
     "start_time": "2024-04-20T15:21:38.331124200Z"
    }
   },
   "id": "70b6ce5aa7d8fd1"
  },
  {
   "cell_type": "code",
   "execution_count": 41,
   "outputs": [],
   "source": [
    "user_embeddings, place_embeddings = train_svd(ratings_data)"
   ],
   "metadata": {
    "collapsed": false,
    "ExecuteTime": {
     "end_time": "2024-04-20T15:21:56.091822Z",
     "start_time": "2024-04-20T15:21:39.183783800Z"
    }
   },
   "id": "7b5c75b712602589"
  },
  {
   "cell_type": "code",
   "execution_count": 42,
   "outputs": [
    {
     "data": {
      "text/plain": "array([[ 0.15206005,  0.14409304,  0.17381017, ..., -0.0613635 ,\n        -0.12493406, -0.05060049],\n       [-0.08553836,  0.01206799, -0.20408044, ...,  0.03599053,\n        -0.15950346, -0.06310973],\n       [-0.00772667,  0.02574222, -0.00198568, ..., -0.04719676,\n        -0.00570751, -0.10791012],\n       ...,\n       [ 0.05352427,  0.02377491, -0.21022484, ..., -0.05021269,\n        -0.05885577,  0.18780057],\n       [-0.15769243,  0.0284799 ,  0.00391285, ...,  0.07500602,\n         0.03704788,  0.14761736],\n       [ 0.0007596 ,  0.05795188, -0.14249803, ..., -0.01506452,\n         0.10180846, -0.05083667]])"
     },
     "execution_count": 42,
     "metadata": {},
     "output_type": "execute_result"
    }
   ],
   "source": [
    "user_embeddings"
   ],
   "metadata": {
    "collapsed": false,
    "ExecuteTime": {
     "end_time": "2024-04-20T15:21:57.825512Z",
     "start_time": "2024-04-20T15:21:57.707156900Z"
    }
   },
   "id": "76ea79805638fec3"
  },
  {
   "cell_type": "code",
   "execution_count": 43,
   "outputs": [
    {
     "data": {
      "text/plain": "       user_id  place_id  user_rating     category subcategory  \\\n0            1       353            5       Поесть        Кафе   \n1            1       183            2       Поесть        Кафе   \n2            1       233            5       Поесть        Кафе   \n3            2         1            3       Поесть        Кафе   \n4            2       414            5       Поесть        Кафе   \n...        ...       ...          ...          ...         ...   \n569467   99999     12313            4  Развлечения      Театры   \n569468   99999      2486            5  Развлечения      Театры   \n569469  100000     65770            5  Развлечения      Театры   \n569470  100000     12343            5  Развлечения      Театры   \n569471  100000     12261            4  Развлечения      Театры   \n\n                                                     name  \\\n0                                                     Fox   \n1                                             Кремлёвский   \n2                                             Soul Burger   \n3                                                   МУ-МУ   \n4                                             Москва-Дели   \n...                                                   ...   \n569467  Центр театра и кино под руководством Никиты Ми...   \n569468  Московский Драматический театр им. М.Н. Ермоловой   \n569469                                            Кашемир   \n569470                                       Мосспектакль   \n569471                                            СОбытие   \n\n                                                  address  rating  \\\n0       Парк Фили, Большая Филёвская улица, 22 ст16а, ...     4.8   \n1                1-я Тверская-Ямская улица, 3 ст1, Москва     4.6   \n2            Большой Сухаревский переулок, 25 ст1, Москва     2.6   \n3            Охотный ряд, Манежная площадь, 1 ст2, Москва     4.6   \n4                        Ермолаевский переулок, 7, Москва     4.7   \n...                                                   ...     ...   \n569467                Улица Академика Пилюгина, 2, Москва     4.5   \n569468                        Тверская улица, 5/6, Москва     4.5   \n569469   ТКЗ Дворец на Яузе, площадь Журавлева, 1, Москва     NaN   \n569470                        Улица Покровка, 40Б, Москва     3.0   \n569471      4-й Сыромятнический переулок, 3/5 ст4, Москва     4.0   \n\n       reviews_count       pos1       pos2  age   gender  \n0        5180 оценок  37.490661  55.750929   24  Мужской  \n1         267 оценок  37.594379  55.770681   24  Мужской  \n2         144 оценки  37.632115  55.770884   24  Мужской  \n3         894 оценки  37.615036  55.755489   20  Мужской  \n4          48 оценок  37.590505  55.764352   20  Мужской  \n...              ...        ...        ...  ...      ...  \n569467      3 оценки  37.542338  55.674022   24  Мужской  \n569468     95 оценок  37.612017  55.757425   24  Мужской  \n569469    Нет данных  37.704673  55.784040   22  Мужской  \n569470      3 оценки  37.652562  55.761082   22  Мужской  \n569471     76 оценок  37.667564  55.755697   22  Мужской  \n\n[569472 rows x 13 columns]",
      "text/html": "<div>\n<style scoped>\n    .dataframe tbody tr th:only-of-type {\n        vertical-align: middle;\n    }\n\n    .dataframe tbody tr th {\n        vertical-align: top;\n    }\n\n    .dataframe thead th {\n        text-align: right;\n    }\n</style>\n<table border=\"1\" class=\"dataframe\">\n  <thead>\n    <tr style=\"text-align: right;\">\n      <th></th>\n      <th>user_id</th>\n      <th>place_id</th>\n      <th>user_rating</th>\n      <th>category</th>\n      <th>subcategory</th>\n      <th>name</th>\n      <th>address</th>\n      <th>rating</th>\n      <th>reviews_count</th>\n      <th>pos1</th>\n      <th>pos2</th>\n      <th>age</th>\n      <th>gender</th>\n    </tr>\n  </thead>\n  <tbody>\n    <tr>\n      <th>0</th>\n      <td>1</td>\n      <td>353</td>\n      <td>5</td>\n      <td>Поесть</td>\n      <td>Кафе</td>\n      <td>Fox</td>\n      <td>Парк Фили, Большая Филёвская улица, 22 ст16а, ...</td>\n      <td>4.8</td>\n      <td>5180 оценок</td>\n      <td>37.490661</td>\n      <td>55.750929</td>\n      <td>24</td>\n      <td>Мужской</td>\n    </tr>\n    <tr>\n      <th>1</th>\n      <td>1</td>\n      <td>183</td>\n      <td>2</td>\n      <td>Поесть</td>\n      <td>Кафе</td>\n      <td>Кремлёвский</td>\n      <td>1-я Тверская-Ямская улица, 3 ст1, Москва</td>\n      <td>4.6</td>\n      <td>267 оценок</td>\n      <td>37.594379</td>\n      <td>55.770681</td>\n      <td>24</td>\n      <td>Мужской</td>\n    </tr>\n    <tr>\n      <th>2</th>\n      <td>1</td>\n      <td>233</td>\n      <td>5</td>\n      <td>Поесть</td>\n      <td>Кафе</td>\n      <td>Soul Burger</td>\n      <td>Большой Сухаревский переулок, 25 ст1, Москва</td>\n      <td>2.6</td>\n      <td>144 оценки</td>\n      <td>37.632115</td>\n      <td>55.770884</td>\n      <td>24</td>\n      <td>Мужской</td>\n    </tr>\n    <tr>\n      <th>3</th>\n      <td>2</td>\n      <td>1</td>\n      <td>3</td>\n      <td>Поесть</td>\n      <td>Кафе</td>\n      <td>МУ-МУ</td>\n      <td>Охотный ряд, Манежная площадь, 1 ст2, Москва</td>\n      <td>4.6</td>\n      <td>894 оценки</td>\n      <td>37.615036</td>\n      <td>55.755489</td>\n      <td>20</td>\n      <td>Мужской</td>\n    </tr>\n    <tr>\n      <th>4</th>\n      <td>2</td>\n      <td>414</td>\n      <td>5</td>\n      <td>Поесть</td>\n      <td>Кафе</td>\n      <td>Москва-Дели</td>\n      <td>Ермолаевский переулок, 7, Москва</td>\n      <td>4.7</td>\n      <td>48 оценок</td>\n      <td>37.590505</td>\n      <td>55.764352</td>\n      <td>20</td>\n      <td>Мужской</td>\n    </tr>\n    <tr>\n      <th>...</th>\n      <td>...</td>\n      <td>...</td>\n      <td>...</td>\n      <td>...</td>\n      <td>...</td>\n      <td>...</td>\n      <td>...</td>\n      <td>...</td>\n      <td>...</td>\n      <td>...</td>\n      <td>...</td>\n      <td>...</td>\n      <td>...</td>\n    </tr>\n    <tr>\n      <th>569467</th>\n      <td>99999</td>\n      <td>12313</td>\n      <td>4</td>\n      <td>Развлечения</td>\n      <td>Театры</td>\n      <td>Центр театра и кино под руководством Никиты Ми...</td>\n      <td>Улица Академика Пилюгина, 2, Москва</td>\n      <td>4.5</td>\n      <td>3 оценки</td>\n      <td>37.542338</td>\n      <td>55.674022</td>\n      <td>24</td>\n      <td>Мужской</td>\n    </tr>\n    <tr>\n      <th>569468</th>\n      <td>99999</td>\n      <td>2486</td>\n      <td>5</td>\n      <td>Развлечения</td>\n      <td>Театры</td>\n      <td>Московский Драматический театр им. М.Н. Ермоловой</td>\n      <td>Тверская улица, 5/6, Москва</td>\n      <td>4.5</td>\n      <td>95 оценок</td>\n      <td>37.612017</td>\n      <td>55.757425</td>\n      <td>24</td>\n      <td>Мужской</td>\n    </tr>\n    <tr>\n      <th>569469</th>\n      <td>100000</td>\n      <td>65770</td>\n      <td>5</td>\n      <td>Развлечения</td>\n      <td>Театры</td>\n      <td>Кашемир</td>\n      <td>ТКЗ Дворец на Яузе, площадь Журавлева, 1, Москва</td>\n      <td>NaN</td>\n      <td>Нет данных</td>\n      <td>37.704673</td>\n      <td>55.784040</td>\n      <td>22</td>\n      <td>Мужской</td>\n    </tr>\n    <tr>\n      <th>569470</th>\n      <td>100000</td>\n      <td>12343</td>\n      <td>5</td>\n      <td>Развлечения</td>\n      <td>Театры</td>\n      <td>Мосспектакль</td>\n      <td>Улица Покровка, 40Б, Москва</td>\n      <td>3.0</td>\n      <td>3 оценки</td>\n      <td>37.652562</td>\n      <td>55.761082</td>\n      <td>22</td>\n      <td>Мужской</td>\n    </tr>\n    <tr>\n      <th>569471</th>\n      <td>100000</td>\n      <td>12261</td>\n      <td>4</td>\n      <td>Развлечения</td>\n      <td>Театры</td>\n      <td>СОбытие</td>\n      <td>4-й Сыромятнический переулок, 3/5 ст4, Москва</td>\n      <td>4.0</td>\n      <td>76 оценок</td>\n      <td>37.667564</td>\n      <td>55.755697</td>\n      <td>22</td>\n      <td>Мужской</td>\n    </tr>\n  </tbody>\n</table>\n<p>569472 rows × 13 columns</p>\n</div>"
     },
     "execution_count": 43,
     "metadata": {},
     "output_type": "execute_result"
    }
   ],
   "source": [
    "data"
   ],
   "metadata": {
    "collapsed": false,
    "ExecuteTime": {
     "end_time": "2024-04-20T15:21:59.410768400Z",
     "start_time": "2024-04-20T15:21:59.317252400Z"
    }
   },
   "id": "d4552e6d6632aaf8"
  },
  {
   "cell_type": "code",
   "execution_count": 44,
   "outputs": [],
   "source": [
    "# Подготовка данных для обучения CatBoost\n",
    "train_data = data.copy()\n",
    "\n",
    "# Создаем словарь для сопоставления идентификаторов пользователей с их векторными представлениями\n",
    "user_embedding_map = {user_id: embedding for user_id, embedding in enumerate(user_embeddings)}\n",
    "\n",
    "# Получаем векторные представления пользователей из словаря user_embedding_map\n",
    "train_data['user_embedding'] = train_data['user_id'].map(lambda x: user_embedding_map.get(x))\n",
    "\n",
    "# Создаем словарь для сопоставления названий мест с их векторными представлениями\n",
    "place_embedding_map = {place_id: embedding for place_id, embedding in zip(ratings_data['place_id'], place_embeddings)}\n"
   ],
   "metadata": {
    "collapsed": false,
    "ExecuteTime": {
     "end_time": "2024-04-20T15:22:06.245925200Z",
     "start_time": "2024-04-20T15:22:05.986917900Z"
    }
   },
   "id": "abfc5a83fe9d2dde"
  },
  {
   "cell_type": "code",
   "execution_count": 46,
   "outputs": [
    {
     "data": {
      "text/plain": "       user_id  place_id  user_rating     category subcategory  \\\n0            1       353            5       Поесть        Кафе   \n1            1       183            2       Поесть        Кафе   \n2            1       233            5       Поесть        Кафе   \n3            2         1            3       Поесть        Кафе   \n4            2       414            5       Поесть        Кафе   \n...        ...       ...          ...          ...         ...   \n569467   99999     12313            4  Развлечения      Театры   \n569468   99999      2486            5  Развлечения      Театры   \n569469  100000     65770            5  Развлечения      Театры   \n569470  100000     12343            5  Развлечения      Театры   \n569471  100000     12261            4  Развлечения      Театры   \n\n                                                     name  \\\n0                                                     Fox   \n1                                             Кремлёвский   \n2                                             Soul Burger   \n3                                                   МУ-МУ   \n4                                             Москва-Дели   \n...                                                   ...   \n569467  Центр театра и кино под руководством Никиты Ми...   \n569468  Московский Драматический театр им. М.Н. Ермоловой   \n569469                                            Кашемир   \n569470                                       Мосспектакль   \n569471                                            СОбытие   \n\n                                                  address  rating  \\\n0       Парк Фили, Большая Филёвская улица, 22 ст16а, ...     4.8   \n1                1-я Тверская-Ямская улица, 3 ст1, Москва     4.6   \n2            Большой Сухаревский переулок, 25 ст1, Москва     2.6   \n3            Охотный ряд, Манежная площадь, 1 ст2, Москва     4.6   \n4                        Ермолаевский переулок, 7, Москва     4.7   \n...                                                   ...     ...   \n569467                Улица Академика Пилюгина, 2, Москва     4.5   \n569468                        Тверская улица, 5/6, Москва     4.5   \n569469   ТКЗ Дворец на Яузе, площадь Журавлева, 1, Москва     NaN   \n569470                        Улица Покровка, 40Б, Москва     3.0   \n569471      4-й Сыромятнический переулок, 3/5 ст4, Москва     4.0   \n\n       reviews_count       pos1       pos2  age   gender user_embedding  \n0        5180 оценок  37.490661  55.750929   24  Мужской           None  \n1         267 оценок  37.594379  55.770681   24  Мужской           None  \n2         144 оценки  37.632115  55.770884   24  Мужской           None  \n3         894 оценки  37.615036  55.755489   20  Мужской           None  \n4          48 оценок  37.590505  55.764352   20  Мужской           None  \n...              ...        ...        ...  ...      ...            ...  \n569467      3 оценки  37.542338  55.674022   24  Мужской           None  \n569468     95 оценок  37.612017  55.757425   24  Мужской           None  \n569469    Нет данных  37.704673  55.784040   22  Мужской           None  \n569470      3 оценки  37.652562  55.761082   22  Мужской           None  \n569471     76 оценок  37.667564  55.755697   22  Мужской           None  \n\n[569472 rows x 14 columns]",
      "text/html": "<div>\n<style scoped>\n    .dataframe tbody tr th:only-of-type {\n        vertical-align: middle;\n    }\n\n    .dataframe tbody tr th {\n        vertical-align: top;\n    }\n\n    .dataframe thead th {\n        text-align: right;\n    }\n</style>\n<table border=\"1\" class=\"dataframe\">\n  <thead>\n    <tr style=\"text-align: right;\">\n      <th></th>\n      <th>user_id</th>\n      <th>place_id</th>\n      <th>user_rating</th>\n      <th>category</th>\n      <th>subcategory</th>\n      <th>name</th>\n      <th>address</th>\n      <th>rating</th>\n      <th>reviews_count</th>\n      <th>pos1</th>\n      <th>pos2</th>\n      <th>age</th>\n      <th>gender</th>\n      <th>user_embedding</th>\n    </tr>\n  </thead>\n  <tbody>\n    <tr>\n      <th>0</th>\n      <td>1</td>\n      <td>353</td>\n      <td>5</td>\n      <td>Поесть</td>\n      <td>Кафе</td>\n      <td>Fox</td>\n      <td>Парк Фили, Большая Филёвская улица, 22 ст16а, ...</td>\n      <td>4.8</td>\n      <td>5180 оценок</td>\n      <td>37.490661</td>\n      <td>55.750929</td>\n      <td>24</td>\n      <td>Мужской</td>\n      <td>None</td>\n    </tr>\n    <tr>\n      <th>1</th>\n      <td>1</td>\n      <td>183</td>\n      <td>2</td>\n      <td>Поесть</td>\n      <td>Кафе</td>\n      <td>Кремлёвский</td>\n      <td>1-я Тверская-Ямская улица, 3 ст1, Москва</td>\n      <td>4.6</td>\n      <td>267 оценок</td>\n      <td>37.594379</td>\n      <td>55.770681</td>\n      <td>24</td>\n      <td>Мужской</td>\n      <td>None</td>\n    </tr>\n    <tr>\n      <th>2</th>\n      <td>1</td>\n      <td>233</td>\n      <td>5</td>\n      <td>Поесть</td>\n      <td>Кафе</td>\n      <td>Soul Burger</td>\n      <td>Большой Сухаревский переулок, 25 ст1, Москва</td>\n      <td>2.6</td>\n      <td>144 оценки</td>\n      <td>37.632115</td>\n      <td>55.770884</td>\n      <td>24</td>\n      <td>Мужской</td>\n      <td>None</td>\n    </tr>\n    <tr>\n      <th>3</th>\n      <td>2</td>\n      <td>1</td>\n      <td>3</td>\n      <td>Поесть</td>\n      <td>Кафе</td>\n      <td>МУ-МУ</td>\n      <td>Охотный ряд, Манежная площадь, 1 ст2, Москва</td>\n      <td>4.6</td>\n      <td>894 оценки</td>\n      <td>37.615036</td>\n      <td>55.755489</td>\n      <td>20</td>\n      <td>Мужской</td>\n      <td>None</td>\n    </tr>\n    <tr>\n      <th>4</th>\n      <td>2</td>\n      <td>414</td>\n      <td>5</td>\n      <td>Поесть</td>\n      <td>Кафе</td>\n      <td>Москва-Дели</td>\n      <td>Ермолаевский переулок, 7, Москва</td>\n      <td>4.7</td>\n      <td>48 оценок</td>\n      <td>37.590505</td>\n      <td>55.764352</td>\n      <td>20</td>\n      <td>Мужской</td>\n      <td>None</td>\n    </tr>\n    <tr>\n      <th>...</th>\n      <td>...</td>\n      <td>...</td>\n      <td>...</td>\n      <td>...</td>\n      <td>...</td>\n      <td>...</td>\n      <td>...</td>\n      <td>...</td>\n      <td>...</td>\n      <td>...</td>\n      <td>...</td>\n      <td>...</td>\n      <td>...</td>\n      <td>...</td>\n    </tr>\n    <tr>\n      <th>569467</th>\n      <td>99999</td>\n      <td>12313</td>\n      <td>4</td>\n      <td>Развлечения</td>\n      <td>Театры</td>\n      <td>Центр театра и кино под руководством Никиты Ми...</td>\n      <td>Улица Академика Пилюгина, 2, Москва</td>\n      <td>4.5</td>\n      <td>3 оценки</td>\n      <td>37.542338</td>\n      <td>55.674022</td>\n      <td>24</td>\n      <td>Мужской</td>\n      <td>None</td>\n    </tr>\n    <tr>\n      <th>569468</th>\n      <td>99999</td>\n      <td>2486</td>\n      <td>5</td>\n      <td>Развлечения</td>\n      <td>Театры</td>\n      <td>Московский Драматический театр им. М.Н. Ермоловой</td>\n      <td>Тверская улица, 5/6, Москва</td>\n      <td>4.5</td>\n      <td>95 оценок</td>\n      <td>37.612017</td>\n      <td>55.757425</td>\n      <td>24</td>\n      <td>Мужской</td>\n      <td>None</td>\n    </tr>\n    <tr>\n      <th>569469</th>\n      <td>100000</td>\n      <td>65770</td>\n      <td>5</td>\n      <td>Развлечения</td>\n      <td>Театры</td>\n      <td>Кашемир</td>\n      <td>ТКЗ Дворец на Яузе, площадь Журавлева, 1, Москва</td>\n      <td>NaN</td>\n      <td>Нет данных</td>\n      <td>37.704673</td>\n      <td>55.784040</td>\n      <td>22</td>\n      <td>Мужской</td>\n      <td>None</td>\n    </tr>\n    <tr>\n      <th>569470</th>\n      <td>100000</td>\n      <td>12343</td>\n      <td>5</td>\n      <td>Развлечения</td>\n      <td>Театры</td>\n      <td>Мосспектакль</td>\n      <td>Улица Покровка, 40Б, Москва</td>\n      <td>3.0</td>\n      <td>3 оценки</td>\n      <td>37.652562</td>\n      <td>55.761082</td>\n      <td>22</td>\n      <td>Мужской</td>\n      <td>None</td>\n    </tr>\n    <tr>\n      <th>569471</th>\n      <td>100000</td>\n      <td>12261</td>\n      <td>4</td>\n      <td>Развлечения</td>\n      <td>Театры</td>\n      <td>СОбытие</td>\n      <td>4-й Сыромятнический переулок, 3/5 ст4, Москва</td>\n      <td>4.0</td>\n      <td>76 оценок</td>\n      <td>37.667564</td>\n      <td>55.755697</td>\n      <td>22</td>\n      <td>Мужской</td>\n      <td>None</td>\n    </tr>\n  </tbody>\n</table>\n<p>569472 rows × 14 columns</p>\n</div>"
     },
     "execution_count": 46,
     "metadata": {},
     "output_type": "execute_result"
    }
   ],
   "source": [
    "train_data"
   ],
   "metadata": {
    "collapsed": false,
    "ExecuteTime": {
     "end_time": "2024-04-20T15:22:21.374016800Z",
     "start_time": "2024-04-20T15:22:21.297498800Z"
    }
   },
   "id": "af924bcc212025b1"
  },
  {
   "cell_type": "code",
   "execution_count": null,
   "outputs": [],
   "source": [
    "\n",
    "# Получаем векторные представления мест из словаря place_embedding_map\n",
    "train_data['place_embedding'] = train_data['name'].map(lambda x: place_embedding_map.get(x))\n",
    "\n",
    "# Удаляем строки с отсутствующими значениями user_embedding и place_embedding\n",
    "train_data.dropna(subset=['user_embedding', 'place_embedding'], inplace=True)\n",
    "\n",
    "# Преобразование векторных представлений в числовой формат\n",
    "train_data['user_embedding'] = train_data['user_embedding'].apply(lambda x: list(map(float, x)))\n",
    "train_data['place_embedding'] = train_data['place_embedding'].apply(lambda x: list(map(float, x)))\n",
    "\n",
    "# Разделение признаков и целевой переменной\n",
    "X = train_data[['age', 'gender', 'user_embedding', 'place_embedding']]\n",
    "y = train_data['user_rating']\n",
    "\n",
    "# Преобразование категориальных признаков\n",
    "X['gender'] = X['gender'].map({'Мужской': 0, 'Женский': 1})\n",
    "\n",
    "# Преобразование векторных представлений в отдельные признаки\n",
    "user_embedding_features = pd.DataFrame(X['user_embedding'].tolist(), index=X.index)\n",
    "user_embedding_features = user_embedding_features.add_prefix('user_embedding_')\n",
    "\n",
    "place_embedding_features = pd.DataFrame(X['place_embedding'].tolist(), index=X.index)\n",
    "place_embedding_features = place_embedding_features.add_prefix('place_embedding_')\n",
    "\n",
    "# Объединение всех признаков\n",
    "X = pd.concat([X[['age', 'gender']], user_embedding_features, place_embedding_features], axis=1)\n",
    "\n",
    "# Обучение модели CatBoost\n",
    "model = CatBoostClassifier(iterations=100, depth=4, learning_rate=0.1, loss_function='MultiClass')\n",
    "model.fit(X, y, cat_features=['gender'])\n"
   ],
   "metadata": {
    "collapsed": false
   },
   "id": "61f4a7609d83b8d1"
  },
  {
   "cell_type": "code",
   "execution_count": 34,
   "outputs": [],
   "source": [
    "# Сохранение моделей\n",
    "import pickle\n",
    "\n",
    "with open('svd_model.pkl', 'wb') as file:\n",
    "    pickle.dump((user_embeddings, place_embeddings), file)\n",
    "\n",
    "model.save_model('catboost_model.pkl')"
   ],
   "metadata": {
    "collapsed": false,
    "ExecuteTime": {
     "end_time": "2024-04-20T13:26:19.384494400Z",
     "start_time": "2024-04-20T13:26:17.674299500Z"
    }
   },
   "id": "f05eb09cb0fe0040"
  },
  {
   "cell_type": "code",
   "execution_count": null,
   "outputs": [],
   "source": [],
   "metadata": {
    "collapsed": false
   },
   "id": "8f63cee6efa95ba2"
  }
 ],
 "metadata": {
  "kernelspec": {
   "display_name": "Python 3",
   "language": "python",
   "name": "python3"
  },
  "language_info": {
   "codemirror_mode": {
    "name": "ipython",
    "version": 2
   },
   "file_extension": ".py",
   "mimetype": "text/x-python",
   "name": "python",
   "nbconvert_exporter": "python",
   "pygments_lexer": "ipython2",
   "version": "2.7.6"
  }
 },
 "nbformat": 4,
 "nbformat_minor": 5
}
