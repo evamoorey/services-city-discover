{
 "cells": [
  {
   "cell_type": "code",
   "execution_count": 1,
   "id": "initial_id",
   "metadata": {
    "collapsed": true,
    "ExecuteTime": {
     "end_time": "2024-03-19T15:51:30.313389Z",
     "start_time": "2024-03-19T15:51:29.065562Z"
    }
   },
   "outputs": [],
   "source": [
    "import pandas as pd\n",
    "import numpy as np\n",
    "from surprise import KNNBasic,KNNWithMeans\n",
    "from surprise import accuracy\n",
    "from surprise import Dataset, Reader\n",
    "from surprise.model_selection import train_test_split\n",
    "from surprise.model_selection import cross_validate\n",
    "from catboost import CatBoostClassifier\n",
    "import pandas as pd"
   ]
  },
  {
   "cell_type": "code",
   "execution_count": 8,
   "outputs": [],
   "source": [
    "visit_data = pd.read_parquet('visit_data.parquet')"
   ],
   "metadata": {
    "collapsed": false,
    "ExecuteTime": {
     "end_time": "2024-03-19T15:53:53.451256Z",
     "start_time": "2024-03-19T15:53:53.378989Z"
    }
   },
   "id": "359acb1077ce3b58"
  },
  {
   "cell_type": "code",
   "execution_count": 9,
   "outputs": [
    {
     "data": {
      "text/plain": "        user_id  age   gender  \\\n0             1   18  Мужской   \n1             1   18  Мужской   \n2             1   18  Мужской   \n3             2   22  Мужской   \n4             2   22  Мужской   \n...         ...  ...      ...   \n569467    99999   48  Женский   \n569468    99999   48  Женский   \n569469   100000   47  Женский   \n569470   100000   47  Женский   \n569471   100000   47  Женский   \n\n                                                     name  \\\n0                                                     Fox   \n1                                             Кремлёвский   \n2                                             Soul Burger   \n3                                                   МУ-МУ   \n4                                             Москва-Дели   \n...                                                   ...   \n569467  Центр театра и кино под руководством Никиты Ми...   \n569468  Московский Драматический театр им. М.Н. Ермоловой   \n569469                                            Кашемир   \n569470                                       Мосспектакль   \n569471                                            СОбытие   \n\n                                                  address       pos1  \\\n0       Парк Фили, Большая Филёвская улица, 22 ст16а, ...  37.490661   \n1                1-я Тверская-Ямская улица, 3 ст1, Москва  37.594379   \n2            Большой Сухаревский переулок, 25 ст1, Москва  37.632115   \n3       Казанский вокзал, Комсомольская площадь, 2, Мо...  37.656479   \n4                        Ермолаевский переулок, 7, Москва  37.590505   \n...                                                   ...        ...   \n569467                    Улица Поварская, 33 ст1, Москва  37.586203   \n569468                        Тверская улица, 5/6, Москва  37.612017   \n569469   ТКЗ Дворец на Яузе, площадь Журавлева, 1, Москва  37.704673   \n569470                        Улица Покровка, 40Б, Москва  37.652562   \n569471      4-й Сыромятнический переулок, 3/5 ст4, Москва  37.667564   \n\n             pos2  user_rating  \n0       55.750929            5  \n1       55.770681            2  \n2       55.770884            5  \n3       55.773491            3  \n4       55.764352            5  \n...           ...          ...  \n569467  55.756832            4  \n569468  55.757425            5  \n569469  55.784040            5  \n569470  55.761082            5  \n569471  55.755697            4  \n\n[569472 rows x 8 columns]",
      "text/html": "<div>\n<style scoped>\n    .dataframe tbody tr th:only-of-type {\n        vertical-align: middle;\n    }\n\n    .dataframe tbody tr th {\n        vertical-align: top;\n    }\n\n    .dataframe thead th {\n        text-align: right;\n    }\n</style>\n<table border=\"1\" class=\"dataframe\">\n  <thead>\n    <tr style=\"text-align: right;\">\n      <th></th>\n      <th>user_id</th>\n      <th>age</th>\n      <th>gender</th>\n      <th>name</th>\n      <th>address</th>\n      <th>pos1</th>\n      <th>pos2</th>\n      <th>user_rating</th>\n    </tr>\n  </thead>\n  <tbody>\n    <tr>\n      <th>0</th>\n      <td>1</td>\n      <td>18</td>\n      <td>Мужской</td>\n      <td>Fox</td>\n      <td>Парк Фили, Большая Филёвская улица, 22 ст16а, ...</td>\n      <td>37.490661</td>\n      <td>55.750929</td>\n      <td>5</td>\n    </tr>\n    <tr>\n      <th>1</th>\n      <td>1</td>\n      <td>18</td>\n      <td>Мужской</td>\n      <td>Кремлёвский</td>\n      <td>1-я Тверская-Ямская улица, 3 ст1, Москва</td>\n      <td>37.594379</td>\n      <td>55.770681</td>\n      <td>2</td>\n    </tr>\n    <tr>\n      <th>2</th>\n      <td>1</td>\n      <td>18</td>\n      <td>Мужской</td>\n      <td>Soul Burger</td>\n      <td>Большой Сухаревский переулок, 25 ст1, Москва</td>\n      <td>37.632115</td>\n      <td>55.770884</td>\n      <td>5</td>\n    </tr>\n    <tr>\n      <th>3</th>\n      <td>2</td>\n      <td>22</td>\n      <td>Мужской</td>\n      <td>МУ-МУ</td>\n      <td>Казанский вокзал, Комсомольская площадь, 2, Мо...</td>\n      <td>37.656479</td>\n      <td>55.773491</td>\n      <td>3</td>\n    </tr>\n    <tr>\n      <th>4</th>\n      <td>2</td>\n      <td>22</td>\n      <td>Мужской</td>\n      <td>Москва-Дели</td>\n      <td>Ермолаевский переулок, 7, Москва</td>\n      <td>37.590505</td>\n      <td>55.764352</td>\n      <td>5</td>\n    </tr>\n    <tr>\n      <th>...</th>\n      <td>...</td>\n      <td>...</td>\n      <td>...</td>\n      <td>...</td>\n      <td>...</td>\n      <td>...</td>\n      <td>...</td>\n      <td>...</td>\n    </tr>\n    <tr>\n      <th>569467</th>\n      <td>99999</td>\n      <td>48</td>\n      <td>Женский</td>\n      <td>Центр театра и кино под руководством Никиты Ми...</td>\n      <td>Улица Поварская, 33 ст1, Москва</td>\n      <td>37.586203</td>\n      <td>55.756832</td>\n      <td>4</td>\n    </tr>\n    <tr>\n      <th>569468</th>\n      <td>99999</td>\n      <td>48</td>\n      <td>Женский</td>\n      <td>Московский Драматический театр им. М.Н. Ермоловой</td>\n      <td>Тверская улица, 5/6, Москва</td>\n      <td>37.612017</td>\n      <td>55.757425</td>\n      <td>5</td>\n    </tr>\n    <tr>\n      <th>569469</th>\n      <td>100000</td>\n      <td>47</td>\n      <td>Женский</td>\n      <td>Кашемир</td>\n      <td>ТКЗ Дворец на Яузе, площадь Журавлева, 1, Москва</td>\n      <td>37.704673</td>\n      <td>55.784040</td>\n      <td>5</td>\n    </tr>\n    <tr>\n      <th>569470</th>\n      <td>100000</td>\n      <td>47</td>\n      <td>Женский</td>\n      <td>Мосспектакль</td>\n      <td>Улица Покровка, 40Б, Москва</td>\n      <td>37.652562</td>\n      <td>55.761082</td>\n      <td>5</td>\n    </tr>\n    <tr>\n      <th>569471</th>\n      <td>100000</td>\n      <td>47</td>\n      <td>Женский</td>\n      <td>СОбытие</td>\n      <td>4-й Сыромятнический переулок, 3/5 ст4, Москва</td>\n      <td>37.667564</td>\n      <td>55.755697</td>\n      <td>4</td>\n    </tr>\n  </tbody>\n</table>\n<p>569472 rows × 8 columns</p>\n</div>"
     },
     "execution_count": 9,
     "metadata": {},
     "output_type": "execute_result"
    }
   ],
   "source": [
    "visit_data"
   ],
   "metadata": {
    "collapsed": false,
    "ExecuteTime": {
     "end_time": "2024-03-19T15:53:53.866938Z",
     "start_time": "2024-03-19T15:53:53.833155Z"
    }
   },
   "id": "f9e6eab3aaddf36f"
  },
  {
   "cell_type": "markdown",
   "source": [
    "### Добавление искусственной информации о том посетил ли пользователь место или посмотрел подробнее"
   ],
   "metadata": {
    "collapsed": false
   },
   "id": "a4fbbd76d3c1b2a5"
  },
  {
   "cell_type": "code",
   "execution_count": 11,
   "outputs": [],
   "source": [
    "visit_data['visited'] = np.random.choice([0, 1], size=len(visit_data), p=[0.8, 0.2])\n",
    "# Просмотр подробной информации (40% вероятность)\n",
    "visit_data['viewed_detail'] = np.random.choice([0, 1], size=len(visit_data), p=[0.6, 0.4])"
   ],
   "metadata": {
    "collapsed": false,
    "ExecuteTime": {
     "end_time": "2024-03-19T15:54:41.601664Z",
     "start_time": "2024-03-19T15:54:41.567954Z"
    }
   },
   "id": "7938c507aaf0f66c"
  },
  {
   "cell_type": "code",
   "execution_count": 12,
   "outputs": [
    {
     "data": {
      "text/plain": "        user_id  age   gender  \\\n0             1   18  Мужской   \n1             1   18  Мужской   \n2             1   18  Мужской   \n3             2   22  Мужской   \n4             2   22  Мужской   \n...         ...  ...      ...   \n569467    99999   48  Женский   \n569468    99999   48  Женский   \n569469   100000   47  Женский   \n569470   100000   47  Женский   \n569471   100000   47  Женский   \n\n                                                     name  \\\n0                                                     Fox   \n1                                             Кремлёвский   \n2                                             Soul Burger   \n3                                                   МУ-МУ   \n4                                             Москва-Дели   \n...                                                   ...   \n569467  Центр театра и кино под руководством Никиты Ми...   \n569468  Московский Драматический театр им. М.Н. Ермоловой   \n569469                                            Кашемир   \n569470                                       Мосспектакль   \n569471                                            СОбытие   \n\n                                                  address       pos1  \\\n0       Парк Фили, Большая Филёвская улица, 22 ст16а, ...  37.490661   \n1                1-я Тверская-Ямская улица, 3 ст1, Москва  37.594379   \n2            Большой Сухаревский переулок, 25 ст1, Москва  37.632115   \n3       Казанский вокзал, Комсомольская площадь, 2, Мо...  37.656479   \n4                        Ермолаевский переулок, 7, Москва  37.590505   \n...                                                   ...        ...   \n569467                    Улица Поварская, 33 ст1, Москва  37.586203   \n569468                        Тверская улица, 5/6, Москва  37.612017   \n569469   ТКЗ Дворец на Яузе, площадь Журавлева, 1, Москва  37.704673   \n569470                        Улица Покровка, 40Б, Москва  37.652562   \n569471      4-й Сыромятнический переулок, 3/5 ст4, Москва  37.667564   \n\n             pos2  user_rating  visited  viewed_detail  \n0       55.750929            5        1              1  \n1       55.770681            2        0              1  \n2       55.770884            5        0              0  \n3       55.773491            3        1              0  \n4       55.764352            5        0              1  \n...           ...          ...      ...            ...  \n569467  55.756832            4        0              0  \n569468  55.757425            5        0              0  \n569469  55.784040            5        0              0  \n569470  55.761082            5        0              0  \n569471  55.755697            4        1              1  \n\n[569472 rows x 10 columns]",
      "text/html": "<div>\n<style scoped>\n    .dataframe tbody tr th:only-of-type {\n        vertical-align: middle;\n    }\n\n    .dataframe tbody tr th {\n        vertical-align: top;\n    }\n\n    .dataframe thead th {\n        text-align: right;\n    }\n</style>\n<table border=\"1\" class=\"dataframe\">\n  <thead>\n    <tr style=\"text-align: right;\">\n      <th></th>\n      <th>user_id</th>\n      <th>age</th>\n      <th>gender</th>\n      <th>name</th>\n      <th>address</th>\n      <th>pos1</th>\n      <th>pos2</th>\n      <th>user_rating</th>\n      <th>visited</th>\n      <th>viewed_detail</th>\n    </tr>\n  </thead>\n  <tbody>\n    <tr>\n      <th>0</th>\n      <td>1</td>\n      <td>18</td>\n      <td>Мужской</td>\n      <td>Fox</td>\n      <td>Парк Фили, Большая Филёвская улица, 22 ст16а, ...</td>\n      <td>37.490661</td>\n      <td>55.750929</td>\n      <td>5</td>\n      <td>1</td>\n      <td>1</td>\n    </tr>\n    <tr>\n      <th>1</th>\n      <td>1</td>\n      <td>18</td>\n      <td>Мужской</td>\n      <td>Кремлёвский</td>\n      <td>1-я Тверская-Ямская улица, 3 ст1, Москва</td>\n      <td>37.594379</td>\n      <td>55.770681</td>\n      <td>2</td>\n      <td>0</td>\n      <td>1</td>\n    </tr>\n    <tr>\n      <th>2</th>\n      <td>1</td>\n      <td>18</td>\n      <td>Мужской</td>\n      <td>Soul Burger</td>\n      <td>Большой Сухаревский переулок, 25 ст1, Москва</td>\n      <td>37.632115</td>\n      <td>55.770884</td>\n      <td>5</td>\n      <td>0</td>\n      <td>0</td>\n    </tr>\n    <tr>\n      <th>3</th>\n      <td>2</td>\n      <td>22</td>\n      <td>Мужской</td>\n      <td>МУ-МУ</td>\n      <td>Казанский вокзал, Комсомольская площадь, 2, Мо...</td>\n      <td>37.656479</td>\n      <td>55.773491</td>\n      <td>3</td>\n      <td>1</td>\n      <td>0</td>\n    </tr>\n    <tr>\n      <th>4</th>\n      <td>2</td>\n      <td>22</td>\n      <td>Мужской</td>\n      <td>Москва-Дели</td>\n      <td>Ермолаевский переулок, 7, Москва</td>\n      <td>37.590505</td>\n      <td>55.764352</td>\n      <td>5</td>\n      <td>0</td>\n      <td>1</td>\n    </tr>\n    <tr>\n      <th>...</th>\n      <td>...</td>\n      <td>...</td>\n      <td>...</td>\n      <td>...</td>\n      <td>...</td>\n      <td>...</td>\n      <td>...</td>\n      <td>...</td>\n      <td>...</td>\n      <td>...</td>\n    </tr>\n    <tr>\n      <th>569467</th>\n      <td>99999</td>\n      <td>48</td>\n      <td>Женский</td>\n      <td>Центр театра и кино под руководством Никиты Ми...</td>\n      <td>Улица Поварская, 33 ст1, Москва</td>\n      <td>37.586203</td>\n      <td>55.756832</td>\n      <td>4</td>\n      <td>0</td>\n      <td>0</td>\n    </tr>\n    <tr>\n      <th>569468</th>\n      <td>99999</td>\n      <td>48</td>\n      <td>Женский</td>\n      <td>Московский Драматический театр им. М.Н. Ермоловой</td>\n      <td>Тверская улица, 5/6, Москва</td>\n      <td>37.612017</td>\n      <td>55.757425</td>\n      <td>5</td>\n      <td>0</td>\n      <td>0</td>\n    </tr>\n    <tr>\n      <th>569469</th>\n      <td>100000</td>\n      <td>47</td>\n      <td>Женский</td>\n      <td>Кашемир</td>\n      <td>ТКЗ Дворец на Яузе, площадь Журавлева, 1, Москва</td>\n      <td>37.704673</td>\n      <td>55.784040</td>\n      <td>5</td>\n      <td>0</td>\n      <td>0</td>\n    </tr>\n    <tr>\n      <th>569470</th>\n      <td>100000</td>\n      <td>47</td>\n      <td>Женский</td>\n      <td>Мосспектакль</td>\n      <td>Улица Покровка, 40Б, Москва</td>\n      <td>37.652562</td>\n      <td>55.761082</td>\n      <td>5</td>\n      <td>0</td>\n      <td>0</td>\n    </tr>\n    <tr>\n      <th>569471</th>\n      <td>100000</td>\n      <td>47</td>\n      <td>Женский</td>\n      <td>СОбытие</td>\n      <td>4-й Сыромятнический переулок, 3/5 ст4, Москва</td>\n      <td>37.667564</td>\n      <td>55.755697</td>\n      <td>4</td>\n      <td>1</td>\n      <td>1</td>\n    </tr>\n  </tbody>\n</table>\n<p>569472 rows × 10 columns</p>\n</div>"
     },
     "execution_count": 12,
     "metadata": {},
     "output_type": "execute_result"
    }
   ],
   "source": [
    "visit_data"
   ],
   "metadata": {
    "collapsed": false,
    "ExecuteTime": {
     "end_time": "2024-03-19T15:54:42.119873Z",
     "start_time": "2024-03-19T15:54:42.098326Z"
    }
   },
   "id": "d3ec74c5870cd530"
  },
  {
   "cell_type": "markdown",
   "source": [
    "### Коллаборативная фильтрация"
   ],
   "metadata": {
    "collapsed": false
   },
   "id": "632c1e3a0147d8a7"
  },
  {
   "cell_type": "code",
   "execution_count": 6,
   "outputs": [],
   "source": [
    "data = visit_data.copy()"
   ],
   "metadata": {
    "collapsed": false,
    "ExecuteTime": {
     "end_time": "2024-03-19T15:51:40.538015Z",
     "start_time": "2024-03-19T15:51:40.501062Z"
    }
   },
   "id": "1f3317f420b26d3c"
  },
  {
   "cell_type": "code",
   "execution_count": 11,
   "outputs": [],
   "source": [
    "# Подготовка данных для surprise\n",
    "reader = Reader(rating_scale=(1, 5))  # Рейтинги в вашем датасете от 1 до 5\n",
    "data = Dataset.load_from_df(data[['user_id', 'name', 'user_rating']], reader)\n",
    "\n",
    "# Разделение на обучающую и тестовую выборки\n",
    "trainset, testset = train_test_split(data, test_size=0.25)"
   ],
   "metadata": {
    "collapsed": false,
    "ExecuteTime": {
     "end_time": "2024-03-17T11:58:14.279709Z",
     "start_time": "2024-03-17T11:58:13.474822Z"
    }
   },
   "id": "e38d011b91438a2f"
  },
  {
   "cell_type": "markdown",
   "source": [
    "### Модель KNN"
   ],
   "metadata": {
    "collapsed": false
   },
   "id": "19307d2ef99781f7"
  },
  {
   "cell_type": "code",
   "execution_count": 12,
   "outputs": [
    {
     "name": "stdout",
     "output_type": "stream",
     "text": [
      "Computing the msd similarity matrix...\n",
      "Done computing similarity matrix.\n",
      "RMSE: 1.4464\n"
     ]
    },
    {
     "data": {
      "text/plain": "1.4463887995045754"
     },
     "execution_count": 12,
     "metadata": {},
     "output_type": "execute_result"
    }
   ],
   "source": [
    "# Создание и обучение модели\n",
    "model = KNNBasic()\n",
    "model.fit(trainset)\n",
    "\n",
    "# Предсказания на тестовом наборе\n",
    "predictions = model.test(testset)\n",
    "\n",
    "# Расчет RMSE (Root Mean Squared Error)\n",
    "accuracy.rmse(predictions)"
   ],
   "metadata": {
    "collapsed": false,
    "ExecuteTime": {
     "end_time": "2024-03-17T12:03:24.448745Z",
     "start_time": "2024-03-17T11:58:15.255425Z"
    }
   },
   "id": "3dcbd825b75e92a6"
  },
  {
   "cell_type": "code",
   "execution_count": 13,
   "outputs": [],
   "source": [
    "# Предсказания на тестовом наборе\n",
    "predictions = model.test(testset)"
   ],
   "metadata": {
    "collapsed": false,
    "ExecuteTime": {
     "end_time": "2024-03-17T12:04:13.069543Z",
     "start_time": "2024-03-17T12:03:24.457494Z"
    }
   },
   "id": "5cf1ea4c27a5b536"
  },
  {
   "cell_type": "code",
   "execution_count": 11,
   "outputs": [],
   "source": [
    "from collections import defaultdict\n",
    "from surprise import accuracy\n",
    "\n",
    "def precision_recall_at_k(predictions, k=10, threshold=4):\n",
    "    '''Возвращает словарь с precision и recall по пользователю для заданного k и порога.'''\n",
    "\n",
    "    # Словарь для хранения результатов\n",
    "    user_est_true = defaultdict(list)\n",
    "    for uid, _, true_r, est, _ in predictions:\n",
    "        user_est_true[uid].append((est, true_r))\n",
    "\n",
    "    precisions = dict()\n",
    "    recalls = dict()\n",
    "\n",
    "    for uid, user_ratings in user_est_true.items():\n",
    "        # Сортируем предсказания пользователя по убыванию предсказанного рейтинга\n",
    "        user_ratings.sort(key=lambda x: x[0], reverse=True)\n",
    "\n",
    "        # Число рекомендованных объектов, рейтинг которых выше порога\n",
    "        n_rel = sum((true_r >= threshold) for (_, true_r) in user_ratings[:k])\n",
    "\n",
    "        # Число релевантных и рекомендованных объектов\n",
    "        n_rec_k = sum((est >= threshold) for (est, _) in user_ratings[:k])\n",
    "\n",
    "        # Число релевантных объектов\n",
    "        n_rel_and_rec_k = sum(((true_r >= threshold) and (est >= threshold)) for (est, true_r) in user_ratings[:k])\n",
    "\n",
    "        # Precision@K: Процент рекомендованных объектов, которые релевантны\n",
    "        precisions[uid] = n_rel_and_rec_k / n_rec_k if n_rec_k != 0 else 1\n",
    "\n",
    "        # Recall@K: Процент релевантных объектов, которые были рекомендованы\n",
    "        recalls[uid] = n_rel_and_rec_k / n_rel if n_rel != 0 else 1\n",
    "\n",
    "    return precisions, recalls"
   ],
   "metadata": {
    "collapsed": false,
    "ExecuteTime": {
     "end_time": "2024-03-17T13:04:46.794061Z",
     "start_time": "2024-03-17T13:04:46.760625Z"
    }
   },
   "id": "40f1cdfdf769d1da"
  },
  {
   "cell_type": "code",
   "execution_count": 14,
   "outputs": [
    {
     "name": "stdout",
     "output_type": "stream",
     "text": [
      "Precision@5: 0.8359\n",
      "Recall@5: 0.6417\n"
     ]
    }
   ],
   "source": [
    "# Расчет метрик\n",
    "precisions, recalls = precision_recall_at_k(predictions, k=1, threshold=4)\n",
    "\n",
    "# Средний precision и recall по всем пользователям\n",
    "print(f\"Precision@5: {sum(prec for prec in precisions.values()) / len(precisions):.4f}\")\n",
    "print(f\"Recall@5: {sum(rec for rec in recalls.values()) / len(recalls):.4f}\")"
   ],
   "metadata": {
    "collapsed": false,
    "ExecuteTime": {
     "end_time": "2024-03-17T12:04:13.308349Z",
     "start_time": "2024-03-17T12:04:13.079325Z"
    }
   },
   "id": "52513cbf1fed75f4"
  },
  {
   "cell_type": "code",
   "execution_count": 15,
   "outputs": [
    {
     "data": {
      "text/plain": "[Prediction(uid=2213, iid='Osteria Unica', r_ui=2.0, est=3.4208807161867925, details={'actual_k': 26, 'was_impossible': False}),\n Prediction(uid=39406, iid='Пестики-тычинки', r_ui=5.0, est=4.13684210526316, details={'actual_k': 18, 'was_impossible': False}),\n Prediction(uid=98225, iid='Театр на Таганке', r_ui=5.0, est=3.741077931536781, details={'actual_k': 40, 'was_impossible': False}),\n Prediction(uid=84638, iid='Библиотека №225 им. М.Н. Задорнова', r_ui=5.0, est=3.3616858237547893, details={'actual_k': 13, 'was_impossible': False}),\n Prediction(uid=23124, iid='RedBox', r_ui=1.0, est=3.6280814576634546, details={'actual_k': 26, 'was_impossible': False}),\n Prediction(uid=86319, iid='Библиотека №101', r_ui=2.0, est=4.0600000000000005, details={'actual_k': 13, 'was_impossible': False}),\n Prediction(uid=24463, iid='Москино Вымпел', r_ui=4.0, est=3.698422398291751, details={'was_impossible': True, 'reason': 'Not enough neighbors.'}),\n Prediction(uid=66613, iid='Eshak', r_ui=5.0, est=3.43184421534937, details={'actual_k': 16, 'was_impossible': False}),\n Prediction(uid=80786, iid='Библиотека №220', r_ui=5.0, est=3.0, details={'actual_k': 6, 'was_impossible': False}),\n Prediction(uid=54491, iid='Мясо&рыба', r_ui=5.0, est=3.8739919354838728, details={'actual_k': 20, 'was_impossible': False}),\n Prediction(uid=88514, iid='Грим масса', r_ui=5.0, est=3.698422398291751, details={'was_impossible': True, 'reason': 'User and/or item is unknown.'}),\n Prediction(uid=64965, iid='Айдабаран', r_ui=5.0, est=4.510204081632653, details={'actual_k': 8, 'was_impossible': False}),\n Prediction(uid=9206, iid='Pho city', r_ui=5.0, est=4.312138728323699, details={'actual_k': 5, 'was_impossible': False}),\n Prediction(uid=64903, iid='HookahPlace Брюс', r_ui=3.0, est=4.102564102564104, details={'actual_k': 27, 'was_impossible': False}),\n Prediction(uid=78042, iid='Библиотека №83', r_ui=5.0, est=3.6655405405405443, details={'actual_k': 22, 'was_impossible': False}),\n Prediction(uid=50135, iid='Эларджи', r_ui=4.0, est=3.626506024096386, details={'actual_k': 8, 'was_impossible': False}),\n Prediction(uid=44099, iid='Кусочки', r_ui=5.0, est=5, details={'actual_k': 3, 'was_impossible': False}),\n Prediction(uid=87094, iid='Библиотека №76 им. М.Ю. Лермонтова', r_ui=1.0, est=4.096289752650177, details={'actual_k': 17, 'was_impossible': False}),\n Prediction(uid=8572, iid='Beverly hills diner', r_ui=5.0, est=3.517241379310345, details={'actual_k': 11, 'was_impossible': False}),\n Prediction(uid=46882, iid='Ферма', r_ui=5.0, est=3.958584987057809, details={'actual_k': 18, 'was_impossible': False}),\n Prediction(uid=15955, iid='Veches lounge bar and kitchen', r_ui=3.0, est=3.710065645514223, details={'actual_k': 11, 'was_impossible': False}),\n Prediction(uid=93006, iid='Театр им. Е. Вахтангова', r_ui=4.0, est=3.6363636363636362, details={'actual_k': 40, 'was_impossible': False}),\n Prediction(uid=98750, iid='Импресарио', r_ui=4.0, est=2.7535124760076783, details={'actual_k': 18, 'was_impossible': False}),\n Prediction(uid=89757, iid='Город', r_ui=4.0, est=3.7177108308141364, details={'actual_k': 13, 'was_impossible': False}),\n Prediction(uid=54784, iid='She', r_ui=3.0, est=3.7532467532467533, details={'actual_k': 40, 'was_impossible': False}),\n Prediction(uid=10817, iid='Pro.Хинкали', r_ui=5.0, est=4.214953271028039, details={'actual_k': 17, 'was_impossible': False}),\n Prediction(uid=76724, iid='Библиотека №221 им. Р.И. Рождественского', r_ui=5.0, est=3.503067484662578, details={'actual_k': 34, 'was_impossible': False}),\n Prediction(uid=2561, iid='Kultura', r_ui=2.0, est=3.6808510638297873, details={'actual_k': 10, 'was_impossible': False}),\n Prediction(uid=52677, iid='Панчо пицца', r_ui=3.0, est=3.8503366131538077, details={'actual_k': 28, 'was_impossible': False}),\n Prediction(uid=20514, iid='Лекторий', r_ui=5.0, est=5, details={'actual_k': 1, 'was_impossible': False}),\n Prediction(uid=67250, iid='Muse', r_ui=3.0, est=3.9471776281719326, details={'actual_k': 23, 'was_impossible': False}),\n Prediction(uid=50196, iid='Крылья', r_ui=3.0, est=3.726823238566133, details={'actual_k': 20, 'was_impossible': False}),\n Prediction(uid=72091, iid='Atlantica Seafood', r_ui=5.0, est=3.3331778969456747, details={'actual_k': 19, 'was_impossible': False}),\n Prediction(uid=95088, iid='Постскриптум', r_ui=5.0, est=3.2318692543411642, details={'actual_k': 23, 'was_impossible': False}),\n Prediction(uid=41841, iid='Мирт', r_ui=5.0, est=3.5964912280701755, details={'actual_k': 9, 'was_impossible': False}),\n Prediction(uid=97785, iid='Монолик', r_ui=5.0, est=3.3846153846153846, details={'actual_k': 9, 'was_impossible': False}),\n Prediction(uid=61021, iid='Вега Измайлово', r_ui=5.0, est=3.966321243523319, details={'actual_k': 39, 'was_impossible': False}),\n Prediction(uid=11036, iid='Laski club', r_ui=4.0, est=4.5, details={'actual_k': 3, 'was_impossible': False}),\n Prediction(uid=99830, iid='Чё', r_ui=3.0, est=3.7362459546925564, details={'actual_k': 14, 'was_impossible': False}),\n Prediction(uid=47608, iid='Салют', r_ui=5.0, est=3.411616161616162, details={'actual_k': 8, 'was_impossible': False}),\n Prediction(uid=88144, iid='Фигаро', r_ui=5.0, est=3.515675550762594, details={'actual_k': 28, 'was_impossible': False}),\n Prediction(uid=44940, iid='Театр русской драмы М. Щепенко', r_ui=4.0, est=2.226950354609929, details={'actual_k': 5, 'was_impossible': False}),\n Prediction(uid=46241, iid='Город', r_ui=5.0, est=3.521739130434783, details={'actual_k': 18, 'was_impossible': False}),\n Prediction(uid=40307, iid='Театр сторителлинга', r_ui=1.0, est=4.727272727272727, details={'actual_k': 2, 'was_impossible': False}),\n Prediction(uid=64711, iid='Lou Lou', r_ui=5.0, est=4.75, details={'actual_k': 14, 'was_impossible': False}),\n Prediction(uid=37516, iid='The Abbey Players Pub', r_ui=4.0, est=4.428571428571429, details={'actual_k': 5, 'was_impossible': False}),\n Prediction(uid=95444, iid='Центр драматургии и режиссуры', r_ui=2.0, est=3.65, details={'actual_k': 40, 'was_impossible': False}),\n Prediction(uid=84489, iid='Библиотека №213 им. Леси Украинки', r_ui=1.0, est=3.892541087231356, details={'actual_k': 40, 'was_impossible': False}),\n Prediction(uid=93037, iid='Монолик', r_ui=3.0, est=3.8186582809224325, details={'actual_k': 19, 'was_impossible': False}),\n Prediction(uid=18537, iid='The Бык', r_ui=4.0, est=3.5588939848085404, details={'actual_k': 40, 'was_impossible': False}),\n Prediction(uid=71933, iid='Узоры', r_ui=4.0, est=4.500000000000001, details={'actual_k': 17, 'was_impossible': False}),\n Prediction(uid=94348, iid='Театр на Таганке', r_ui=1.0, est=5, details={'actual_k': 40, 'was_impossible': False}),\n Prediction(uid=9916, iid='Джонджоли', r_ui=3.0, est=5, details={'actual_k': 40, 'was_impossible': False}),\n Prediction(uid=75529, iid='Российская государственная библиотека', r_ui=3.0, est=3.575, details={'actual_k': 40, 'was_impossible': False}),\n Prediction(uid=10140, iid='Jeremy`s club', r_ui=3.0, est=4.0, details={'actual_k': 1, 'was_impossible': False}),\n Prediction(uid=40010, iid='Золотая вобла', r_ui=3.0, est=4.523996852871755, details={'actual_k': 15, 'was_impossible': False}),\n Prediction(uid=67102, iid='Remy kitchen bakery', r_ui=5.0, est=4.101329665291152, details={'actual_k': 40, 'was_impossible': False}),\n Prediction(uid=87915, iid='Щёлковский театр', r_ui=4.0, est=4.52689352360044, details={'actual_k': 9, 'was_impossible': False}),\n Prediction(uid=70616, iid='Ikura Izakaya nikkei', r_ui=5.0, est=4.093247588424437, details={'actual_k': 7, 'was_impossible': False}),\n Prediction(uid=71101, iid='Че? Харчо!', r_ui=3.0, est=4.1749837977965, details={'actual_k': 16, 'was_impossible': False}),\n Prediction(uid=20331, iid='Москино Искра', r_ui=2.0, est=4.3584905660377355, details={'actual_k': 3, 'was_impossible': False}),\n Prediction(uid=93550, iid='Московский открытый студенческий театр', r_ui=5.0, est=4.201958384332926, details={'actual_k': 40, 'was_impossible': False}),\n Prediction(uid=98278, iid='Рыжий театр', r_ui=4.0, est=4.583333333333333, details={'actual_k': 4, 'was_impossible': False}),\n Prediction(uid=68733, iid='Myst', r_ui=5.0, est=3.599940863394443, details={'actual_k': 40, 'was_impossible': False}),\n Prediction(uid=98732, iid='Государственный академический Малый театр России', r_ui=2.0, est=3.9163157894736877, details={'actual_k': 29, 'was_impossible': False}),\n Prediction(uid=62242, iid='Узбекистан', r_ui=1.0, est=3.426490066225166, details={'actual_k': 39, 'was_impossible': False}),\n Prediction(uid=77271, iid='Христианская библиотека', r_ui=4.0, est=3.5769479022591057, details={'actual_k': 15, 'was_impossible': False}),\n Prediction(uid=54623, iid='Эларджи', r_ui=3.0, est=3.1538461538461533, details={'actual_k': 11, 'was_impossible': False}),\n Prediction(uid=317, iid='Бэсэдэр', r_ui=5.0, est=3.0, details={'actual_k': 1, 'was_impossible': False}),\n Prediction(uid=76923, iid='Детская библиотека №155', r_ui=4.0, est=3.153846153846154, details={'actual_k': 5, 'was_impossible': False}),\n Prediction(uid=91326, iid='Московский театр юного зрителя', r_ui=2.0, est=3.5622775800711755, details={'actual_k': 40, 'was_impossible': False}),\n Prediction(uid=73397, iid='Uhvat', r_ui=3.0, est=3.6708860759493676, details={'actual_k': 40, 'was_impossible': False}),\n Prediction(uid=512, iid='Secret dance hall', r_ui=1.0, est=2.0, details={'actual_k': 1, 'was_impossible': False}),\n Prediction(uid=98748, iid='Наш дом', r_ui=5.0, est=3.4754098360655736, details={'actual_k': 40, 'was_impossible': False}),\n Prediction(uid=40996, iid='Самарканд', r_ui=3.0, est=3.0, details={'actual_k': 3, 'was_impossible': False}),\n Prediction(uid=19747, iid='Чистая линия', r_ui=3.0, est=4.913043478260869, details={'actual_k': 5, 'was_impossible': False}),\n Prediction(uid=54273, iid='Семифреддо', r_ui=5.0, est=3.916666666666666, details={'actual_k': 4, 'was_impossible': False}),\n Prediction(uid=5678, iid='Дружба', r_ui=5.0, est=2.979520305891897, details={'actual_k': 24, 'was_impossible': False}),\n Prediction(uid=63174, iid='The Бык', r_ui=4.0, est=3.875, details={'actual_k': 40, 'was_impossible': False}),\n Prediction(uid=40473, iid='Полигон Холл', r_ui=4.0, est=4.125563452338156, details={'actual_k': 26, 'was_impossible': False}),\n Prediction(uid=69770, iid='Ривьера', r_ui=4.0, est=3.499999999999999, details={'actual_k': 5, 'was_impossible': False}),\n Prediction(uid=92813, iid='Гавит', r_ui=1.0, est=3.9024390243902434, details={'actual_k': 8, 'was_impossible': False}),\n Prediction(uid=22143, iid='Бирхаус', r_ui=4.0, est=3.6, details={'actual_k': 40, 'was_impossible': False}),\n Prediction(uid=2550, iid='Краснодарский Парень', r_ui=5.0, est=3.8195602729340417, details={'actual_k': 15, 'was_impossible': False}),\n Prediction(uid=67656, iid='Ташкент Сити', r_ui=5.0, est=3.7220417633410694, details={'actual_k': 25, 'was_impossible': False}),\n Prediction(uid=84101, iid='Библиотека №62 им. Пабло Неруды', r_ui=3.0, est=3.7659227000544364, details={'actual_k': 34, 'was_impossible': False}),\n Prediction(uid=53632, iid='Тануки', r_ui=5.0, est=4.242255266418837, details={'actual_k': 21, 'was_impossible': False}),\n Prediction(uid=53970, iid='Ривьера', r_ui=3.0, est=3.4675552437741146, details={'actual_k': 40, 'was_impossible': False}),\n Prediction(uid=7238, iid='Бэсэдэр', r_ui=5.0, est=4.225925925925926, details={'actual_k': 13, 'was_impossible': False}),\n Prediction(uid=78063, iid='Российская государственная библиотека', r_ui=5.0, est=3.35, details={'actual_k': 40, 'was_impossible': False}),\n Prediction(uid=16941, iid='Мельница', r_ui=4.0, est=5, details={'actual_k': 1, 'was_impossible': False}),\n Prediction(uid=69648, iid='Zagorami', r_ui=3.0, est=3.6230636833046486, details={'actual_k': 38, 'was_impossible': False}),\n Prediction(uid=15134, iid='Краснодарский Парень', r_ui=5.0, est=3.333333333333333, details={'actual_k': 5, 'was_impossible': False}),\n Prediction(uid=16462, iid='Резиденция', r_ui=5.0, est=3.5934579439252357, details={'actual_k': 30, 'was_impossible': False}),\n Prediction(uid=73891, iid='Рыбы нет', r_ui=5.0, est=3.4660694168767785, details={'actual_k': 34, 'was_impossible': False}),\n Prediction(uid=82708, iid='Российская государственная библиотека', r_ui=1.0, est=3.275, details={'actual_k': 40, 'was_impossible': False}),\n Prediction(uid=78577, iid='Библиотека-медиацентр №67', r_ui=3.0, est=3.3881431767337804, details={'actual_k': 8, 'was_impossible': False}),\n Prediction(uid=50773, iid='Qlo', r_ui=2.0, est=3.0000000000000004, details={'actual_k': 2, 'was_impossible': False}),\n Prediction(uid=20672, iid='Москино Спутник', r_ui=5.0, est=5, details={'actual_k': 3, 'was_impossible': False}),\n Prediction(uid=16189, iid='Необъяснимо Но Бар', r_ui=5.0, est=4.037542662116042, details={'actual_k': 20, 'was_impossible': False}),\n Prediction(uid=64442, iid='Twins garden', r_ui=3.0, est=3.5349544072948333, details={'actual_k': 18, 'was_impossible': False}),\n Prediction(uid=20419, iid='Вареничная №1', r_ui=5.0, est=3.7671894138533735, details={'actual_k': 31, 'was_impossible': False}),\n Prediction(uid=98043, iid='Кашемир', r_ui=5.0, est=3.733454215775162, details={'actual_k': 32, 'was_impossible': False}),\n Prediction(uid=86993, iid='Библиотека №182', r_ui=1.0, est=3.847619047619048, details={'actual_k': 40, 'was_impossible': False}),\n Prediction(uid=50983, iid='Lou Lou', r_ui=4.0, est=3.7627551020408165, details={'actual_k': 13, 'was_impossible': False}),\n Prediction(uid=92703, iid='Театр мюзикла', r_ui=4.0, est=3.876439790575917, details={'actual_k': 20, 'was_impossible': False}),\n Prediction(uid=15294, iid='Синема Парк', r_ui=5.0, est=3.2341463414634144, details={'actual_k': 40, 'was_impossible': False}),\n Prediction(uid=71546, iid='Эрти', r_ui=2.0, est=3.8286071367005707, details={'actual_k': 29, 'was_impossible': False}),\n Prediction(uid=40864, iid='Театр на Покровке', r_ui=4.0, est=3.476190476190476, details={'actual_k': 6, 'was_impossible': False}),\n Prediction(uid=47759, iid='Центр драматургии и режиссуры', r_ui=5.0, est=3.5816733067729087, details={'actual_k': 13, 'was_impossible': False}),\n Prediction(uid=95672, iid='Ведогонь-театр', r_ui=3.0, est=3.703885882931629, details={'actual_k': 19, 'was_impossible': False}),\n Prediction(uid=61450, iid='Everest Continental', r_ui=3.0, est=4.157161951436845, details={'actual_k': 17, 'was_impossible': False}),\n Prediction(uid=40140, iid='Unlock', r_ui=1.0, est=3.6691919191919196, details={'actual_k': 9, 'was_impossible': False}),\n Prediction(uid=73744, iid='Рыбный Базар', r_ui=4.0, est=3.624999999999999, details={'actual_k': 9, 'was_impossible': False}),\n Prediction(uid=72296, iid='Вега Измайлово', r_ui=4.0, est=3.328345446772126, details={'actual_k': 24, 'was_impossible': False}),\n Prediction(uid=52021, iid='MUNTERRA', r_ui=3.0, est=4.242424242424242, details={'actual_k': 7, 'was_impossible': False}),\n Prediction(uid=74364, iid='Vasilchuki chaihona №1', r_ui=5.0, est=3.957763738358479, details={'actual_k': 33, 'was_impossible': False}),\n Prediction(uid=15667, iid='Реберная №1', r_ui=5.0, est=3.1396648044692754, details={'actual_k': 26, 'was_impossible': False}),\n Prediction(uid=70171, iid='Frank by Баста', r_ui=1.0, est=3.65, details={'actual_k': 40, 'was_impossible': False}),\n Prediction(uid=7389, iid='Хлеб и вино', r_ui=5.0, est=4.333333333333333, details={'actual_k': 2, 'was_impossible': False}),\n Prediction(uid=41508, iid='Моремания', r_ui=4.0, est=3.7908163265306114, details={'actual_k': 40, 'was_impossible': False}),\n Prediction(uid=3846, iid='Мария Санта', r_ui=4.0, est=4.666666666666667, details={'actual_k': 2, 'was_impossible': False}),\n Prediction(uid=87895, iid='Театр им. Гоголя', r_ui=5.0, est=4.11764705882353, details={'actual_k': 4, 'was_impossible': False}),\n Prediction(uid=59836, iid='Хаос', r_ui=4.0, est=3.3180515759312317, details={'actual_k': 10, 'was_impossible': False}),\n Prediction(uid=8985, iid='Chow-chow', r_ui=2.0, est=4.407407407407407, details={'actual_k': 9, 'was_impossible': False}),\n Prediction(uid=6184, iid='Parfe', r_ui=4.0, est=4.0588235294117645, details={'actual_k': 6, 'was_impossible': False}),\n Prediction(uid=54628, iid='Сергеич', r_ui=5.0, est=3.95927601809955, details={'actual_k': 40, 'was_impossible': False}),\n Prediction(uid=83762, iid='Российская государственная детская библиотека', r_ui=1.0, est=3.944444444444445, details={'actual_k': 14, 'was_impossible': False}),\n Prediction(uid=14176, iid='Барвиха lounge', r_ui=4.0, est=3.710407239819006, details={'actual_k': 40, 'was_impossible': False}),\n Prediction(uid=82283, iid='Библиотека-читальня им. А.С. Пушкина', r_ui=3.0, est=3.5186567164179112, details={'actual_k': 40, 'was_impossible': False}),\n Prediction(uid=76449, iid='Библиотека №41', r_ui=3.0, est=3.8, details={'actual_k': 4, 'was_impossible': False}),\n Prediction(uid=98774, iid='Драматический театр им. А.С. Пушкина', r_ui=1.0, est=3.338648180242636, details={'actual_k': 40, 'was_impossible': False}),\n Prediction(uid=89252, iid='Комната', r_ui=4.0, est=3.8285714285714283, details={'actual_k': 7, 'was_impossible': False}),\n Prediction(uid=48081, iid='Red Town', r_ui=5.0, est=4.2272727272727275, details={'actual_k': 2, 'was_impossible': False}),\n Prediction(uid=19295, iid='Алана', r_ui=5.0, est=3.3963815789473677, details={'actual_k': 14, 'was_impossible': False}),\n Prediction(uid=10425, iid='Gallery Lounge', r_ui=3.0, est=3.372881355932203, details={'actual_k': 12, 'was_impossible': False}),\n Prediction(uid=60482, iid='Дружба', r_ui=5.0, est=4.145077720207254, details={'actual_k': 14, 'was_impossible': False}),\n Prediction(uid=68504, iid='Эрти', r_ui=3.0, est=3.9435139649253057, details={'actual_k': 23, 'was_impossible': False}),\n Prediction(uid=74418, iid='Oltremare', r_ui=2.0, est=2.6085409252669036, details={'actual_k': 9, 'was_impossible': False}),\n Prediction(uid=23322, iid='J`pan', r_ui=3.0, est=3.9203539823008864, details={'actual_k': 40, 'was_impossible': False}),\n Prediction(uid=77299, iid='Российская государственная библиотека', r_ui=4.0, est=3.525, details={'actual_k': 40, 'was_impossible': False}),\n Prediction(uid=58043, iid='Домик в саду', r_ui=5.0, est=3.9910661107802277, details={'actual_k': 40, 'was_impossible': False}),\n Prediction(uid=96834, iid='Губернский театр', r_ui=5.0, est=3.5500376222723853, details={'actual_k': 16, 'was_impossible': False}),\n Prediction(uid=85868, iid='Центральная библиотека №15 им. В.О. Ключевского', r_ui=5.0, est=4.749999999999999, details={'actual_k': 5, 'was_impossible': False}),\n Prediction(uid=47544, iid='Parka', r_ui=3.0, est=4.0, details={'actual_k': 2, 'was_impossible': False}),\n Prediction(uid=15687, iid='Моремания', r_ui=2.0, est=3.883476599808978, details={'actual_k': 11, 'was_impossible': False}),\n Prediction(uid=63660, iid='Луч', r_ui=4.0, est=3.7749999999999995, details={'actual_k': 10, 'was_impossible': False}),\n Prediction(uid=19623, iid='Дом в котором', r_ui=1.0, est=3.7274521413064963, details={'actual_k': 24, 'was_impossible': False}),\n Prediction(uid=50975, iid='Osteria Mario', r_ui=3.0, est=3.6190476190476195, details={'actual_k': 12, 'was_impossible': False}),\n Prediction(uid=11826, iid='Buongustaio Pizza&Pizzetta', r_ui=4.0, est=4.0, details={'actual_k': 6, 'was_impossible': False}),\n Prediction(uid=85971, iid='Библиотека №87', r_ui=4.0, est=3.991890205864005, details={'actual_k': 13, 'was_impossible': False}),\n Prediction(uid=96241, iid='Лисапарк', r_ui=5.0, est=3.638297872340426, details={'actual_k': 9, 'was_impossible': False}),\n Prediction(uid=87563, iid='Московский государственный историко-этнографический театр', r_ui=3.0, est=3.7380952380952377, details={'actual_k': 11, 'was_impossible': False}),\n Prediction(uid=85560, iid='Научная библиотека', r_ui=5.0, est=3.9305555555555554, details={'actual_k': 40, 'was_impossible': False}),\n Prediction(uid=51065, iid='P-square', r_ui=4.0, est=3.83256351039261, details={'actual_k': 12, 'was_impossible': False}),\n Prediction(uid=53341, iid='Arabist', r_ui=5.0, est=3.292786421499293, details={'actual_k': 9, 'was_impossible': False}),\n Prediction(uid=61731, iid='Assunta Madre', r_ui=5.0, est=4.575757575757575, details={'actual_k': 6, 'was_impossible': False}),\n Prediction(uid=86532, iid='Детская библиотека №141', r_ui=5.0, est=4.102941176470589, details={'actual_k': 13, 'was_impossible': False}),\n Prediction(uid=24106, iid='Truba', r_ui=3.0, est=2.0, details={'actual_k': 2, 'was_impossible': False}),\n Prediction(uid=87411, iid='Библиотека №50', r_ui=4.0, est=3.9532710280373835, details={'actual_k': 40, 'was_impossible': False}),\n Prediction(uid=78959, iid='Библиотека №147 им. С.С. Орлова', r_ui=4.0, est=4.221995926680245, details={'actual_k': 18, 'was_impossible': False}),\n Prediction(uid=3468, iid='Мiмi', r_ui=5.0, est=3.555984555984557, details={'actual_k': 40, 'was_impossible': False}),\n Prediction(uid=94137, iid='Театр кукол им. С.В. Образцова', r_ui=2.0, est=3.9347826086956528, details={'actual_k': 10, 'was_impossible': False}),\n Prediction(uid=61495, iid='Бутчер', r_ui=5.0, est=3.458782908933971, details={'actual_k': 40, 'was_impossible': False}),\n Prediction(uid=23248, iid='Джонджоли', r_ui=4.0, est=3.777003484320558, details={'actual_k': 40, 'was_impossible': False}),\n Prediction(uid=57320, iid='Кофемания', r_ui=5.0, est=3.4212962962962963, details={'actual_k': 40, 'was_impossible': False}),\n Prediction(uid=78660, iid='Российская государственная библиотека', r_ui=2.0, est=3.725, details={'actual_k': 40, 'was_impossible': False}),\n Prediction(uid=96293, iid='Театр Натальи Бондаревой', r_ui=4.0, est=3.3455432445840905, details={'actual_k': 19, 'was_impossible': False}),\n Prediction(uid=82905, iid='Библиотека №54', r_ui=3.0, est=3.101128290848309, details={'actual_k': 19, 'was_impossible': False}),\n Prediction(uid=50221, iid='Рыба моя', r_ui=1.0, est=3.972979862350242, details={'actual_k': 40, 'was_impossible': False}),\n Prediction(uid=67057, iid='Бочка', r_ui=1.0, est=3.856564019448946, details={'actual_k': 18, 'was_impossible': False}),\n Prediction(uid=83653, iid='Библиотека №58', r_ui=5.0, est=3.643101482326112, details={'actual_k': 16, 'was_impossible': False}),\n Prediction(uid=17787, iid='Барвиха lounge', r_ui=1.0, est=3.6931216931216952, details={'actual_k': 40, 'was_impossible': False}),\n Prediction(uid=42526, iid='Домик в саду', r_ui=5.0, est=3.554421768707483, details={'actual_k': 8, 'was_impossible': False}),\n Prediction(uid=64386, iid='Пилзнер', r_ui=3.0, est=3.8165599268069554, details={'actual_k': 27, 'was_impossible': False}),\n Prediction(uid=39557, iid='Рюмочная Ильича', r_ui=5.0, est=4.186440677966102, details={'actual_k': 5, 'was_impossible': False}),\n Prediction(uid=21932, iid='Unlock', r_ui=5.0, est=3.540178571428573, details={'actual_k': 23, 'was_impossible': False}),\n Prediction(uid=38586, iid='Buffalo`s', r_ui=4.0, est=4.538071065989847, details={'actual_k': 4, 'was_impossible': False}),\n Prediction(uid=22260, iid='Guns&Bears Pub', r_ui=5.0, est=2.3333333333333335, details={'actual_k': 2, 'was_impossible': False}),\n Prediction(uid=83259, iid='Московский педагогический государственный университет', r_ui=3.0, est=3.5833333333333335, details={'actual_k': 40, 'was_impossible': False}),\n Prediction(uid=62387, iid='Кофемания', r_ui=4.0, est=3.5, details={'actual_k': 40, 'was_impossible': False}),\n Prediction(uid=39095, iid='Культурный центр Э. Виторгана', r_ui=3.0, est=3.4880273660205248, details={'actual_k': 10, 'was_impossible': False}),\n Prediction(uid=10726, iid='Вегас', r_ui=5.0, est=4.3049040511727075, details={'actual_k': 5, 'was_impossible': False}),\n Prediction(uid=23319, iid='Дом в котором', r_ui=3.0, est=3.1387337057728115, details={'actual_k': 16, 'was_impossible': False}),\n Prediction(uid=43456, iid='Театр им. Е. Вахтангова', r_ui=4.0, est=4.1473780767466755, details={'actual_k': 27, 'was_impossible': False}),\n Prediction(uid=81599, iid='Детская библиотека №231 им. Н.А. Островского', r_ui=5.0, est=3.538230172550261, details={'actual_k': 25, 'was_impossible': False}),\n Prediction(uid=98713, iid='ТеНер', r_ui=4.0, est=3.908253270054405, details={'actual_k': 33, 'was_impossible': False}),\n Prediction(uid=48200, iid='Современник', r_ui=5.0, est=4.217002237136465, details={'actual_k': 9, 'was_impossible': False}),\n Prediction(uid=86453, iid='Библиотека №118 им. В.Н. Соколова', r_ui=5.0, est=3.1110655737704915, details={'actual_k': 11, 'was_impossible': False}),\n Prediction(uid=98087, iid='Лаборатория 3-0-7', r_ui=4.0, est=4.076470588235294, details={'actual_k': 34, 'was_impossible': False}),\n Prediction(uid=37763, iid='Fan cafe', r_ui=4.0, est=3.662921348314606, details={'actual_k': 11, 'was_impossible': False}),\n Prediction(uid=85169, iid='Библиотека №221 им. Р.И. Рождественского', r_ui=5.0, est=3.0, details={'actual_k': 40, 'was_impossible': False}),\n Prediction(uid=78946, iid='Библиотека №190', r_ui=2.0, est=3.3526077097505693, details={'actual_k': 22, 'was_impossible': False}),\n Prediction(uid=23196, iid='Баяр', r_ui=5.0, est=4.392324093816631, details={'actual_k': 10, 'was_impossible': False}),\n Prediction(uid=63797, iid='Дом культур', r_ui=1.0, est=4.1525423728813555, details={'actual_k': 10, 'was_impossible': False}),\n Prediction(uid=19902, iid='Ладо', r_ui=4.0, est=4.349745032530333, details={'actual_k': 20, 'was_impossible': False}),\n Prediction(uid=98684, iid='КукLab', r_ui=3.0, est=2.9676113360323884, details={'actual_k': 12, 'was_impossible': False}),\n Prediction(uid=50619, iid='Сунжа', r_ui=5.0, est=2.8399999999999994, details={'actual_k': 19, 'was_impossible': False}),\n Prediction(uid=59671, iid='Старик и море', r_ui=5.0, est=4.424137931034483, details={'actual_k': 17, 'was_impossible': False}),\n Prediction(uid=63991, iid='Ketch up', r_ui=3.0, est=3.9345898004434603, details={'actual_k': 27, 'was_impossible': False}),\n Prediction(uid=10552, iid='Secret dance hall', r_ui=1.0, est=3.4444444444444446, details={'actual_k': 4, 'was_impossible': False}),\n Prediction(uid=19361, iid='Каро', r_ui=2.0, est=5, details={'actual_k': 40, 'was_impossible': False}),\n Prediction(uid=15706, iid='Niqa', r_ui=5.0, est=3.9632264088761944, details={'actual_k': 17, 'was_impossible': False}),\n Prediction(uid=84478, iid='Детская библиотека №178 им. Агнии Барто', r_ui=3.0, est=4.09968847352025, details={'actual_k': 21, 'was_impossible': False}),\n Prediction(uid=79900, iid='Высшая школа менеджмента и технологий', r_ui=4.0, est=2.8331996792301513, details={'actual_k': 16, 'was_impossible': False}),\n Prediction(uid=75726, iid='Детская библиотека №22 им. Л. Кассиля', r_ui=3.0, est=3.6811594202898563, details={'actual_k': 19, 'was_impossible': False}),\n Prediction(uid=91695, iid='Театр драмы и комедии', r_ui=1.0, est=4.6875, details={'actual_k': 5, 'was_impossible': False}),\n Prediction(uid=21655, iid='Гарден', r_ui=5.0, est=3.8333333333333326, details={'actual_k': 6, 'was_impossible': False}),\n Prediction(uid=21076, iid='Kinoroom Moscow', r_ui=4.0, est=3.0777439024390243, details={'actual_k': 10, 'was_impossible': False}),\n Prediction(uid=58724, iid='Ми Ли', r_ui=5.0, est=4.931034482758619, details={'actual_k': 8, 'was_impossible': False}),\n Prediction(uid=48027, iid='Суло', r_ui=5.0, est=3.8749999999999996, details={'actual_k': 8, 'was_impossible': False}),\n Prediction(uid=56641, iid='Клешни и Хвосты', r_ui=5.0, est=3.7449260836883, details={'actual_k': 35, 'was_impossible': False}),\n Prediction(uid=41377, iid='Наш дом', r_ui=5.0, est=4.432098765432098, details={'actual_k': 16, 'was_impossible': False}),\n Prediction(uid=61365, iid='Клёвый', r_ui=5.0, est=2.706422018348623, details={'actual_k': 8, 'was_impossible': False}),\n Prediction(uid=73678, iid='The Рыба', r_ui=4.0, est=3.5218533160091794, details={'actual_k': 40, 'was_impossible': False}),\n Prediction(uid=37927, iid='Жар-птица', r_ui=3.0, est=3.5616045845272213, details={'actual_k': 13, 'was_impossible': False}),\n Prediction(uid=92576, iid='Оранжевое небо', r_ui=1.0, est=3.5110266159695818, details={'actual_k': 26, 'was_impossible': False}),\n Prediction(uid=39865, iid='Южная рюмочная', r_ui=3.0, est=3.0, details={'actual_k': 1, 'was_impossible': False}),\n Prediction(uid=38833, iid='Pauwel kwak', r_ui=5.0, est=4.235955056179776, details={'actual_k': 5, 'was_impossible': False}),\n Prediction(uid=4999, iid='Кимчи', r_ui=1.0, est=3.698422398291751, details={'was_impossible': True, 'reason': 'Not enough neighbors.'}),\n Prediction(uid=79010, iid='Библиотека №171', r_ui=2.0, est=3.6666666666666665, details={'actual_k': 2, 'was_impossible': False}),\n Prediction(uid=20206, iid='Киномакс', r_ui=2.0, est=3.698422398291751, details={'was_impossible': True, 'reason': 'User and/or item is unknown.'}),\n Prediction(uid=98907, iid='Эль Арт', r_ui=5.0, est=3.775510204081633, details={'actual_k': 9, 'was_impossible': False}),\n Prediction(uid=61028, iid='Гуси-Лебеди', r_ui=5.0, est=3.787770622687144, details={'actual_k': 40, 'was_impossible': False}),\n Prediction(uid=67296, iid='Дружба', r_ui=4.0, est=3.8983050847457625, details={'actual_k': 40, 'was_impossible': False}),\n Prediction(uid=68414, iid='Lucky Izakaya Bar', r_ui=3.0, est=3.692394456977121, details={'actual_k': 30, 'was_impossible': False}),\n Prediction(uid=13054, iid='Мельница', r_ui=4.0, est=3.0862944162436543, details={'actual_k': 3, 'was_impossible': False}),\n Prediction(uid=52084, iid='Eleven', r_ui=4.0, est=4.089399156861906, details={'actual_k': 32, 'was_impossible': False}),\n Prediction(uid=82126, iid='Российская государственная библиотека', r_ui=2.0, est=3.681588902900379, details={'actual_k': 34, 'was_impossible': False}),\n Prediction(uid=41383, iid='Место Притяжения', r_ui=3.0, est=3.937960954446856, details={'actual_k': 26, 'was_impossible': False}),\n Prediction(uid=23316, iid='Москино Космос', r_ui=2.0, est=4.888888888888889, details={'actual_k': 2, 'was_impossible': False}),\n Prediction(uid=62890, iid='Cuttacutta', r_ui=4.0, est=5, details={'actual_k': 1, 'was_impossible': False}),\n Prediction(uid=21455, iid='Чисто ростовский бар', r_ui=1.0, est=3.544483985765126, details={'actual_k': 15, 'was_impossible': False}),\n Prediction(uid=24171, iid='Сыто пьяно', r_ui=3.0, est=3.45, details={'actual_k': 40, 'was_impossible': False}),\n Prediction(uid=19501, iid='Bimba', r_ui=5.0, est=3.357568533969012, details={'actual_k': 24, 'was_impossible': False}),\n Prediction(uid=40290, iid='Детский театр эстрады', r_ui=3.0, est=2.5, details={'actual_k': 3, 'was_impossible': False}),\n Prediction(uid=53781, iid='Карлсон', r_ui=3.0, est=3.614617940199337, details={'actual_k': 40, 'was_impossible': False}),\n Prediction(uid=63973, iid='Mastersuit', r_ui=2.0, est=3.614406779661017, details={'actual_k': 17, 'was_impossible': False}),\n Prediction(uid=1135, iid='Buongiorno', r_ui=2.0, est=4.014385010577215, details={'actual_k': 23, 'was_impossible': False}),\n Prediction(uid=53781, iid='Vysota57 Lounge', r_ui=5.0, est=3.8544600938967126, details={'actual_k': 40, 'was_impossible': False}),\n Prediction(uid=18154, iid='7D-Avatar', r_ui=5.0, est=3.4730538922155687, details={'actual_k': 6, 'was_impossible': False}),\n Prediction(uid=6536, iid='Практика by Darvin', r_ui=5.0, est=3.690476190476191, details={'actual_k': 6, 'was_impossible': False}),\n Prediction(uid=54534, iid='Chekhoff Cafe&Bar', r_ui=4.0, est=3.5275024777006965, details={'actual_k': 40, 'was_impossible': False}),\n Prediction(uid=67683, iid='Флотилия Рэдиссон Ройал Москва', r_ui=5.0, est=4.138643067846609, details={'actual_k': 17, 'was_impossible': False}),\n Prediction(uid=16792, iid='Киноград', r_ui=1.0, est=4.410714285714285, details={'actual_k': 18, 'was_impossible': False}),\n Prediction(uid=94529, iid='Московский театр кукол', r_ui=5.0, est=3.84375, details={'actual_k': 6, 'was_impossible': False}),\n Prediction(uid=44329, iid='Натахтари', r_ui=5.0, est=3.468749999999999, details={'actual_k': 10, 'was_impossible': False}),\n Prediction(uid=75592, iid='Библиотека №131', r_ui=4.0, est=2.9130434782608687, details={'actual_k': 5, 'was_impossible': False}),\n Prediction(uid=76985, iid='Библиотека по естественным наукам РАН', r_ui=5.0, est=4.366666666666666, details={'actual_k': 8, 'was_impossible': False}),\n Prediction(uid=4216, iid='Izumi', r_ui=5.0, est=4.722222222222222, details={'actual_k': 5, 'was_impossible': False}),\n Prediction(uid=95535, iid='Театр им. М.А. Булгакова', r_ui=1.0, est=3.61747572815534, details={'actual_k': 11, 'was_impossible': False}),\n Prediction(uid=44520, iid='Золотая вобла', r_ui=3.0, est=3.936908517350158, details={'actual_k': 3, 'was_impossible': False}),\n Prediction(uid=198, iid='1929', r_ui=4.0, est=3.2235294117647064, details={'actual_k': 18, 'was_impossible': False}),\n Prediction(uid=8514, iid='Sur Bar', r_ui=5.0, est=3.6707818930041145, details={'actual_k': 10, 'was_impossible': False}),\n Prediction(uid=58214, iid='Кафе на Останкинской башне', r_ui=2.0, est=4.430458970792768, details={'actual_k': 16, 'was_impossible': False}),\n Prediction(uid=58612, iid='Cho Asia bistro', r_ui=4.0, est=3.897550111358574, details={'actual_k': 9, 'was_impossible': False}),\n Prediction(uid=42270, iid='Ленком Марка Захарова', r_ui=4.0, est=3.8379923761118184, details={'actual_k': 16, 'was_impossible': False}),\n Prediction(uid=51776, iid='Sangre fresca', r_ui=3.0, est=1, details={'actual_k': 1, 'was_impossible': False}),\n Prediction(uid=48279, iid='Pasta на Солянке', r_ui=3.0, est=3.6304347826086967, details={'actual_k': 17, 'was_impossible': False}),\n Prediction(uid=17182, iid='Эссе', r_ui=3.0, est=3.801056338028169, details={'actual_k': 35, 'was_impossible': False}),\n Prediction(uid=79169, iid='Институт Сервантеса', r_ui=3.0, est=3.716272600834493, details={'actual_k': 18, 'was_impossible': False}),\n Prediction(uid=48340, iid='Циники', r_ui=2.0, est=3.320524835988753, details={'actual_k': 16, 'was_impossible': False}),\n Prediction(uid=14967, iid='Эзо', r_ui=5.0, est=3.7698113207547186, details={'actual_k': 23, 'was_impossible': False}),\n Prediction(uid=73105, iid='Sabor de la Vida', r_ui=3.0, est=4.210526315789473, details={'actual_k': 8, 'was_impossible': False}),\n Prediction(uid=95191, iid='На Пироговке', r_ui=4.0, est=3.5, details={'actual_k': 4, 'was_impossible': False}),\n Prediction(uid=11431, iid='Frank by Баста', r_ui=5.0, est=3.644171779141104, details={'actual_k': 6, 'was_impossible': False}),\n Prediction(uid=62285, iid='Goodman Prime', r_ui=3.0, est=3.893081761006289, details={'actual_k': 40, 'was_impossible': False}),\n Prediction(uid=67611, iid='Mushrooms', r_ui=5.0, est=3.696048632218846, details={'actual_k': 21, 'was_impossible': False}),\n Prediction(uid=77642, iid='Центральная детская библиотека №226', r_ui=4.0, est=3.8432919954904166, details={'actual_k': 14, 'was_impossible': False}),\n Prediction(uid=45665, iid='Государственный академический Малый театр России', r_ui=4.0, est=3.7341772151898738, details={'actual_k': 14, 'was_impossible': False}),\n Prediction(uid=38630, iid='Новый театр', r_ui=3.0, est=4.3584905660377355, details={'actual_k': 3, 'was_impossible': False}),\n Prediction(uid=62745, iid='Krombacher Beer Kitchen', r_ui=4.0, est=3.289993192648062, details={'actual_k': 29, 'was_impossible': False}),\n Prediction(uid=61043, iid='Sage', r_ui=3.0, est=3.7524119633381585, details={'actual_k': 30, 'was_impossible': False}),\n Prediction(uid=23214, iid='Mori Cinema', r_ui=3.0, est=3.4936708860759507, details={'actual_k': 40, 'was_impossible': False}),\n Prediction(uid=23664, iid='Публика', r_ui=5.0, est=3.26565970679698, details={'actual_k': 21, 'was_impossible': False}),\n Prediction(uid=16155, iid='Guns&Bears Pub', r_ui=3.0, est=4.704113924050632, details={'actual_k': 7, 'was_impossible': False}),\n Prediction(uid=49535, iid='Вертикаль', r_ui=3.0, est=3.526862881057922, details={'actual_k': 27, 'was_impossible': False}),\n Prediction(uid=4679, iid='The tipsy pub', r_ui=5.0, est=3.7530864197530867, details={'actual_k': 13, 'was_impossible': False}),\n Prediction(uid=42296, iid='Чё', r_ui=4.0, est=5, details={'actual_k': 1, 'was_impossible': False}),\n Prediction(uid=77958, iid='Библиотека №150', r_ui=5.0, est=4.01305970149254, details={'actual_k': 17, 'was_impossible': False}),\n Prediction(uid=46003, iid='Куклы и Люди', r_ui=1.0, est=4.011862396204033, details={'actual_k': 12, 'was_impossible': False}),\n Prediction(uid=99045, iid='Абрикотин', r_ui=1.0, est=4.650121065375302, details={'actual_k': 10, 'was_impossible': False}),\n Prediction(uid=66560, iid='Гуси-Лебеди', r_ui=4.0, est=3.4625360230547555, details={'actual_k': 40, 'was_impossible': False}),\n Prediction(uid=66267, iid='Кепи', r_ui=5.0, est=3.6884283277273746, details={'actual_k': 38, 'was_impossible': False}),\n Prediction(uid=88165, iid='Музыкальный театр', r_ui=3.0, est=4.160714285714286, details={'actual_k': 10, 'was_impossible': False}),\n Prediction(uid=39138, iid='Jules zang', r_ui=5.0, est=3.3124999999999996, details={'actual_k': 13, 'was_impossible': False}),\n Prediction(uid=41038, iid='Морфеус', r_ui=5.0, est=3.4225352112676055, details={'actual_k': 13, 'was_impossible': False}),\n Prediction(uid=9423, iid='Connolly Station', r_ui=5.0, est=3.698422398291751, details={'was_impossible': True, 'reason': 'Not enough neighbors.'}),\n Prediction(uid=63226, iid='Ми Ли', r_ui=5.0, est=4.047674418604652, details={'actual_k': 14, 'was_impossible': False}),\n Prediction(uid=8963, iid='Mishki Bar', r_ui=5.0, est=4.7384615384615385, details={'actual_k': 9, 'was_impossible': False}),\n Prediction(uid=80487, iid='Библиотека №23 им. М. Горького', r_ui=5.0, est=3.043478260869566, details={'actual_k': 40, 'was_impossible': False}),\n Prediction(uid=16586, iid='Nebar', r_ui=4.0, est=3.522292993630575, details={'actual_k': 26, 'was_impossible': False}),\n Prediction(uid=71741, iid='Раковая на Таганке', r_ui=5.0, est=3.673758865248228, details={'actual_k': 8, 'was_impossible': False}),\n Prediction(uid=75478, iid='Российская государственная библиотека для молодёжи', r_ui=3.0, est=3.48045934432302, details={'actual_k': 24, 'was_impossible': False}),\n Prediction(uid=76273, iid='Библиотека №62 им. Пабло Неруды', r_ui=1.0, est=4.261577770680294, details={'actual_k': 37, 'was_impossible': False}),\n Prediction(uid=50302, iid='МТ music bar', r_ui=4.0, est=3.957739791073127, details={'actual_k': 40, 'was_impossible': False}),\n Prediction(uid=85559, iid='Библиотека №190', r_ui=4.0, est=3.5409836065573765, details={'actual_k': 12, 'was_impossible': False}),\n Prediction(uid=17594, iid='Баяр', r_ui=4.0, est=4.0, details={'actual_k': 3, 'was_impossible': False}),\n Prediction(uid=83049, iid='Детская библиотека №207 им. В.В. Бианки', r_ui=1.0, est=3.752953813104189, details={'actual_k': 14, 'was_impossible': False}),\n Prediction(uid=54236, iid='Жасмин', r_ui=3.0, est=3.011627906976744, details={'actual_k': 7, 'was_impossible': False}),\n Prediction(uid=17828, iid='Beersach', r_ui=3.0, est=3.2297650130548305, details={'actual_k': 23, 'was_impossible': False}),\n Prediction(uid=75436, iid='Московский государственный институт музыки им. А.Г. Шнитке', r_ui=3.0, est=3.2, details={'actual_k': 15, 'was_impossible': False}),\n Prediction(uid=24228, iid='Blanc', r_ui=2.0, est=3.4646153846153864, details={'actual_k': 22, 'was_impossible': False}),\n Prediction(uid=97643, iid='Человек', r_ui=5.0, est=3.54916439953362, details={'actual_k': 35, 'was_impossible': False}),\n Prediction(uid=88558, iid='Грим масса', r_ui=1.0, est=4.270377733598409, details={'actual_k': 7, 'was_impossible': False}),\n Prediction(uid=92721, iid='Государственный академический Большой театр России', r_ui=4.0, est=3.093749999999999, details={'actual_k': 9, 'was_impossible': False}),\n Prediction(uid=12592, iid='Хлеб и вино', r_ui=5.0, est=4.156249999999999, details={'actual_k': 15, 'was_impossible': False}),\n Prediction(uid=74305, iid='G&t gourmet', r_ui=4.0, est=3.956140350877195, details={'actual_k': 21, 'was_impossible': False}),\n Prediction(uid=2116, iid='Niqa', r_ui=5.0, est=4.364548494983278, details={'actual_k': 4, 'was_impossible': False}),\n Prediction(uid=9520, iid='Здрасьте! Нам по пасте!', r_ui=2.0, est=3.32, details={'actual_k': 11, 'was_impossible': False}),\n Prediction(uid=65731, iid='Кинза', r_ui=5.0, est=3.585052347880171, details={'actual_k': 25, 'was_impossible': False}),\n Prediction(uid=39260, iid='Прогресс-сцена А. Джигарханяна', r_ui=5.0, est=3.640957446808512, details={'actual_k': 24, 'was_impossible': False}),\n Prediction(uid=72542, iid='Red Lion Pub', r_ui=1.0, est=3.8690662493479433, details={'actual_k': 31, 'was_impossible': False}),\n Prediction(uid=58809, iid='Veches lounge bar and kitchen', r_ui=3.0, est=3.509433962264151, details={'actual_k': 11, 'was_impossible': False}),\n Prediction(uid=17798, iid='Mastersuit', r_ui=2.0, est=4.334056399132322, details={'actual_k': 20, 'was_impossible': False}),\n Prediction(uid=67416, iid='Assunta Madre', r_ui=5.0, est=3.153846153846156, details={'actual_k': 20, 'was_impossible': False}),\n Prediction(uid=13682, iid='Скрепка', r_ui=5.0, est=3.4768751234716953, details={'actual_k': 23, 'was_impossible': False}),\n Prediction(uid=10800, iid='Veladora', r_ui=3.0, est=3.4561403508771926, details={'actual_k': 11, 'was_impossible': False}),\n Prediction(uid=81837, iid='Библиотека №12 им. И.А. Бунина', r_ui=1.0, est=4.55, details={'actual_k': 5, 'was_impossible': False}),\n Prediction(uid=21651, iid='Legacy lounge & bar', r_ui=5.0, est=3.4999999999999996, details={'actual_k': 5, 'was_impossible': False}),\n Prediction(uid=50582, iid='МТ music bar', r_ui=3.0, est=3.4020813623462622, details={'actual_k': 12, 'was_impossible': False}),\n Prediction(uid=20814, iid='Киномакс', r_ui=4.0, est=3.93122270742358, details={'actual_k': 40, 'was_impossible': False}),\n Prediction(uid=71554, iid='Eno bistro', r_ui=1.0, est=3.9319371727748718, details={'actual_k': 21, 'was_impossible': False}),\n Prediction(uid=3881, iid='Петрович', r_ui=3.0, est=2.0, details={'actual_k': 3, 'was_impossible': False}),\n Prediction(uid=44174, iid='Megobari', r_ui=2.0, est=4.269826800364631, details={'actual_k': 18, 'was_impossible': False}),\n Prediction(uid=42962, iid='Здрасьте! Нам по пасте!', r_ui=5.0, est=3.0000000000000004, details={'actual_k': 1, 'was_impossible': False}),\n Prediction(uid=79368, iid='Объединение культурных центров Западного административного округа', r_ui=5.0, est=3.379518072289157, details={'actual_k': 40, 'was_impossible': False}),\n Prediction(uid=14724, iid='Frank by Баста', r_ui=3.0, est=3.7662337662337664, details={'actual_k': 40, 'was_impossible': False}),\n Prediction(uid=13345, iid='Arabist', r_ui=5.0, est=4.470588235294118, details={'actual_k': 9, 'was_impossible': False}),\n Prediction(uid=58140, iid='Tsunami Sushi&Cocktails', r_ui=5.0, est=4.064516129032258, details={'actual_k': 13, 'was_impossible': False}),\n Prediction(uid=47314, iid='Рыжий театр', r_ui=1.0, est=3.2857142857142856, details={'actual_k': 12, 'was_impossible': False}),\n Prediction(uid=92017, iid='Высшая школа экономики', r_ui=5.0, est=3.772727272727273, details={'actual_k': 9, 'was_impossible': False}),\n Prediction(uid=15087, iid='Harat`s pub', r_ui=3.0, est=4.204506065857885, details={'actual_k': 40, 'was_impossible': False}),\n Prediction(uid=8703, iid='Культурный код', r_ui=4.0, est=3.6428571428571432, details={'actual_k': 16, 'was_impossible': False}),\n Prediction(uid=49044, iid='Шоколадница', r_ui=5.0, est=3.774869109947643, details={'actual_k': 40, 'was_impossible': False}),\n Prediction(uid=22662, iid='Dream', r_ui=1.0, est=4.125, details={'actual_k': 6, 'was_impossible': False}),\n Prediction(uid=52439, iid='Ugolёk', r_ui=3.0, est=3.1528223955943098, details={'actual_k': 20, 'was_impossible': False}),\n Prediction(uid=14273, iid='She', r_ui=5.0, est=3.890909090909091, details={'actual_k': 40, 'was_impossible': False}),\n Prediction(uid=62668, iid='Magic harp', r_ui=5.0, est=4.13976833976834, details={'actual_k': 16, 'was_impossible': False}),\n Prediction(uid=43906, iid='Нью-Йорк пицца и гриль', r_ui=4.0, est=3.6106705118961786, details={'actual_k': 19, 'was_impossible': False}),\n Prediction(uid=3043, iid='Semenov', r_ui=5.0, est=3.75, details={'actual_k': 3, 'was_impossible': False}),\n Prediction(uid=57956, iid='Miss you', r_ui=5.0, est=3.9043478260869584, details={'actual_k': 40, 'was_impossible': False}),\n Prediction(uid=87294, iid='Научная библиотека', r_ui=5.0, est=3.975, details={'actual_k': 40, 'was_impossible': False}),\n Prediction(uid=479, iid='Metafora bar', r_ui=3.0, est=3.9210526315789473, details={'actual_k': 7, 'was_impossible': False}),\n Prediction(uid=38047, iid='Старик и море', r_ui=1.0, est=3.5000000000000004, details={'actual_k': 3, 'was_impossible': False}),\n Prediction(uid=94669, iid='Театр на Покровке', r_ui=5.0, est=4.050317705650012, details={'actual_k': 31, 'was_impossible': False}),\n Prediction(uid=61500, iid='Avgust13', r_ui=2.0, est=3.7928098391674565, details={'actual_k': 28, 'was_impossible': False}),\n Prediction(uid=91011, iid='Переделкино', r_ui=4.0, est=3.018214936247723, details={'actual_k': 12, 'was_impossible': False}),\n Prediction(uid=69101, iid='Сыроварня', r_ui=5.0, est=3.4225352112676055, details={'actual_k': 40, 'was_impossible': False}),\n Prediction(uid=81220, iid='Библиотека №160', r_ui=3.0, est=4.0, details={'actual_k': 3, 'was_impossible': False}),\n Prediction(uid=62236, iid='Мунк', r_ui=4.0, est=1.6666666666666667, details={'actual_k': 2, 'was_impossible': False}),\n Prediction(uid=44753, iid='Одесса-мама', r_ui=5.0, est=4.028571428571428, details={'actual_k': 8, 'was_impossible': False}),\n Prediction(uid=13409, iid='Синема Парк', r_ui=1.0, est=3.361745306950788, details={'actual_k': 27, 'was_impossible': False}),\n Prediction(uid=85888, iid='Детская библиотека №125', r_ui=2.0, est=3.0000000000000004, details={'actual_k': 1, 'was_impossible': False}),\n Prediction(uid=15670, iid='Айва', r_ui=4.0, est=4.050089445438283, details={'actual_k': 17, 'was_impossible': False}),\n Prediction(uid=68069, iid='Magic harp', r_ui=5.0, est=3.657839721254356, details={'actual_k': 22, 'was_impossible': False}),\n Prediction(uid=9505, iid='Хитрые люди', r_ui=5.0, est=3.31404958677686, details={'actual_k': 6, 'was_impossible': False}),\n Prediction(uid=99241, iid='Фонд Сергея Безрукова', r_ui=3.0, est=3.8040315500654427, details={'actual_k': 35, 'was_impossible': False}),\n Prediction(uid=53869, iid='Kochegar', r_ui=5.0, est=3.8590604026845643, details={'actual_k': 12, 'was_impossible': False}),\n Prediction(uid=84525, iid='Библиотека №1 им. А.С. Грибоедова', r_ui=5.0, est=3.839167455061495, details={'actual_k': 16, 'was_impossible': False}),\n Prediction(uid=51045, iid='Uhvat', r_ui=1.0, est=3.0683229813664608, details={'actual_k': 18, 'was_impossible': False}),\n Prediction(uid=19374, iid='Kitchen', r_ui=4.0, est=3.617996604414261, details={'actual_k': 13, 'was_impossible': False}),\n Prediction(uid=73663, iid='Peach', r_ui=5.0, est=3.3293982147998857, details={'actual_k': 38, 'was_impossible': False}),\n Prediction(uid=66972, iid='Dolce far niente', r_ui=3.0, est=3.364864864864865, details={'actual_k': 15, 'was_impossible': False}),\n Prediction(uid=83883, iid='Детская библиотека №163', r_ui=4.0, est=4.025159744408947, details={'actual_k': 20, 'was_impossible': False}),\n Prediction(uid=72175, iid='Phantom', r_ui=5.0, est=4.098070739549839, details={'actual_k': 8, 'was_impossible': False}),\n Prediction(uid=74427, iid='Кофемания', r_ui=1.0, est=3.949579831932774, details={'actual_k': 40, 'was_impossible': False}),\n Prediction(uid=4378, iid='Admiral', r_ui=1.0, est=3.09375, details={'actual_k': 6, 'was_impossible': False}),\n Prediction(uid=81134, iid='Библиотека №171', r_ui=5.0, est=3.623052959501559, details={'actual_k': 29, 'was_impossible': False}),\n Prediction(uid=44892, iid='Оранжевое небо', r_ui=5.0, est=3.3750000000000004, details={'actual_k': 3, 'was_impossible': False}),\n Prediction(uid=96348, iid='Твой Театр', r_ui=1.0, est=3.595854922279792, details={'actual_k': 18, 'was_impossible': False}),\n Prediction(uid=42865, iid='Buongiorno', r_ui=5.0, est=4.105263157894737, details={'actual_k': 4, 'was_impossible': False}),\n Prediction(uid=9728, iid='Killfish', r_ui=4.0, est=4.3478260869565215, details={'actual_k': 6, 'was_impossible': False}),\n Prediction(uid=86269, iid='Российская государственная библиотека', r_ui=5.0, est=3.4754098360655736, details={'actual_k': 40, 'was_impossible': False}),\n Prediction(uid=49095, iid='Моремания', r_ui=2.0, est=3.793103448275862, details={'actual_k': 40, 'was_impossible': False}),\n Prediction(uid=41810, iid='Кафе на Останкинской башне', r_ui=2.0, est=4.012106537530267, details={'actual_k': 9, 'was_impossible': False}),\n Prediction(uid=79438, iid='Библиотека №44 им. В.Г. Короленко', r_ui=5.0, est=3.864968152866242, details={'actual_k': 40, 'was_impossible': False}),\n Prediction(uid=48119, iid='Реберная №1', r_ui=3.0, est=4.4363636363636365, details={'actual_k': 16, 'was_impossible': False}),\n Prediction(uid=56068, iid='Kinza', r_ui=5.0, est=4.303750660327524, details={'actual_k': 19, 'was_impossible': False}),\n Prediction(uid=2759, iid='Сыто пьяно', r_ui=5.0, est=3.578034682080925, details={'actual_k': 40, 'was_impossible': False}),\n Prediction(uid=63277, iid='Everest Continental', r_ui=3.0, est=3.4849954531676253, details={'actual_k': 14, 'was_impossible': False}),\n Prediction(uid=19038, iid='Синема Парк', r_ui=3.0, est=3.731292517006803, details={'actual_k': 40, 'was_impossible': False}),\n Prediction(uid=11177, iid='АндерСон', r_ui=3.0, est=3.852742210051074, details={'actual_k': 38, 'was_impossible': False}),\n Prediction(uid=93791, iid='Центр драматургии и режиссуры', r_ui=2.0, est=3.7660322714108414, details={'actual_k': 40, 'was_impossible': False}),\n Prediction(uid=40288, iid='Плов-центр', r_ui=4.0, est=4.333333333333333, details={'actual_k': 4, 'was_impossible': False}),\n Prediction(uid=3380, iid='La Boom', r_ui=1.0, est=2.230769230769231, details={'actual_k': 4, 'was_impossible': False}),\n Prediction(uid=85074, iid='Центральная библиотека им. Н.А. Некрасова', r_ui=3.0, est=3.7857142857142865, details={'actual_k': 40, 'was_impossible': False}),\n Prediction(uid=98536, iid='Ведогонь-театр', r_ui=5.0, est=3.170731707317073, details={'actual_k': 13, 'was_impossible': False}),\n Prediction(uid=37825, iid='Индийские Карри Indian Curry', r_ui=5.0, est=3.928571428571429, details={'actual_k': 8, 'was_impossible': False}),\n Prediction(uid=52943, iid='Сыроварня', r_ui=5.0, est=3.781115879828327, details={'actual_k': 40, 'was_impossible': False}),\n Prediction(uid=20744, iid='Бульвар', r_ui=5.0, est=2.9108096999588984, details={'actual_k': 6, 'was_impossible': False}),\n Prediction(uid=98532, iid='Государственный академический Большой театр России', r_ui=3.0, est=4.0910066537883685, details={'actual_k': 40, 'was_impossible': False}),\n Prediction(uid=87548, iid='Геликон-Опера', r_ui=3.0, est=4.492366412213742, details={'actual_k': 21, 'was_impossible': False}),\n Prediction(uid=86784, iid='Библиотека №25 им. Всеволода Иванова', r_ui=4.0, est=3.7571894758311255, details={'actual_k': 22, 'was_impossible': False}),\n Prediction(uid=47516, iid='Театр сатиры', r_ui=1.0, est=3.6749999999999994, details={'actual_k': 12, 'was_impossible': False}),\n Prediction(uid=81303, iid='Библиотека №248', r_ui=5.0, est=3.8007028973084207, details={'actual_k': 27, 'was_impossible': False}),\n Prediction(uid=68665, iid='Каспийка', r_ui=1.0, est=5, details={'actual_k': 3, 'was_impossible': False}),\n Prediction(uid=68251, iid='Grand Урюк Berezka', r_ui=5.0, est=3.8840880764437067, details={'actual_k': 31, 'was_impossible': False}),\n Prediction(uid=97430, iid='Театроль-театр', r_ui=5.0, est=3.7738359201773832, details={'actual_k': 18, 'was_impossible': False}),\n Prediction(uid=93925, iid='Малыш хаус', r_ui=1.0, est=3.5085604855229193, details={'actual_k': 33, 'was_impossible': False}),\n Prediction(uid=87540, iid='Около дома Станиславского', r_ui=5.0, est=3.6652053601964996, details={'actual_k': 34, 'was_impossible': False}),\n Prediction(uid=86410, iid='Библиотека №243', r_ui=3.0, est=3.492874478810132, details={'actual_k': 28, 'was_impossible': False}),\n Prediction(uid=75546, iid='Московский педагогический государственный университет', r_ui=2.0, est=3.393939393939394, details={'actual_k': 40, 'was_impossible': False}),\n Prediction(uid=47415, iid='Tokpokki', r_ui=3.0, est=2.8205741626794256, details={'actual_k': 11, 'was_impossible': False}),\n Prediction(uid=42035, iid='Faiza', r_ui=4.0, est=3.200325071109307, details={'actual_k': 34, 'was_impossible': False}),\n Prediction(uid=13377, iid='Каро', r_ui=1.0, est=4.303571428571429, details={'actual_k': 40, 'was_impossible': False}),\n Prediction(uid=49723, iid='Комедиантъ', r_ui=1.0, est=3.9259259259259256, details={'actual_k': 4, 'was_impossible': False}),\n Prediction(uid=49986, iid='Кремлёвский', r_ui=4.0, est=3.803863298662703, details={'actual_k': 15, 'was_impossible': False}),\n Prediction(uid=58887, iid='Козловна', r_ui=5.0, est=2.7637109174782166, details={'actual_k': 19, 'was_impossible': False}),\n Prediction(uid=57532, iid='Maroon', r_ui=4.0, est=3.449661149485209, details={'actual_k': 40, 'was_impossible': False}),\n Prediction(uid=79395, iid='Центральная библиотека №52', r_ui=4.0, est=3.4466268146883023, details={'actual_k': 23, 'was_impossible': False}),\n Prediction(uid=78492, iid='Познание', r_ui=5.0, est=3.5517241379310343, details={'actual_k': 5, 'was_impossible': False}),\n Prediction(uid=21823, iid='Синема Парк', r_ui=5.0, est=3.4150943396226414, details={'actual_k': 40, 'was_impossible': False}),\n Prediction(uid=83208, iid='Библиотека №107', r_ui=2.0, est=3.5181092074537403, details={'actual_k': 34, 'was_impossible': False}),\n Prediction(uid=57927, iid='Якитория', r_ui=5.0, est=3.2461340206185603, details={'actual_k': 32, 'was_impossible': False}),\n Prediction(uid=87487, iid='Центральная городская молодежная библиотека им. М.А. Светлова', r_ui=2.0, est=3.563318777292578, details={'actual_k': 40, 'was_impossible': False}),\n Prediction(uid=14538, iid='Kiosk 1936', r_ui=3.0, est=3.525491113189897, details={'actual_k': 34, 'was_impossible': False}),\n Prediction(uid=91373, iid='Театр им. Моссовета', r_ui=5.0, est=3.210268948655258, details={'actual_k': 40, 'was_impossible': False}),\n Prediction(uid=74410, iid='Osteria Unica', r_ui=4.0, est=3.5468749999999996, details={'actual_k': 15, 'was_impossible': False}),\n Prediction(uid=91149, iid='Первый театр', r_ui=4.0, est=4.2375629405840884, details={'actual_k': 19, 'was_impossible': False}),\n Prediction(uid=4950, iid='Кусочки', r_ui=5.0, est=3.399061032863849, details={'actual_k': 12, 'was_impossible': False}),\n Prediction(uid=94770, iid='Дом', r_ui=4.0, est=3.5950413223140503, details={'actual_k': 21, 'was_impossible': False}),\n Prediction(uid=14077, iid='Мунк', r_ui=2.0, est=3.3760945709281978, details={'actual_k': 24, 'was_impossible': False}),\n Prediction(uid=73020, iid='Balzi Rossi', r_ui=5.0, est=3.9946192052980156, details={'actual_k': 32, 'was_impossible': False}),\n Prediction(uid=15754, iid='АндерСон', r_ui=5.0, est=3.3984278030616464, details={'actual_k': 40, 'was_impossible': False}),\n Prediction(uid=5419, iid='Kiosk 1936', r_ui=5.0, est=3.698422398291751, details={'was_impossible': True, 'reason': 'Not enough neighbors.'}),\n Prediction(uid=97719, iid='Бродячий Вертеп', r_ui=4.0, est=3.8839031339031336, details={'actual_k': 28, 'was_impossible': False}),\n Prediction(uid=16732, iid='Поклонка', r_ui=5.0, est=4.0, details={'actual_k': 1, 'was_impossible': False}),\n Prediction(uid=53329, iid='Бор', r_ui=4.0, est=3.6551724137931028, details={'actual_k': 16, 'was_impossible': False}),\n Prediction(uid=94265, iid='Московский театр мастерская П.Н. Фоменко', r_ui=5.0, est=3.2112054884024865, details={'actual_k': 40, 'was_impossible': False}),\n Prediction(uid=24716, iid='БлинБери', r_ui=1.0, est=3.454163162321279, details={'actual_k': 21, 'was_impossible': False}),\n Prediction(uid=70204, iid='Кинза', r_ui=2.0, est=3.964285714285715, details={'actual_k': 23, 'was_impossible': False}),\n Prediction(uid=53805, iid='Everest Continental', r_ui=1.0, est=4.118116314976842, details={'actual_k': 23, 'was_impossible': False}),\n Prediction(uid=99028, iid='Драматический театр', r_ui=5.0, est=3.75, details={'actual_k': 10, 'was_impossible': False}),\n Prediction(uid=11835, iid='The Abbey Players Pub', r_ui=5.0, est=2.364341085271318, details={'actual_k': 3, 'was_impossible': False}),\n Prediction(uid=21074, iid='Metafora bar', r_ui=1.0, est=3.756042296072508, details={'actual_k': 21, 'was_impossible': False}),\n Prediction(uid=93264, iid='Маленький театр кукол', r_ui=2.0, est=3.6617151792157814, details={'actual_k': 23, 'was_impossible': False}),\n Prediction(uid=97500, iid='Наш дом', r_ui=5.0, est=3.587972368955709, details={'actual_k': 40, 'was_impossible': False}),\n Prediction(uid=54403, iid='SvoY', r_ui=3.0, est=4.575342465753424, details={'actual_k': 11, 'was_impossible': False}),\n Prediction(uid=46515, iid='Глас', r_ui=3.0, est=4.527121888959797, details={'actual_k': 16, 'was_impossible': False}),\n Prediction(uid=86578, iid='Центральная библиотека №106', r_ui=4.0, est=2.7911111111111118, details={'actual_k': 15, 'was_impossible': False}),\n Prediction(uid=43777, iid='Грим масса', r_ui=4.0, est=3.817861856577211, details={'actual_k': 20, 'was_impossible': False}),\n Prediction(uid=73226, iid='Lariote', r_ui=5.0, est=3.592592592592594, details={'actual_k': 13, 'was_impossible': False}),\n Prediction(uid=19716, iid='Фетучини', r_ui=4.0, est=3.3107901072444754, details={'actual_k': 17, 'was_impossible': False}),\n Prediction(uid=66512, iid='Марчеллис', r_ui=5.0, est=4.169491525423728, details={'actual_k': 14, 'was_impossible': False}),\n Prediction(uid=58823, iid='Valenok', r_ui=5.0, est=3.1982081360309973, details={'actual_k': 28, 'was_impossible': False}),\n Prediction(uid=51234, iid='Джонджоли', r_ui=3.0, est=3.8151260504201687, details={'actual_k': 40, 'was_impossible': False}),\n Prediction(uid=72443, iid='Most Restaurant & Lounge', r_ui=5.0, est=3.487092621451319, details={'actual_k': 20, 'was_impossible': False}),\n Prediction(uid=21650, iid='Киномакс', r_ui=5.0, est=3.7115384615384617, details={'actual_k': 40, 'was_impossible': False}),\n Prediction(uid=55827, iid='Chekhoff Cafe&Bar', r_ui=3.0, est=3.132127955493742, details={'actual_k': 14, 'was_impossible': False}),\n Prediction(uid=80598, iid='Библиотека №123', r_ui=2.0, est=3.8800193517174666, details={'actual_k': 24, 'was_impossible': False}),\n Prediction(uid=52533, iid='Red Lion Pub', r_ui=1.0, est=3.473576403113479, details={'actual_k': 27, 'was_impossible': False}),\n Prediction(uid=39374, iid='Театр современной драматургии', r_ui=1.0, est=4.369863013698629, details={'actual_k': 17, 'was_impossible': False}),\n Prediction(uid=76591, iid='Библиотека №13 им. Н.Г. Чернышевского', r_ui=5.0, est=3.7218338399189475, details={'actual_k': 22, 'was_impossible': False}),\n Prediction(uid=71469, iid='Kochegar', r_ui=5.0, est=3.65141864504922, details={'actual_k': 18, 'was_impossible': False}),\n Prediction(uid=51304, iid='Hong Kong', r_ui=5.0, est=3.5951478392721756, details={'actual_k': 24, 'was_impossible': False}),\n Prediction(uid=884, iid='Вареничная №1', r_ui=5.0, est=3.6956521739130435, details={'actual_k': 40, 'was_impossible': False}),\n Prediction(uid=69316, iid='Lюstra bar', r_ui=5.0, est=3.9019138755980864, details={'actual_k': 8, 'was_impossible': False}),\n Prediction(uid=66242, iid='Maroon', r_ui=5.0, est=3.582417582417584, details={'actual_k': 17, 'was_impossible': False}),\n Prediction(uid=22540, iid='Я тебя люля', r_ui=5.0, est=4.894736842105263, details={'actual_k': 2, 'was_impossible': False}),\n Prediction(uid=84729, iid='Научная библиотека', r_ui=4.0, est=3.450757575757576, details={'actual_k': 40, 'was_impossible': False}),\n Prediction(uid=62358, iid='Eshak', r_ui=4.0, est=3.127272727272727, details={'actual_k': 12, 'was_impossible': False}),\n Prediction(uid=53290, iid='У Адама', r_ui=1.0, est=3.4943999999999997, details={'actual_k': 12, 'was_impossible': False}),\n Prediction(uid=3044, iid='Гараж', r_ui=1.0, est=1.6666666666666667, details={'actual_k': 3, 'was_impossible': False}),\n Prediction(uid=22714, iid='Формула Кино', r_ui=2.0, est=5, details={'actual_k': 40, 'was_impossible': False}),\n Prediction(uid=94616, iid='Государственный академический Большой театр России', r_ui=3.0, est=3.5868868797608036, details={'actual_k': 40, 'was_impossible': False}),\n Prediction(uid=21753, iid='Megobari', r_ui=5.0, est=3.8642684401451026, details={'actual_k': 40, 'was_impossible': False}),\n Prediction(uid=41440, iid='Театр им. Е. Вахтангова', r_ui=3.0, est=3.550500715307584, details={'actual_k': 39, 'was_impossible': False}),\n Prediction(uid=76813, iid='Государственная публичная научно-техническая библиотека России', r_ui=4.0, est=3.0, details={'actual_k': 40, 'was_impossible': False}),\n Prediction(uid=66617, iid='Eshak', r_ui=5.0, est=3.7208201892744492, details={'actual_k': 17, 'was_impossible': False}),\n Prediction(uid=87750, iid='Человек', r_ui=5.0, est=3.573333333333333, details={'actual_k': 14, 'was_impossible': False}),\n Prediction(uid=61874, iid='Остерия Трио', r_ui=1.0, est=3.9752960391996726, details={'actual_k': 40, 'was_impossible': False}),\n Prediction(uid=50531, iid='Кочевники', r_ui=1.0, est=3.745468357635739, details={'actual_k': 30, 'was_impossible': False}),\n Prediction(uid=77568, iid='Детская библиотека №68', r_ui=3.0, est=3.3974683544303805, details={'actual_k': 26, 'was_impossible': False}),\n Prediction(uid=92174, iid='Театр Антона Чехова', r_ui=1.0, est=4.1968, details={'actual_k': 14, 'was_impossible': False}),\n Prediction(uid=55774, iid='Котельная', r_ui=1.0, est=2.6, details={'actual_k': 7, 'was_impossible': False}),\n Prediction(uid=38352, iid='Московский Театр Иллюзии', r_ui=5.0, est=3.7709302325581393, details={'actual_k': 9, 'was_impossible': False}),\n Prediction(uid=9593, iid='Мимо Нот', r_ui=3.0, est=3.698422398291751, details={'was_impossible': True, 'reason': 'Not enough neighbors.'}),\n Prediction(uid=86762, iid='Центральная библиотека №70 им. М.А. Шолохова', r_ui=4.0, est=5, details={'actual_k': 1, 'was_impossible': False}),\n Prediction(uid=63163, iid='Grill Grad', r_ui=5.0, est=4.277600779378082, details={'actual_k': 35, 'was_impossible': False}),\n Prediction(uid=52452, iid='Big Wine Freaks', r_ui=1.0, est=3.980769230769231, details={'actual_k': 4, 'was_impossible': False}),\n Prediction(uid=87211, iid='Приход храма пророка Божия Илии', r_ui=5.0, est=4.333333333333333, details={'actual_k': 2, 'was_impossible': False}),\n Prediction(uid=69501, iid='Probka в Москве', r_ui=4.0, est=3.710553814002093, details={'actual_k': 30, 'was_impossible': False}),\n Prediction(uid=6976, iid='Shortlist. Books & Spirits', r_ui=4.0, est=3.666666666666667, details={'actual_k': 2, 'was_impossible': False}),\n Prediction(uid=46087, iid='Квартира 44', r_ui=5.0, est=3.962264150943396, details={'actual_k': 9, 'was_impossible': False}),\n Prediction(uid=6725, iid='22 сантиметра', r_ui=4.0, est=2.842105263157895, details={'actual_k': 4, 'was_impossible': False}),\n Prediction(uid=1182, iid='Semenov', r_ui=3.0, est=3.6262568227520826, details={'actual_k': 16, 'was_impossible': False}),\n Prediction(uid=55618, iid='Казбек', r_ui=3.0, est=3.3529411764705883, details={'actual_k': 11, 'was_impossible': False}),\n Prediction(uid=41667, iid='Джонджоли', r_ui=3.0, est=4.0, details={'actual_k': 40, 'was_impossible': False}),\n Prediction(uid=42251, iid='Beverly hills diner', r_ui=3.0, est=2.1294498381877025, details={'actual_k': 7, 'was_impossible': False}),\n Prediction(uid=53191, iid='Lou Lou', r_ui=1.0, est=4.3737680060652, details={'actual_k': 15, 'was_impossible': False}),\n Prediction(uid=68617, iid='Rhythm&Blues Cafe', r_ui=5.0, est=3.8571428571428563, details={'actual_k': 10, 'was_impossible': False}),\n Prediction(uid=10942, iid='WE Cidreria', r_ui=5.0, est=4.106983655274888, details={'actual_k': 7, 'was_impossible': False}),\n Prediction(uid=41648, iid='Ma Mi', r_ui=5.0, est=4.162790697674418, details={'actual_k': 12, 'was_impossible': False}),\n Prediction(uid=70724, iid='Рыбный Базар', r_ui=2.0, est=2.924985574148877, details={'actual_k': 27, 'was_impossible': False}),\n Prediction(uid=54626, iid='Pub no pub', r_ui=4.0, est=3.5843848580441637, details={'actual_k': 12, 'was_impossible': False}),\n Prediction(uid=91334, iid='Маленький театр кукол', r_ui=3.0, est=3.7133925633432074, details={'actual_k': 30, 'was_impossible': False}),\n Prediction(uid=81039, iid='Детская библиотека №177', r_ui=4.0, est=3.409402099497947, details={'actual_k': 16, 'was_impossible': False}),\n Prediction(uid=80623, iid='Российская государственная библиотека', r_ui=4.0, est=3.7540983606557377, details={'actual_k': 40, 'was_impossible': False}),\n Prediction(uid=95699, iid='Город мастеров', r_ui=4.0, est=3.7352941176470584, details={'actual_k': 7, 'was_impossible': False}),\n Prediction(uid=8510, iid='Даниса', r_ui=3.0, est=5, details={'actual_k': 1, 'was_impossible': False}),\n Prediction(uid=180, iid='Хлеб и вино', r_ui=4.0, est=3.377941176470589, details={'actual_k': 12, 'was_impossible': False}),\n Prediction(uid=52633, iid='Chaoshan', r_ui=3.0, est=3.4280763513712693, details={'actual_k': 27, 'was_impossible': False}),\n Prediction(uid=45401, iid='Грим масса', r_ui=5.0, est=5, details={'actual_k': 1, 'was_impossible': False}),\n Prediction(uid=15837, iid='Mono bar', r_ui=2.0, est=3.698422398291751, details={'was_impossible': True, 'reason': 'Not enough neighbors.'}),\n Prediction(uid=94178, iid='Чердак', r_ui=5.0, est=3.6944444444444464, details={'actual_k': 40, 'was_impossible': False}),\n Prediction(uid=40248, iid='Сказка', r_ui=5.0, est=3.1747285291214213, details={'actual_k': 12, 'was_impossible': False}),\n Prediction(uid=392, iid='The Бык', r_ui=5.0, est=3.8940809968847363, details={'actual_k': 20, 'was_impossible': False}),\n Prediction(uid=54020, iid='Парадиз', r_ui=3.0, est=3.422922871521003, details={'actual_k': 33, 'was_impossible': False}),\n Prediction(uid=2845, iid='Бульвар. Шашлык-сити', r_ui=5.0, est=4.212121212121212, details={'actual_k': 7, 'was_impossible': False}),\n Prediction(uid=58130, iid='Жажда крови', r_ui=5.0, est=4.1702688455456, details={'actual_k': 21, 'was_impossible': False}),\n Prediction(uid=54481, iid='Хорошая девочка', r_ui=2.0, est=3.8663934426229507, details={'actual_k': 17, 'was_impossible': False}),\n Prediction(uid=96457, iid='АЯтеатр', r_ui=5.0, est=3.631091918568788, details={'actual_k': 21, 'was_impossible': False}),\n Prediction(uid=65503, iid='The Бык', r_ui=3.0, est=3.55, details={'actual_k': 40, 'was_impossible': False}),\n Prediction(uid=72092, iid='Узбекистан', r_ui=5.0, est=3.7833244822092413, details={'actual_k': 23, 'was_impossible': False}),\n Prediction(uid=8917, iid='Hot Collection', r_ui=3.0, est=3.789473684210526, details={'actual_k': 2, 'was_impossible': False}),\n Prediction(uid=99837, iid='Театр Алексея Рыбникова', r_ui=5.0, est=3.541666666666667, details={'actual_k': 11, 'was_impossible': False}),\n Prediction(uid=1856, iid='Шашлыкоff', r_ui=5.0, est=3.2825688073394517, details={'actual_k': 21, 'was_impossible': False}),\n Prediction(uid=18101, iid='Кино Окко', r_ui=4.0, est=3.302828618968386, details={'actual_k': 26, 'was_impossible': False}),\n Prediction(uid=2136, iid='Сыто пьяно', r_ui=3.0, est=3.9617706237424577, details={'actual_k': 34, 'was_impossible': False}),\n Prediction(uid=39689, iid='Стрелка', r_ui=1.0, est=2.8963210702341136, details={'actual_k': 4, 'was_impossible': False}),\n Prediction(uid=61542, iid='Рихтер', r_ui=3.0, est=4.406202723146748, details={'actual_k': 18, 'was_impossible': False}),\n Prediction(uid=79815, iid='Научная библиотека', r_ui=3.0, est=3.5320197044334973, details={'actual_k': 40, 'was_impossible': False}),\n Prediction(uid=49925, iid='Старик Хинкалыч', r_ui=3.0, est=3.833333333333333, details={'actual_k': 2, 'was_impossible': False}),\n Prediction(uid=54879, iid='Fun Fam', r_ui=5.0, est=4.221220124975843, details={'actual_k': 22, 'was_impossible': False}),\n Prediction(uid=92065, iid='Мастерскаяю', r_ui=5.0, est=3.27248062015504, details={'actual_k': 29, 'was_impossible': False}),\n Prediction(uid=19951, iid='Краснодарский Парень', r_ui=5.0, est=3.086956521739132, details={'actual_k': 18, 'was_impossible': False}),\n Prediction(uid=52553, iid='Манки', r_ui=3.0, est=3.936329588014982, details={'actual_k': 40, 'was_impossible': False}),\n Prediction(uid=42568, iid='Золотое кольцо', r_ui=3.0, est=3.5454545454545445, details={'actual_k': 7, 'was_impossible': False}),\n Prediction(uid=37931, iid='Без вывески', r_ui=3.0, est=3.695364238410596, details={'actual_k': 6, 'was_impossible': False}),\n Prediction(uid=86290, iid='Библиотека №182', r_ui=3.0, est=3.5, details={'actual_k': 4, 'was_impossible': False}),\n Prediction(uid=1655, iid='Zags', r_ui=3.0, est=2.6, details={'actual_k': 4, 'was_impossible': False}),\n Prediction(uid=74508, iid='Navat', r_ui=5.0, est=3.5374034474712355, details={'actual_k': 34, 'was_impossible': False}),\n Prediction(uid=63492, iid='Бато хинкали', r_ui=5.0, est=3.615283643419704, details={'actual_k': 40, 'was_impossible': False}),\n Prediction(uid=569, iid='Nicepricecafe', r_ui=5.0, est=3.801418439716312, details={'actual_k': 40, 'was_impossible': False}),\n Prediction(uid=70759, iid='Penta', r_ui=2.0, est=4.121434149478614, details={'actual_k': 28, 'was_impossible': False}),\n Prediction(uid=68669, iid='True Cost', r_ui=5.0, est=3.5, details={'actual_k': 40, 'was_impossible': False}),\n Prediction(uid=96308, iid='Московский Театр Иллюзии', r_ui=5.0, est=3.610027855153204, details={'actual_k': 24, 'was_impossible': False}),\n Prediction(uid=94195, iid='Драматический театр', r_ui=4.0, est=3.43937888198758, details={'actual_k': 32, 'was_impossible': False}),\n Prediction(uid=13293, iid='Silver cinema', r_ui=4.0, est=3.4029943855271365, details={'actual_k': 9, 'was_impossible': False}),\n Prediction(uid=40483, iid='Ami Chaise', r_ui=4.0, est=3.3205574912891995, details={'actual_k': 18, 'was_impossible': False}),\n Prediction(uid=21489, iid='BBQ point', r_ui=3.0, est=3.9104477611940296, details={'actual_k': 12, 'was_impossible': False}),\n Prediction(uid=15901, iid='Мягкий кинотеатр', r_ui=5.0, est=4.117647058823529, details={'actual_k': 4, 'was_impossible': False}),\n Prediction(uid=13168, iid='Старик Хинкалыч', r_ui=4.0, est=3.813559322033898, details={'actual_k': 9, 'was_impossible': False}),\n Prediction(uid=1968, iid='J`pan', r_ui=4.0, est=4.523809523809524, details={'actual_k': 7, 'was_impossible': False}),\n Prediction(uid=21694, iid='Летний кинотеатр', r_ui=2.0, est=4.307692307692307, details={'actual_k': 11, 'was_impossible': False}),\n Prediction(uid=16210, iid='Вареничная №1', r_ui=5.0, est=4.006416131989003, details={'actual_k': 28, 'was_impossible': False}),\n Prediction(uid=80670, iid='Центральная городская детская библиотека им. А.П. Гайдара', r_ui=5.0, est=3.656786271450858, details={'actual_k': 40, 'was_impossible': False}),\n Prediction(uid=8182, iid='Плов-центр', r_ui=4.0, est=3.5277777777777786, details={'actual_k': 5, 'was_impossible': False}),\n Prediction(uid=63605, iid='Ossu Eatery Asian Barroom', r_ui=5.0, est=3.616071428571428, details={'actual_k': 10, 'was_impossible': False}),\n Prediction(uid=78362, iid='Библиотека №188', r_ui=5.0, est=3.698422398291751, details={'was_impossible': True, 'reason': 'User and/or item is unknown.'}),\n Prediction(uid=51621, iid='True bar', r_ui=2.0, est=3.7628335375145676, details={'actual_k': 28, 'was_impossible': False}),\n Prediction(uid=62370, iid='Пари Паб', r_ui=5.0, est=3.251193245868615, details={'actual_k': 39, 'was_impossible': False}),\n Prediction(uid=5727, iid='Madison', r_ui=4.0, est=3.698422398291751, details={'was_impossible': True, 'reason': 'Not enough neighbors.'}),\n Prediction(uid=74890, iid='[KU:]', r_ui=1.0, est=3.7911233701103315, details={'actual_k': 35, 'was_impossible': False}),\n Prediction(uid=93258, iid='Ленком Марка Захарова', r_ui=1.0, est=4.189648360331885, details={'actual_k': 21, 'was_impossible': False}),\n Prediction(uid=77269, iid='Библиотека №30', r_ui=4.0, est=3.871794871794871, details={'actual_k': 11, 'was_impossible': False}),\n Prediction(uid=5326, iid='Blanc', r_ui=5.0, est=3.476995588335781, details={'actual_k': 39, 'was_impossible': False}),\n Prediction(uid=67077, iid='Sparkle', r_ui=5.0, est=3.7143203295371934, details={'actual_k': 40, 'was_impossible': False}),\n Prediction(uid=72781, iid='Peshi', r_ui=5.0, est=3.661740356901947, details={'actual_k': 29, 'was_impossible': False}),\n Prediction(uid=79184, iid='Библиотека №218', r_ui=5.0, est=2.8241758241758244, details={'actual_k': 16, 'was_impossible': False}),\n Prediction(uid=86582, iid='Библиотека №173', r_ui=4.0, est=1.7894736842105265, details={'actual_k': 4, 'was_impossible': False}),\n Prediction(uid=96452, iid='Школа драматического искусства', r_ui=5.0, est=3.2000000000000015, details={'actual_k': 25, 'was_impossible': False}),\n Prediction(uid=38066, iid='Plove&doner lab', r_ui=3.0, est=4.166666666666666, details={'actual_k': 7, 'was_impossible': False}),\n Prediction(uid=50683, iid='The Бык', r_ui=4.0, est=3.475, details={'actual_k': 40, 'was_impossible': False}),\n Prediction(uid=44658, iid='Наш дом', r_ui=5.0, est=4.039170506912443, details={'actual_k': 17, 'was_impossible': False}),\n Prediction(uid=75894, iid='Культурный центр им. М.А. Шолохова', r_ui=2.0, est=2.8749999999999996, details={'actual_k': 4, 'was_impossible': False}),\n Prediction(uid=89666, iid='Детский театр эстрады', r_ui=5.0, est=4.185185185185185, details={'actual_k': 9, 'was_impossible': False}),\n Prediction(uid=46067, iid='Famous star', r_ui=1.0, est=4.0862800565770865, details={'actual_k': 11, 'was_impossible': False}),\n Prediction(uid=92791, iid='Flying banana', r_ui=5.0, est=3.9019607843137263, details={'actual_k': 13, 'was_impossible': False}),\n Prediction(uid=47358, iid='Энтузиаст', r_ui=5.0, est=4.18141592920354, details={'actual_k': 8, 'was_impossible': False}),\n Prediction(uid=13336, iid='Рис&соя', r_ui=3.0, est=4.285714285714286, details={'actual_k': 6, 'was_impossible': False}),\n Prediction(uid=69064, iid='Дом кино', r_ui=3.0, est=4.081081081081082, details={'actual_k': 15, 'was_impossible': False}),\n Prediction(uid=82400, iid='Детская библиотека №163', r_ui=5.0, est=3.985074626865672, details={'actual_k': 6, 'was_impossible': False}),\n Prediction(uid=10507, iid='Мореман', r_ui=3.0, est=4.0, details={'actual_k': 5, 'was_impossible': False}),\n Prediction(uid=74705, iid='Kochegar', r_ui=5.0, est=4.153846153846154, details={'actual_k': 5, 'was_impossible': False}),\n Prediction(uid=58874, iid='Ruski', r_ui=5.0, est=3.5658303155716524, details={'actual_k': 33, 'was_impossible': False}),\n Prediction(uid=65828, iid='Траппист', r_ui=5.0, est=3.0920487106017194, details={'actual_k': 28, 'was_impossible': False}),\n Prediction(uid=13382, iid='The Бык', r_ui=5.0, est=3.75, details={'actual_k': 40, 'was_impossible': False}),\n Prediction(uid=12047, iid='Поле', r_ui=3.0, est=1, details={'actual_k': 2, 'was_impossible': False}),\n Prediction(uid=11500, iid='Fabrica', r_ui=3.0, est=5, details={'actual_k': 1, 'was_impossible': False}),\n Prediction(uid=67239, iid='Solar', r_ui=4.0, est=3.892694063926943, details={'actual_k': 35, 'was_impossible': False}),\n Prediction(uid=17898, iid='Шоколадница', r_ui=3.0, est=3.5409090909090906, details={'actual_k': 40, 'was_impossible': False}),\n Prediction(uid=96952, iid='Новый балет', r_ui=4.0, est=2.0, details={'actual_k': 2, 'was_impossible': False}),\n Prediction(uid=78043, iid='Российская государственная библиотека для слепых', r_ui=5.0, est=4.557377049180327, details={'actual_k': 17, 'was_impossible': False}),\n Prediction(uid=68815, iid='The Бык', r_ui=3.0, est=4.0, details={'actual_k': 40, 'was_impossible': False}),\n Prediction(uid=60663, iid='Zagorami', r_ui=4.0, est=3.1049353138476286, details={'actual_k': 21, 'was_impossible': False}),\n Prediction(uid=44401, iid='Халва', r_ui=5.0, est=3.607687210072897, details={'actual_k': 17, 'was_impossible': False}),\n Prediction(uid=82358, iid='Научно-техническая библиотека', r_ui=5.0, est=3.2224879649219638, details={'actual_k': 17, 'was_impossible': False}),\n Prediction(uid=45380, iid='Plove&doner lab', r_ui=5.0, est=3.377777777777778, details={'actual_k': 9, 'was_impossible': False}),\n Prediction(uid=83628, iid='Детская библиотека №242', r_ui=5.0, est=3.8481012658227853, details={'actual_k': 16, 'was_impossible': False}),\n Prediction(uid=39215, iid='Bagebi restaurant', r_ui=5.0, est=3.4743589743589745, details={'actual_k': 21, 'was_impossible': False}),\n Prediction(uid=97017, iid='Человек', r_ui=4.0, est=3.8265895953757223, details={'actual_k': 12, 'was_impossible': False}),\n Prediction(uid=84779, iid='Высшая школа менеджмента и технологий', r_ui=5.0, est=3.7581441263573545, details={'actual_k': 12, 'was_impossible': False}),\n Prediction(uid=42637, iid='Московский театр Олега Табакова', r_ui=5.0, est=3.823376623376623, details={'actual_k': 40, 'was_impossible': False}),\n Prediction(uid=10695, iid='Резиденция', r_ui=4.0, est=3.3933845245127015, details={'actual_k': 23, 'was_impossible': False}),\n Prediction(uid=69256, iid='Sapiens', r_ui=2.0, est=3.1666666666666665, details={'actual_k': 2, 'was_impossible': False}),\n Prediction(uid=62820, iid='The Бык', r_ui=5.0, est=3.925, details={'actual_k': 40, 'was_impossible': False}),\n Prediction(uid=56785, iid='Birds', r_ui=3.0, est=2.857142857142857, details={'actual_k': 6, 'was_impossible': False}),\n Prediction(uid=21034, iid='Let`s rock bar', r_ui=5.0, est=3.3809343160633007, details={'actual_k': 19, 'was_impossible': False}),\n Prediction(uid=77876, iid='Детская библиотека №114', r_ui=5.0, est=3.608734723220705, details={'actual_k': 19, 'was_impossible': False}),\n Prediction(uid=76121, iid='Центральная городская библиотека', r_ui=4.0, est=4.019088128064368, details={'actual_k': 21, 'was_impossible': False}),\n Prediction(uid=63113, iid='Крабыкутабы', r_ui=5.0, est=4.1604771371769385, details={'actual_k': 24, 'was_impossible': False}),\n Prediction(uid=90930, iid='Школа драматического искусства', r_ui=5.0, est=3.7461538461538475, details={'actual_k': 23, 'was_impossible': False}),\n Prediction(uid=60167, iid='Kinza', r_ui=1.0, est=3.795486319153188, details={'actual_k': 24, 'was_impossible': False}),\n Prediction(uid=4952, iid='Европа', r_ui=1.0, est=2.777777777777778, details={'actual_k': 3, 'was_impossible': False}),\n Prediction(uid=55361, iid='Манки', r_ui=4.0, est=3.7314285714285713, details={'actual_k': 40, 'was_impossible': False}),\n Prediction(uid=99922, iid='Аполлинария', r_ui=4.0, est=3.535714285714286, details={'actual_k': 18, 'was_impossible': False}),\n Prediction(uid=58699, iid='Гранд кофемания', r_ui=5.0, est=4.4982817869415825, details={'actual_k': 28, 'was_impossible': False}),\n Prediction(uid=19277, iid='Nicepricecafe', r_ui=4.0, est=5, details={'actual_k': 40, 'was_impossible': False}),\n Prediction(uid=73392, iid='Grill Grad', r_ui=5.0, est=3.6622432781029897, details={'actual_k': 31, 'was_impossible': False}),\n Prediction(uid=21730, iid='Радуга Кино', r_ui=2.0, est=3.5904255319148928, details={'actual_k': 10, 'was_impossible': False}),\n Prediction(uid=93734, iid='Театр Антона Чехова', r_ui=5.0, est=2.9034482758620688, details={'actual_k': 12, 'was_impossible': False}),\n Prediction(uid=86634, iid='Библиотека №85', r_ui=5.0, est=3.255298753860901, details={'actual_k': 34, 'was_impossible': False}),\n Prediction(uid=55124, iid='Gorilla by Баста', r_ui=5.0, est=3.8338931578705204, details={'actual_k': 16, 'was_impossible': False}),\n Prediction(uid=23316, iid='HookahPlace VDNH', r_ui=5.0, est=2.9747174301011303, details={'actual_k': 13, 'was_impossible': False}),\n Prediction(uid=54319, iid='Галактика 2.0', r_ui=5.0, est=3.3993473613142795, details={'actual_k': 33, 'was_impossible': False}),\n Prediction(uid=19760, iid='Москино Сокольники', r_ui=5.0, est=4.6, details={'actual_k': 5, 'was_impossible': False}),\n Prediction(uid=53860, iid='The old school pub', r_ui=5.0, est=3.5352941176470587, details={'actual_k': 40, 'was_impossible': False}),\n Prediction(uid=38373, iid='Переделкино', r_ui=3.0, est=3.25, details={'actual_k': 4, 'was_impossible': False}),\n Prediction(uid=15656, iid='Хитрые люди', r_ui=5.0, est=4.147058823529411, details={'actual_k': 16, 'was_impossible': False}),\n Prediction(uid=14998, iid='Долина', r_ui=4.0, est=4.063613955252181, details={'actual_k': 13, 'was_impossible': False}),\n Prediction(uid=16539, iid='Грабли', r_ui=1.0, est=3.8601134215500927, details={'actual_k': 40, 'was_impossible': False}),\n Prediction(uid=72642, iid='Saray', r_ui=5.0, est=3.7565674255691768, details={'actual_k': 26, 'was_impossible': False}),\n Prediction(uid=91490, iid='Губернский театр', r_ui=5.0, est=2.210526315789474, details={'actual_k': 4, 'was_impossible': False}),\n Prediction(uid=52854, iid='Amy', r_ui=1.0, est=3.6170212765957444, details={'actual_k': 7, 'was_impossible': False}),\n Prediction(uid=16144, iid='Бирхаус', r_ui=5.0, est=3.6901229334463777, details={'actual_k': 28, 'was_impossible': False}),\n Prediction(uid=75787, iid='Центральная научная сельскохозяйственная библиотека', r_ui=5.0, est=4.018867924528302, details={'actual_k': 13, 'was_impossible': False}),\n Prediction(uid=65014, iid='Casa Agave', r_ui=4.0, est=3.4230477634571645, details={'actual_k': 15, 'was_impossible': False}),\n Prediction(uid=74149, iid='Subzero', r_ui=5.0, est=3.75, details={'actual_k': 6, 'was_impossible': False}),\n Prediction(uid=46310, iid='Московский дворец молодежи', r_ui=3.0, est=3.083633741888969, details={'actual_k': 18, 'was_impossible': False}),\n Prediction(uid=94697, iid='Flying banana', r_ui=3.0, est=3.324912126537787, details={'actual_k': 21, 'was_impossible': False}),\n Prediction(uid=8739, iid='Слёзы берёзы', r_ui=3.0, est=4.010670731707317, details={'actual_k': 9, 'was_impossible': False}),\n Prediction(uid=94351, iid='На окраине', r_ui=4.0, est=3.652136605457356, details={'actual_k': 30, 'was_impossible': False}),\n Prediction(uid=92808, iid='Мастерская на Кулишках', r_ui=3.0, est=3.363636363636364, details={'actual_k': 4, 'was_impossible': False}),\n Prediction(uid=67190, iid='Selfie', r_ui=2.0, est=2.1578947368421053, details={'actual_k': 4, 'was_impossible': False}),\n Prediction(uid=12757, iid='Каро', r_ui=1.0, est=3.8228571428571425, details={'actual_k': 40, 'was_impossible': False}),\n Prediction(uid=58094, iid='Сергеич', r_ui=5.0, est=3.8404907975460127, details={'actual_k': 40, 'was_impossible': False}),\n Prediction(uid=82884, iid='Храм Архистратига Михаила в Тропарёве', r_ui=5.0, est=3.4895999999999994, details={'actual_k': 7, 'was_impossible': False}),\n Prediction(uid=72946, iid='Галактика 2.0', r_ui=4.0, est=3.1082621082621085, details={'actual_k': 19, 'was_impossible': False}),\n Prediction(uid=71867, iid='The Pivo', r_ui=3.0, est=5, details={'actual_k': 2, 'was_impossible': False}),\n Prediction(uid=88274, iid='Щёлковский театр', r_ui=4.0, est=3.593723494486854, details={'actual_k': 15, 'was_impossible': False}),\n Prediction(uid=96397, iid='Московский театр мастерская П.Н. Фоменко', r_ui=5.0, est=3.4794352363413137, details={'actual_k': 40, 'was_impossible': False}),\n Prediction(uid=54280, iid='Токио-city', r_ui=5.0, est=3.3980582524271856, details={'actual_k': 17, 'was_impossible': False}),\n Prediction(uid=54298, iid='Spaten haus grand', r_ui=3.0, est=4.595238095238094, details={'actual_k': 8, 'was_impossible': False}),\n Prediction(uid=16707, iid='Синема стар', r_ui=1.0, est=3.8, details={'actual_k': 40, 'was_impossible': False}),\n Prediction(uid=83462, iid='Библиотека №225 им. М.Н. Задорнова', r_ui=5.0, est=4.354803493449781, details={'actual_k': 8, 'was_impossible': False}),\n Prediction(uid=39364, iid='Акт', r_ui=1.0, est=4.388888888888888, details={'actual_k': 9, 'was_impossible': False}),\n Prediction(uid=74685, iid='Simach в недальнем', r_ui=4.0, est=3.6047830752721173, details={'actual_k': 29, 'was_impossible': False}),\n Prediction(uid=72592, iid='Sage', r_ui=5.0, est=4.117647058823531, details={'actual_k': 24, 'was_impossible': False}),\n Prediction(uid=39968, iid='Довлатов', r_ui=5.0, est=3.6082474226804124, details={'actual_k': 14, 'was_impossible': False}),\n Prediction(uid=55780, iid='Peshi', r_ui=5.0, est=3.7142857142857135, details={'actual_k': 8, 'was_impossible': False}),\n Prediction(uid=52460, iid='Пафос', r_ui=5.0, est=3.6888111888111887, details={'actual_k': 40, 'was_impossible': False}),\n Prediction(uid=55745, iid='Saray', r_ui=2.0, est=3.638297872340426, details={'actual_k': 7, 'was_impossible': False}),\n Prediction(uid=4613, iid='Тото', r_ui=1.0, est=5, details={'actual_k': 1, 'was_impossible': False}),\n Prediction(uid=99262, iid='Радуга', r_ui=2.0, est=3.4280303030303028, details={'actual_k': 40, 'was_impossible': False}),\n Prediction(uid=40803, iid='У Никитских ворот', r_ui=1.0, est=3.158415841584159, details={'actual_k': 9, 'was_impossible': False}),\n Prediction(uid=40116, iid='Государственный академический Малый театр России', r_ui=2.0, est=3.6000000000000005, details={'actual_k': 10, 'was_impossible': False}),\n Prediction(uid=62696, iid='Sakura Place', r_ui=4.0, est=3.698422398291751, details={'was_impossible': True, 'reason': 'User and/or item is unknown.'}),\n Prediction(uid=24903, iid='Современник', r_ui=5.0, est=5, details={'actual_k': 2, 'was_impossible': False}),\n Prediction(uid=61434, iid='Artest', r_ui=5.0, est=2.8449612403100777, details={'actual_k': 3, 'was_impossible': False}),\n Prediction(uid=61072, iid='Эль Гаучито', r_ui=2.0, est=4.238095238095238, details={'actual_k': 6, 'was_impossible': False}),\n Prediction(uid=65498, iid='Probka в Москве', r_ui=4.0, est=4.267950963222416, details={'actual_k': 10, 'was_impossible': False}),\n Prediction(uid=52732, iid='IL Патио', r_ui=5.0, est=4.2, details={'actual_k': 3, 'was_impossible': False}),\n Prediction(uid=99008, iid='Московский открытый студенческий театр', r_ui=5.0, est=3.3546099290780145, details={'actual_k': 40, 'was_impossible': False}),\n Prediction(uid=62822, iid='Домик в саду', r_ui=4.0, est=3.5561877667140824, details={'actual_k': 19, 'was_impossible': False}),\n Prediction(uid=89199, iid='Домик Фанни Белл', r_ui=1.0, est=4.795505617977528, details={'actual_k': 7, 'was_impossible': False}),\n Prediction(uid=4251, iid='Бардак', r_ui=4.0, est=4.455040871934605, details={'actual_k': 6, 'was_impossible': False}),\n Prediction(uid=70334, iid='Patriki', r_ui=4.0, est=3.0, details={'actual_k': 1, 'was_impossible': False}),\n Prediction(uid=4690, iid='Руки Вверх!', r_ui=5.0, est=3.925, details={'actual_k': 40, 'was_impossible': False}),\n Prediction(uid=24082, iid='Поклонка', r_ui=3.0, est=5, details={'actual_k': 1, 'was_impossible': False}),\n Prediction(uid=16279, iid='Моремания', r_ui=5.0, est=3.7058823529411766, details={'actual_k': 40, 'was_impossible': False}),\n Prediction(uid=64220, iid='Тоттори', r_ui=5.0, est=3.9436619718309855, details={'actual_k': 10, 'was_impossible': False}),\n Prediction(uid=2647, iid='J`pan', r_ui=4.0, est=3.0000000000000004, details={'actual_k': 5, 'was_impossible': False}),\n Prediction(uid=74799, iid='Bshushu', r_ui=5.0, est=3.5810372771474888, details={'actual_k': 24, 'was_impossible': False}),\n Prediction(uid=12581, iid='Старый Сычуань', r_ui=4.0, est=2.849736379613357, details={'actual_k': 17, 'was_impossible': False}),\n Prediction(uid=45652, iid='Барвиха lounge', r_ui=5.0, est=3.7156862745098054, details={'actual_k': 40, 'was_impossible': False}),\n Prediction(uid=40432, iid='Этажерка', r_ui=4.0, est=1.4, details={'actual_k': 3, 'was_impossible': False}),\n Prediction(uid=12539, iid='Плюс Дача', r_ui=4.0, est=3.25, details={'actual_k': 3, 'was_impossible': False}),\n Prediction(uid=96306, iid='Театр на Таганке', r_ui=4.0, est=3.4236453201970454, details={'actual_k': 40, 'was_impossible': False}),\n Prediction(uid=65237, iid='Чайхона #1', r_ui=4.0, est=3.7746478873239435, details={'actual_k': 40, 'was_impossible': False}),\n Prediction(uid=46880, iid='Кампус', r_ui=5.0, est=3.0651465798045607, details={'actual_k': 12, 'was_impossible': False}),\n Prediction(uid=75549, iid='Библиотека №120', r_ui=5.0, est=2.8666666666666663, details={'actual_k': 7, 'was_impossible': False}),\n Prediction(uid=21873, iid='Mono bar', r_ui=2.0, est=4.59090909090909, details={'actual_k': 4, 'was_impossible': False}),\n Prediction(uid=45455, iid='Русалочка суши', r_ui=3.0, est=3.3333333333333326, details={'actual_k': 8, 'was_impossible': False}),\n Prediction(uid=39888, iid='Циники', r_ui=2.0, est=4.0506329113924044, details={'actual_k': 13, 'was_impossible': False}),\n Prediction(uid=39635, iid='High ground', r_ui=2.0, est=2.6843501326259953, details={'actual_k': 12, 'was_impossible': False}),\n Prediction(uid=91955, iid='La’Театр', r_ui=4.0, est=3.7765016211463442, details={'actual_k': 24, 'was_impossible': False}),\n Prediction(uid=19184, iid='Манас', r_ui=3.0, est=4.492136252272189, details={'actual_k': 14, 'was_impossible': False}),\n Prediction(uid=48933, iid='Mono bar', r_ui=3.0, est=3.16981981981982, details={'actual_k': 24, 'was_impossible': False}),\n Prediction(uid=47456, iid='Вареничная №1', r_ui=5.0, est=3.9405797101449287, details={'actual_k': 22, 'was_impossible': False}),\n Prediction(uid=96385, iid='Фонд Сергея Безрукова', r_ui=3.0, est=3.7566037735849056, details={'actual_k': 13, 'was_impossible': False}),\n Prediction(uid=40626, iid='Откровение', r_ui=3.0, est=3.260869565217391, details={'actual_k': 4, 'was_impossible': False}),\n Prediction(uid=56754, iid='Старик и море', r_ui=5.0, est=3.344635104403556, details={'actual_k': 40, 'was_impossible': False}),\n Prediction(uid=61342, iid='Золотой Дракон', r_ui=3.0, est=4.333333333333333, details={'actual_k': 4, 'was_impossible': False}),\n Prediction(uid=61046, iid='Раковая на Таганке', r_ui=5.0, est=4.593802816901408, details={'actual_k': 29, 'was_impossible': False}),\n Prediction(uid=6059, iid='Kitchen', r_ui=5.0, est=5, details={'actual_k': 2, 'was_impossible': False}),\n Prediction(uid=51605, iid='The Бык', r_ui=4.0, est=3.85, details={'actual_k': 40, 'was_impossible': False}),\n Prediction(uid=41958, iid='Бардак', r_ui=4.0, est=4.12280701754386, details={'actual_k': 5, 'was_impossible': False}),\n Prediction(uid=47279, iid='baba Napoli', r_ui=4.0, est=3.9230769230769234, details={'actual_k': 7, 'was_impossible': False}),\n Prediction(uid=81314, iid='Объединение культурных центров Юго-восточного административного округа', r_ui=2.0, est=3.7313349986122684, details={'actual_k': 40, 'was_impossible': False}),\n Prediction(uid=38853, iid='Pro.Хинкали', r_ui=5.0, est=4.115075107296137, details={'actual_k': 18, 'was_impossible': False}),\n Prediction(uid=97315, iid='Синяя птица, театр кукол', r_ui=4.0, est=2.8995850622406643, details={'actual_k': 27, 'was_impossible': False}),\n Prediction(uid=8794, iid='Щи', r_ui=1.0, est=3.25974025974026, details={'actual_k': 12, 'was_impossible': False}),\n Prediction(uid=70560, iid='IL Патио', r_ui=1.0, est=4.263537906137184, details={'actual_k': 9, 'was_impossible': False}),\n Prediction(uid=22713, iid='Pizzamento', r_ui=3.0, est=3.8806820814605465, details={'actual_k': 22, 'was_impossible': False}),\n Prediction(uid=11458, iid='Мост', r_ui=5.0, est=3.999999999999999, details={'actual_k': 4, 'was_impossible': False}),\n Prediction(uid=97905, iid='Театр юного зрителя', r_ui=5.0, est=3.7488272921108763, details={'actual_k': 24, 'was_impossible': False}),\n Prediction(uid=98159, iid='Детский театр Андрея Фартушного', r_ui=4.0, est=4.358665430954591, details={'actual_k': 29, 'was_impossible': False}),\n Prediction(uid=64258, iid='Хата', r_ui=5.0, est=3.3469387755102042, details={'actual_k': 10, 'was_impossible': False}),\n Prediction(uid=2906, iid='She', r_ui=5.0, est=3.8366176103766536, details={'actual_k': 30, 'was_impossible': False}),\n Prediction(uid=15451, iid='Imagine cafe', r_ui=2.0, est=3.286736249560224, details={'actual_k': 40, 'was_impossible': False}),\n Prediction(uid=75396, iid='Барвиха', r_ui=5.0, est=3.2777777777777786, details={'actual_k': 11, 'was_impossible': False}),\n Prediction(uid=21838, iid='Козловна', r_ui=5.0, est=4.087050859225828, details={'actual_k': 40, 'was_impossible': False}),\n Prediction(uid=83049, iid='Библиотека №23 им. М. Горького', r_ui=5.0, est=3.2416977527067616, details={'actual_k': 23, 'was_impossible': False}),\n Prediction(uid=19910, iid='Pivzavod77', r_ui=4.0, est=2.9285714285714275, details={'actual_k': 6, 'was_impossible': False}),\n Prediction(uid=90716, iid='Community Stage', r_ui=3.0, est=3.4110141034251185, details={'actual_k': 19, 'was_impossible': False}),\n Prediction(uid=39250, iid='Сфера', r_ui=5.0, est=3.4822401136632726, details={'actual_k': 33, 'was_impossible': False}),\n Prediction(uid=66420, iid='Buddy McDaniel', r_ui=1.0, est=3.5857142857142863, details={'actual_k': 16, 'was_impossible': False}),\n Prediction(uid=97198, iid='Театр музыки и драмы Стаса Намина', r_ui=4.0, est=4.231153092140441, details={'actual_k': 26, 'was_impossible': False}),\n Prediction(uid=89826, iid='Театр.doc', r_ui=3.0, est=3.9068736141906872, details={'actual_k': 12, 'was_impossible': False}),\n Prediction(uid=74819, iid='Этажерка', r_ui=1.0, est=3.4038610038610044, details={'actual_k': 21, 'was_impossible': False}),\n Prediction(uid=53477, iid='Fun Fam', r_ui=1.0, est=3.3994476525232247, details={'actual_k': 31, 'was_impossible': False}),\n Prediction(uid=66491, iid='4Pees Bar', r_ui=4.0, est=3.27027027027027, details={'actual_k': 17, 'was_impossible': False}),\n Prediction(uid=14872, iid='KIDZROCK Cafe', r_ui=3.0, est=3.291962174940899, details={'actual_k': 14, 'was_impossible': False}),\n Prediction(uid=61023, iid='Гуси-Лебеди', r_ui=2.0, est=3.8629821531375956, details={'actual_k': 22, 'was_impossible': False}),\n Prediction(uid=2000, iid='Золотой Дракон', r_ui=2.0, est=3.4520661157024795, details={'actual_k': 16, 'was_impossible': False}),\n Prediction(uid=4435, iid='Defaqto', r_ui=2.0, est=3.4616011739768497, details={'actual_k': 25, 'was_impossible': False}),\n Prediction(uid=45970, iid='Под мухой', r_ui=2.0, est=3.5263157894736845, details={'actual_k': 5, 'was_impossible': False}),\n Prediction(uid=2717, iid='Mission', r_ui=5.0, est=2.942857142857142, details={'actual_k': 8, 'was_impossible': False}),\n Prediction(uid=10796, iid='Мацони', r_ui=4.0, est=3.3076923076923066, details={'actual_k': 9, 'was_impossible': False}),\n Prediction(uid=73792, iid='Historia', r_ui=3.0, est=2.743362831858407, details={'actual_k': 6, 'was_impossible': False}),\n Prediction(uid=50158, iid='Мытищинские бани', r_ui=1.0, est=3.4232773595830928, details={'actual_k': 17, 'was_impossible': False}),\n Prediction(uid=24158, iid='Моремания', r_ui=2.0, est=3.6342141863699586, details={'actual_k': 40, 'was_impossible': False}),\n Prediction(uid=62480, iid='Гамбринус', r_ui=3.0, est=3.217948717948718, details={'actual_k': 40, 'was_impossible': False}),\n Prediction(uid=46313, iid='Алана', r_ui=4.0, est=3.8421052631578942, details={'actual_k': 10, 'was_impossible': False}),\n Prediction(uid=94430, iid='Театр будущего Лилии Тим', r_ui=5.0, est=3.2954264524103873, details={'actual_k': 37, 'was_impossible': False}),\n Prediction(uid=79675, iid='Детская библиотека №112', r_ui=1.0, est=3.904696565783285, details={'actual_k': 26, 'was_impossible': False}),\n Prediction(uid=51145, iid='Тануки', r_ui=3.0, est=3.8309859154929575, details={'actual_k': 40, 'was_impossible': False}),\n Prediction(uid=64159, iid='Soho Rooms', r_ui=5.0, est=3.947826086956522, details={'actual_k': 21, 'was_impossible': False}),\n Prediction(uid=47774, iid='ТеНер', r_ui=4.0, est=3.0, details={'actual_k': 1, 'was_impossible': False}),\n Prediction(uid=47517, iid='Nicepricecafe', r_ui=5.0, est=3.486486486486487, details={'actual_k': 40, 'was_impossible': False}),\n Prediction(uid=78810, iid='Российская государственная библиотека', r_ui=1.0, est=3.9090909090909105, details={'actual_k': 36, 'was_impossible': False}),\n Prediction(uid=72184, iid='Джаз-клуб Игоря Бутмана на Таганке', r_ui=5.0, est=3.776649746192893, details={'actual_k': 37, 'was_impossible': False}),\n Prediction(uid=489, iid='Б12', r_ui=2.0, est=5, details={'actual_k': 2, 'was_impossible': False}),\n Prediction(uid=10298, iid='Салют', r_ui=4.0, est=4.189944134078212, details={'actual_k': 6, 'was_impossible': False}),\n Prediction(uid=99824, iid='Кашемир', r_ui=4.0, est=3.3368012406412753, details={'actual_k': 19, 'was_impossible': False}),\n Prediction(uid=18443, iid='Киносфера', r_ui=1.0, est=4.204545454545456, details={'actual_k': 16, 'was_impossible': False}),\n Prediction(uid=77885, iid='Детская библиотека №203', r_ui=3.0, est=3.7244355909694575, details={'actual_k': 18, 'was_impossible': False}),\n Prediction(uid=38074, iid='Модерн', r_ui=3.0, est=3.6538461538461533, details={'actual_k': 9, 'was_impossible': False}),\n Prediction(uid=97160, iid='Орфей', r_ui=5.0, est=4.204200178731011, details={'actual_k': 17, 'was_impossible': False}),\n Prediction(uid=76068, iid='Библиотека №148 им. Ф.И. Тютчева', r_ui=5.0, est=3.451591594104808, details={'actual_k': 40, 'was_impossible': False}),\n Prediction(uid=4855, iid='Мonte Lounge', r_ui=1.0, est=3.698422398291751, details={'was_impossible': True, 'reason': 'User and/or item is unknown.'}),\n Prediction(uid=80221, iid='Библиотека №180 им. Н.Ф. Федорова', r_ui=4.0, est=3.621951219512196, details={'actual_k': 28, 'was_impossible': False}),\n Prediction(uid=91609, iid='На набережной', r_ui=4.0, est=3.511627906976744, details={'actual_k': 10, 'was_impossible': False}),\n Prediction(uid=98139, iid='Московский государственный академический театр танца Гжель', r_ui=5.0, est=3.8831615120274923, details={'actual_k': 32, 'was_impossible': False}),\n Prediction(uid=6836, iid='Я тебя люля', r_ui=3.0, est=3.434491419003768, details={'actual_k': 12, 'was_impossible': False}),\n Prediction(uid=8519, iid='Джонджоли', r_ui=4.0, est=3.7272727272727275, details={'actual_k': 40, 'was_impossible': False}),\n Prediction(uid=2662, iid='Geisha Superman', r_ui=4.0, est=4.374999999999999, details={'actual_k': 7, 'was_impossible': False}),\n Prediction(uid=50093, iid='Bamboo.bar', r_ui=5.0, est=4.078779599271403, details={'actual_k': 21, 'was_impossible': False}),\n Prediction(uid=77814, iid='Библиотека №44 им. В.Г. Короленко', r_ui=5.0, est=3.6163845918211073, details={'actual_k': 40, 'was_impossible': False}),\n Prediction(uid=64714, iid='The Бык', r_ui=5.0, est=4.0675675675675675, details={'actual_k': 40, 'was_impossible': False}),\n Prediction(uid=52594, iid='Mary Wong', r_ui=3.0, est=3.6410256410256414, details={'actual_k': 15, 'was_impossible': False}),\n Prediction(uid=55364, iid='Карлсон', r_ui=3.0, est=3.611699164345404, details={'actual_k': 21, 'was_impossible': False}),\n Prediction(uid=60969, iid='[KU:]', r_ui=5.0, est=3.5377358490566038, details={'actual_k': 40, 'was_impossible': False}),\n Prediction(uid=37770, iid='Циники', r_ui=3.0, est=3.956613756613757, details={'actual_k': 14, 'was_impossible': False}),\n Prediction(uid=88370, iid='Профили', r_ui=2.0, est=4.017964071856287, details={'actual_k': 13, 'was_impossible': False}),\n Prediction(uid=7195, iid='Грабли', r_ui=3.0, est=4.0341179011012755, details={'actual_k': 40, 'was_impossible': False}),\n Prediction(uid=13557, iid='Imagine cafe', r_ui=3.0, est=3.534546959040132, details={'actual_k': 12, 'was_impossible': False}),\n Prediction(uid=83244, iid='Библиотека №60 им. О.Э. Мандельштама', r_ui=2.0, est=3.5954631379962194, details={'actual_k': 33, 'was_impossible': False}),\n Prediction(uid=50473, iid='Tgi fridays', r_ui=4.0, est=3.34, details={'actual_k': 12, 'was_impossible': False}),\n Prediction(uid=12824, iid='Каро', r_ui=5.0, est=4.0, details={'actual_k': 40, 'was_impossible': False}),\n Prediction(uid=59776, iid='True Cost', r_ui=5.0, est=3.7183098591549295, details={'actual_k': 40, 'was_impossible': False}),\n Prediction(uid=78238, iid='Российская государственная библиотека искусств', r_ui=4.0, est=3.45995670995671, details={'actual_k': 40, 'was_impossible': False}),\n Prediction(uid=96519, iid='Центральный академический театр Российской армии', r_ui=3.0, est=3.92842741935484, details={'actual_k': 27, 'was_impossible': False}),\n Prediction(uid=56199, iid='Meraki', r_ui=5.0, est=3.887931034482759, details={'actual_k': 18, 'was_impossible': False}),\n Prediction(uid=87882, iid='Московский Армянский театр', r_ui=1.0, est=2.757971014492754, details={'actual_k': 10, 'was_impossible': False}),\n Prediction(uid=51227, iid='Интеллигенция', r_ui=3.0, est=2.714285714285714, details={'actual_k': 6, 'was_impossible': False}),\n Prediction(uid=64760, iid='Patriki', r_ui=3.0, est=2.9111111111111128, details={'actual_k': 18, 'was_impossible': False}),\n Prediction(uid=20366, iid='Синема Парк', r_ui=3.0, est=5, details={'actual_k': 40, 'was_impossible': False}),\n Prediction(uid=1631, iid='Central Station', r_ui=4.0, est=4.0, details={'actual_k': 1, 'was_impossible': False}),\n Prediction(uid=24536, iid='Imagine cafe', r_ui=5.0, est=3.3658536585365866, details={'actual_k': 27, 'was_impossible': False}),\n Prediction(uid=55302, iid='Sixty', r_ui=5.0, est=3.7994376757263355, details={'actual_k': 12, 'was_impossible': False}),\n Prediction(uid=85432, iid='Библиотека №33 им. Д.А. Фурманова', r_ui=5.0, est=3.7066586682663485, details={'actual_k': 40, 'was_impossible': False}),\n Prediction(uid=63129, iid='Frank by Баста', r_ui=5.0, est=3.9, details={'actual_k': 40, 'was_impossible': False}),\n Prediction(uid=40661, iid='Faiza', r_ui=5.0, est=3.3190783880292467, details={'actual_k': 18, 'was_impossible': False}),\n Prediction(uid=50859, iid='Littles kids play cafe', r_ui=5.0, est=4.084671532846716, details={'actual_k': 19, 'was_impossible': False}),\n Prediction(uid=88183, iid='Миллениум', r_ui=5.0, est=3.7145598464859675, details={'actual_k': 40, 'was_impossible': False}),\n Prediction(uid=53920, iid='Высота 5642', r_ui=2.0, est=3.86425339366516, details={'actual_k': 40, 'was_impossible': False}),\n Prediction(uid=58327, iid='Высота 5642', r_ui=3.0, est=3.4411764705882386, details={'actual_k': 29, 'was_impossible': False}),\n Prediction(uid=60214, iid='Debrett', r_ui=5.0, est=2.3905660377358493, details={'actual_k': 11, 'was_impossible': False}),\n Prediction(uid=7017, iid='Harat`s pub', r_ui=3.0, est=3.7216485824291228, details={'actual_k': 18, 'was_impossible': False}),\n Prediction(uid=87349, iid='Детская библиотека №231 им. Н.А. Островского', r_ui=5.0, est=3.5069228375855652, details={'actual_k': 24, 'was_impossible': False}),\n Prediction(uid=98610, iid='Оранжевое небо', r_ui=3.0, est=3.3512164691204007, details={'actual_k': 23, 'was_impossible': False}),\n Prediction(uid=93054, iid='Мастерскаяю', r_ui=3.0, est=3.6145833333333353, details={'actual_k': 17, 'was_impossible': False}),\n Prediction(uid=75163, iid='Библиотека №215', r_ui=5.0, est=3.8035714285714297, details={'actual_k': 14, 'was_impossible': False}),\n Prediction(uid=58660, iid='Narnia', r_ui=5.0, est=3.9247231456165563, details={'actual_k': 40, 'was_impossible': False}),\n Prediction(uid=63401, iid='Тануки', r_ui=4.0, est=3.9683042789223473, details={'actual_k': 40, 'was_impossible': False}),\n Prediction(uid=66397, iid='The Бык', r_ui=4.0, est=3.55, details={'actual_k': 40, 'was_impossible': False}),\n Prediction(uid=17133, iid='Lampa', r_ui=5.0, est=3.6419753086419755, details={'actual_k': 16, 'was_impossible': False}),\n Prediction(uid=72379, iid='Sakura Place', r_ui=5.0, est=3.924603174603179, details={'actual_k': 40, 'was_impossible': False}),\n Prediction(uid=7602, iid='Котлета', r_ui=3.0, est=3.698422398291751, details={'was_impossible': True, 'reason': 'Not enough neighbors.'}),\n Prediction(uid=15693, iid='Lao lee', r_ui=5.0, est=3.3831521739130443, details={'actual_k': 16, 'was_impossible': False}),\n Prediction(uid=20284, iid='Каро', r_ui=5.0, est=3.415721231766614, details={'actual_k': 28, 'was_impossible': False}),\n Prediction(uid=57841, iid='Soho Rooms', r_ui=5.0, est=3.9647644580620467, details={'actual_k': 32, 'was_impossible': False}),\n Prediction(uid=55440, iid='Чайка', r_ui=3.0, est=3.6722073095188907, details={'actual_k': 39, 'was_impossible': False}),\n Prediction(uid=99264, iid='Рыжий театр', r_ui=3.0, est=3.7103448275862068, details={'actual_k': 40, 'was_impossible': False}),\n Prediction(uid=13800, iid='Pro.Хинкали', r_ui=3.0, est=3.866775421424688, details={'actual_k': 20, 'was_impossible': False}),\n Prediction(uid=52692, iid='Steak it easy', r_ui=5.0, est=3.2853982300884956, details={'actual_k': 6, 'was_impossible': False}),\n Prediction(uid=60408, iid='Lюstra bar', r_ui=5.0, est=4.268213120695905, details={'actual_k': 15, 'was_impossible': False}),\n Prediction(uid=87607, iid='Хобот', r_ui=4.0, est=3.740530303030304, details={'actual_k': 19, 'was_impossible': False}),\n Prediction(uid=67694, iid='Страна которой нет', r_ui=1.0, est=3.806451612903226, details={'actual_k': 8, 'was_impossible': False}),\n Prediction(uid=8390, iid='from Berlin', r_ui=5.0, est=3.3596153846153842, details={'actual_k': 8, 'was_impossible': False}),\n Prediction(uid=65138, iid='Geraldine', r_ui=1.0, est=3.672805524972477, details={'actual_k': 30, 'was_impossible': False}),\n Prediction(uid=57333, iid='Парк', r_ui=4.0, est=3.032888888888889, details={'actual_k': 13, 'was_impossible': False}),\n Prediction(uid=93381, iid='Кашемир', r_ui=2.0, est=3.844357976653697, details={'actual_k': 13, 'was_impossible': False}),\n Prediction(uid=41499, iid='На Досках', r_ui=5.0, est=3.4586666666666663, details={'actual_k': 13, 'was_impossible': False}),\n Prediction(uid=24768, iid='Faiza', r_ui=1.0, est=2.9756931257121177, details={'actual_k': 24, 'was_impossible': False}),\n Prediction(uid=53705, iid='Сыроварня', r_ui=4.0, est=3.9, details={'actual_k': 40, 'was_impossible': False}),\n Prediction(uid=21448, iid='Гамбринус', r_ui=1.0, est=3.1438082556591223, details={'actual_k': 9, 'was_impossible': False}),\n Prediction(uid=69452, iid='Тоттори', r_ui=5.0, est=3.9365042715308243, details={'actual_k': 40, 'was_impossible': False}),\n Prediction(uid=8205, iid='Френдс: Джо не делится едой', r_ui=5.0, est=3.8823529411764706, details={'actual_k': 5, 'was_impossible': False}),\n Prediction(uid=12747, iid='Киномакс', r_ui=2.0, est=3.7213622291021675, details={'actual_k': 40, 'was_impossible': False}),\n Prediction(uid=87728, iid='Московский театр мастерская П.Н. Фоменко', r_ui=5.0, est=4.347368421052631, details={'actual_k': 7, 'was_impossible': False}),\n Prediction(uid=63788, iid='Bambule', r_ui=2.0, est=3.371374527112233, details={'actual_k': 15, 'was_impossible': False}),\n Prediction(uid=21368, iid='Dream bar', r_ui=5.0, est=3.78071748878924, details={'actual_k': 29, 'was_impossible': False}),\n Prediction(uid=44324, iid='Джонджоли', r_ui=4.0, est=3.823047515019117, details={'actual_k': 40, 'was_impossible': False}),\n Prediction(uid=14382, iid='Кривоколенный 9с3', r_ui=5.0, est=3.8115702479338838, details={'actual_k': 17, 'was_impossible': False}),\n Prediction(uid=45028, iid='Will Taste', r_ui=2.0, est=3.0, details={'actual_k': 1, 'was_impossible': False}),\n Prediction(uid=68801, iid='Эль Гаучито', r_ui=5.0, est=3.7349397590361453, details={'actual_k': 40, 'was_impossible': False}),\n Prediction(uid=98865, iid='Гавит', r_ui=5.0, est=3.278688524590164, details={'actual_k': 7, 'was_impossible': False}),\n Prediction(uid=70102, iid='The 312', r_ui=3.0, est=3.473374750388287, details={'actual_k': 20, 'was_impossible': False}),\n Prediction(uid=19626, iid='Между нами булочками', r_ui=5.0, est=3.276885043263288, details={'actual_k': 13, 'was_impossible': False}),\n Prediction(uid=10091, iid='Royal estate', r_ui=4.0, est=5, details={'actual_k': 1, 'was_impossible': False}),\n Prediction(uid=69294, iid='Честная рыба', r_ui=5.0, est=3.6371681415929213, details={'actual_k': 21, 'was_impossible': False}),\n Prediction(uid=98717, iid='Тик-Так', r_ui=5.0, est=3.969144460028054, details={'actual_k': 26, 'was_impossible': False}),\n Prediction(uid=66918, iid='Лобби-бар', r_ui=5.0, est=3.9811320754716997, details={'actual_k': 40, 'was_impossible': False}),\n Prediction(uid=84221, iid='Детская библиотека №121', r_ui=5.0, est=3.1511627906976756, details={'actual_k': 18, 'was_impossible': False}),\n Prediction(uid=90506, iid='Театральная школа Олега Табакова', r_ui=3.0, est=2.766129032258065, details={'actual_k': 10, 'was_impossible': False}),\n Prediction(uid=56201, iid='Happy end bar&kitchen', r_ui=5.0, est=3.5957764903756324, details={'actual_k': 22, 'was_impossible': False}),\n Prediction(uid=11264, iid='Долина', r_ui=5.0, est=3.5000000000000004, details={'actual_k': 9, 'was_impossible': False}),\n Prediction(uid=64323, iid='Bagebi restaurant', r_ui=3.0, est=3.8550724637681157, details={'actual_k': 11, 'was_impossible': False}),\n Prediction(uid=82933, iid='Библиотека №76 им. М.Ю. Лермонтова', r_ui=3.0, est=3.5343107310120163, details={'actual_k': 40, 'was_impossible': False}),\n Prediction(uid=71749, iid='Шинок', r_ui=5.0, est=3.2356185632051067, details={'actual_k': 32, 'was_impossible': False}),\n Prediction(uid=66309, iid='Korean Station', r_ui=5.0, est=4.27055702917772, details={'actual_k': 6, 'was_impossible': False}),\n Prediction(uid=8682, iid='Квартира 44', r_ui=3.0, est=3.921875, details={'actual_k': 10, 'was_impossible': False}),\n Prediction(uid=43359, iid='Ule Thai', r_ui=3.0, est=3.0833333333333335, details={'actual_k': 7, 'was_impossible': False}),\n Prediction(uid=86026, iid='Библиотека №9 им. Н.В. Гоголя', r_ui=1.0, est=4.571428571428571, details={'actual_k': 7, 'was_impossible': False}),\n Prediction(uid=62980, iid='Osteria Mario', r_ui=5.0, est=4.282051282051281, details={'actual_k': 12, 'was_impossible': False}),\n Prediction(uid=99340, iid='Театр сторителлинга', r_ui=5.0, est=3.2667487291709416, details={'actual_k': 25, 'was_impossible': False}),\n Prediction(uid=13102, iid='J`pan', r_ui=3.0, est=3.4271844660194177, details={'actual_k': 40, 'was_impossible': False}),\n Prediction(uid=97152, iid='Детский театр теней', r_ui=5.0, est=3.555140961857383, details={'actual_k': 20, 'was_impossible': False}),\n Prediction(uid=90250, iid='Гитис', r_ui=3.0, est=3.910714285714285, details={'actual_k': 14, 'was_impossible': False}),\n Prediction(uid=68217, iid='Atlantica Seafood', r_ui=3.0, est=3.112439773323015, details={'actual_k': 26, 'was_impossible': False}),\n Prediction(uid=88385, iid='Станиславский', r_ui=5.0, est=3.7087378640776705, details={'actual_k': 40, 'was_impossible': False}),\n Prediction(uid=66739, iid='Хата', r_ui=5.0, est=3.891480247501192, details={'actual_k': 23, 'was_impossible': False}),\n Prediction(uid=21141, iid='Life pub', r_ui=3.0, est=4.715025906735751, details={'actual_k': 9, 'was_impossible': False}),\n Prediction(uid=94789, iid='Камерная сцена им. Б.А. Покровского', r_ui=4.0, est=4.135416666666667, details={'actual_k': 16, 'was_impossible': False}),\n Prediction(uid=5351, iid='Faiza', r_ui=5.0, est=3.449543068248107, details={'actual_k': 21, 'was_impossible': False}),\n Prediction(uid=59671, iid='Гвидон', r_ui=4.0, est=3.4477080551846915, details={'actual_k': 20, 'was_impossible': False}),\n Prediction(uid=73667, iid='Bro&N', r_ui=4.0, est=3.9736456808199154, details={'actual_k': 31, 'was_impossible': False}),\n Prediction(uid=87055, iid='Библиотека №146', r_ui=5.0, est=4.7178423236514515, details={'actual_k': 11, 'was_impossible': False}),\n Prediction(uid=66970, iid='Восход', r_ui=5.0, est=3.734143049932524, details={'actual_k': 10, 'was_impossible': False}),\n Prediction(uid=78224, iid='Библиотека №42 им. А. Платонова', r_ui=3.0, est=4.21818181818182, details={'actual_k': 25, 'was_impossible': False}),\n Prediction(uid=5205, iid='If', r_ui=1.0, est=3.5151515151515142, details={'actual_k': 8, 'was_impossible': False}),\n Prediction(uid=68989, iid='CUTLET', r_ui=3.0, est=4.089239339079381, details={'actual_k': 31, 'was_impossible': False}),\n Prediction(uid=63302, iid='True Cost', r_ui=5.0, est=2.8205128205128194, details={'actual_k': 11, 'was_impossible': False}),\n Prediction(uid=531, iid='Чихо', r_ui=4.0, est=3.923868312757201, details={'actual_k': 7, 'was_impossible': False}),\n Prediction(uid=63221, iid='Mary Wong', r_ui=4.0, est=4.071912350597611, details={'actual_k': 23, 'was_impossible': False}),\n Prediction(uid=95289, iid='Радуга', r_ui=4.0, est=3.658536585365854, details={'actual_k': 40, 'was_impossible': False}),\n Prediction(uid=22339, iid='Киноград', r_ui=2.0, est=3.720825515947469, details={'actual_k': 28, 'was_impossible': False}),\n Prediction(uid=7448, iid='Этажерка', r_ui=1.0, est=3.33623693379791, details={'actual_k': 8, 'was_impossible': False}),\n Prediction(uid=49801, iid='Козловица', r_ui=5.0, est=4.000000000000001, details={'actual_k': 3, 'was_impossible': False}),\n Prediction(uid=86929, iid='Библиотека №42 им. А. Платонова', r_ui=3.0, est=4.013812154696133, details={'actual_k': 8, 'was_impossible': False}),\n Prediction(uid=95226, iid='Бродвей Москва', r_ui=4.0, est=4.557291666666667, details={'actual_k': 4, 'was_impossible': False}),\n Prediction(uid=87034, iid='Музей Вадима Сидура', r_ui=3.0, est=3.327505297729178, details={'actual_k': 21, 'was_impossible': False}),\n Prediction(uid=69563, iid='Vysota57 Lounge', r_ui=2.0, est=3.198699715562782, details={'actual_k': 28, 'was_impossible': False}),\n Prediction(uid=57186, iid='Луч', r_ui=5.0, est=3.4779689467058352, details={'actual_k': 27, 'was_impossible': False}),\n Prediction(uid=86485, iid='Библиотека №33 им. Д.А. Фурманова', r_ui=4.0, est=4.08315565031983, details={'actual_k': 12, 'was_impossible': False}),\n Prediction(uid=47936, iid='Мел', r_ui=4.0, est=3.0181818181818185, details={'actual_k': 11, 'was_impossible': False}),\n Prediction(uid=57793, iid='Grill Grad', r_ui=4.0, est=3.544146500981034, details={'actual_k': 18, 'was_impossible': False}),\n Prediction(uid=89515, iid='Современный театр антрепризы', r_ui=5.0, est=4.291834002677376, details={'actual_k': 19, 'was_impossible': False}),\n Prediction(uid=54470, iid='RAZGAR', r_ui=5.0, est=3.8142722395802644, details={'actual_k': 40, 'was_impossible': False}),\n Prediction(uid=56439, iid='Кофемания', r_ui=2.0, est=4.045454545454546, details={'actual_k': 40, 'was_impossible': False}),\n Prediction(uid=76641, iid='Церковная библиотека', r_ui=5.0, est=3.692307692307693, details={'actual_k': 4, 'was_impossible': False}),\n Prediction(uid=23600, iid='Вареничная №1', r_ui=5.0, est=4.287392679620428, details={'actual_k': 34, 'was_impossible': False}),\n Prediction(uid=73019, iid='Сварня', r_ui=5.0, est=3.2432432432432425, details={'actual_k': 8, 'was_impossible': False}),\n Prediction(uid=94387, iid='Театр им. Гоголя', r_ui=2.0, est=3.619028421689176, details={'actual_k': 23, 'was_impossible': False}),\n Prediction(uid=92561, iid='Performance', r_ui=5.0, est=3.1401869158878517, details={'actual_k': 20, 'was_impossible': False}),\n Prediction(uid=62249, iid='Кухня Полли', r_ui=2.0, est=3.766412213740459, details={'actual_k': 20, 'was_impossible': False}),\n Prediction(uid=76288, iid='Библиотека-читальня им. А.С. Пушкина', r_ui=2.0, est=3.55, details={'actual_k': 40, 'was_impossible': False}),\n Prediction(uid=58992, iid='Краснодар', r_ui=5.0, est=3.452380952380953, details={'actual_k': 8, 'was_impossible': False}),\n Prediction(uid=8111, iid='Бульвар. Шашлык-сити', r_ui=5.0, est=3.158769230769231, details={'actual_k': 17, 'was_impossible': False}),\n Prediction(uid=86117, iid='Библиотека-читальня им. А.С. Пушкина', r_ui=3.0, est=3.7897727272727266, details={'actual_k': 40, 'was_impossible': False}),\n Prediction(uid=24211, iid='Галакс', r_ui=2.0, est=3.6666666666666665, details={'actual_k': 17, 'was_impossible': False}),\n Prediction(uid=17095, iid='Моя рьяnaya babyшка летит v Cingaпур', r_ui=5.0, est=3.4086705202312166, details={'actual_k': 24, 'was_impossible': False}),\n Prediction(uid=93957, iid='Pdk Drama', r_ui=3.0, est=3.0092265943012215, details={'actual_k': 13, 'was_impossible': False}),\n Prediction(uid=56969, iid='Frank by Баста', r_ui=3.0, est=3.725, details={'actual_k': 40, 'was_impossible': False}),\n Prediction(uid=46029, iid='Method Beer & Munchies', r_ui=4.0, est=4.1656441717791415, details={'actual_k': 4, 'was_impossible': False}),\n Prediction(uid=13080, iid='Нивада', r_ui=2.0, est=4.407407407407407, details={'actual_k': 5, 'was_impossible': False}),\n Prediction(uid=57934, iid='Fish культура', r_ui=3.0, est=3.729864386792452, details={'actual_k': 38, 'was_impossible': False}),\n Prediction(uid=3906, iid='Дружба', r_ui=5.0, est=3.64935064935065, details={'actual_k': 13, 'was_impossible': False}),\n Prediction(uid=86687, iid='Детская библиотека №40', r_ui=5.0, est=3.854555433589464, details={'actual_k': 23, 'was_impossible': False}),\n Prediction(uid=67112, iid='Павлин 2.0', r_ui=5.0, est=3.415760869565218, details={'actual_k': 20, 'was_impossible': False}),\n Prediction(uid=71453, iid='PaPaella', r_ui=1.0, est=4.000000000000001, details={'actual_k': 19, 'was_impossible': False}),\n Prediction(uid=58311, iid='Capo', r_ui=4.0, est=3.6849369085173507, details={'actual_k': 25, 'was_impossible': False}),\n Prediction(uid=65736, iid='Айдабаран', r_ui=5.0, est=3.5303867403314912, details={'actual_k': 10, 'was_impossible': False}),\n Prediction(uid=45818, iid='Театриум Терезы Дуровой', r_ui=5.0, est=4.1317829457364335, details={'actual_k': 8, 'was_impossible': False}),\n Prediction(uid=49125, iid='Гоген', r_ui=5.0, est=4.176937825253354, details={'actual_k': 17, 'was_impossible': False}),\n Prediction(uid=4174, iid='Kook', r_ui=5.0, est=3.7500000000000004, details={'actual_k': 3, 'was_impossible': False}),\n Prediction(uid=41110, iid='Профили', r_ui=2.0, est=4.396103896103896, details={'actual_k': 10, 'was_impossible': False}),\n Prediction(uid=3470, iid='Caffe Mandy`s', r_ui=4.0, est=3.2701570680628262, details={'actual_k': 14, 'was_impossible': False}),\n Prediction(uid=9065, iid='Kalabasa', r_ui=4.0, est=2.7179487179487176, details={'actual_k': 7, 'was_impossible': False}),\n Prediction(uid=92950, iid='Гавит', r_ui=5.0, est=3.5698096101541275, details={'actual_k': 31, 'was_impossible': False}),\n Prediction(uid=50152, iid='Маэстро', r_ui=5.0, est=4.0545112781954895, details={'actual_k': 11, 'was_impossible': False}),\n Prediction(uid=12435, iid='Самарканд', r_ui=2.0, est=3.981132075471698, details={'actual_k': 13, 'was_impossible': False}),\n Prediction(uid=61804, iid='PANORAMA360', r_ui=3.0, est=3.8262548262548264, details={'actual_k': 21, 'was_impossible': False}),\n Prediction(uid=10846, iid='Sin room', r_ui=5.0, est=4.391304347826086, details={'actual_k': 4, 'was_impossible': False}),\n Prediction(uid=23182, iid='Pauwel kwak', r_ui=5.0, est=3.6875, details={'actual_k': 5, 'was_impossible': False}),\n Prediction(uid=72440, iid='White Rabbit', r_ui=1.0, est=3.5924075924075933, details={'actual_k': 22, 'was_impossible': False}),\n Prediction(uid=66695, iid='Шинок', r_ui=5.0, est=3.907126611068993, details={'actual_k': 29, 'was_impossible': False}),\n Prediction(uid=2458, iid='Moloko', r_ui=4.0, est=3.639699381078691, details={'actual_k': 16, 'was_impossible': False}),\n Prediction(uid=70387, iid='Мытищинские бани', r_ui=3.0, est=3.7536231884057973, details={'actual_k': 12, 'was_impossible': False}),\n Prediction(uid=50448, iid='Парк', r_ui=5.0, est=3.4677419354838706, details={'actual_k': 5, 'was_impossible': False}),\n Prediction(uid=95723, iid='Театр Валентины Саянской', r_ui=5.0, est=4.000000000000001, details={'actual_k': 15, 'was_impossible': False}),\n Prediction(uid=63047, iid='Frank by Баста', r_ui=3.0, est=4.203703703703703, details={'actual_k': 40, 'was_impossible': False}),\n Prediction(uid=40346, iid='Eiwa', r_ui=5.0, est=4.0, details={'actual_k': 2, 'was_impossible': False}),\n Prediction(uid=45447, iid='HookahPlace Barrel', r_ui=3.0, est=4.545454545454545, details={'actual_k': 2, 'was_impossible': False}),\n Prediction(uid=1548, iid='Taco Project', r_ui=3.0, est=3.1981132075471703, details={'actual_k': 6, 'was_impossible': False}),\n Prediction(uid=15919, iid='Michelada', r_ui=2.0, est=4.020576131687243, details={'actual_k': 6, 'was_impossible': False}),\n Prediction(uid=13484, iid='Method Beer & Munchies', r_ui=1.0, est=3.9315514591210508, details={'actual_k': 22, 'was_impossible': False}),\n Prediction(uid=53473, iid='Мясо&рыба', r_ui=4.0, est=3.8742857142857146, details={'actual_k': 6, 'was_impossible': False}),\n Prediction(uid=19569, iid='Каро', r_ui=3.0, est=3.5951365187713344, details={'actual_k': 36, 'was_impossible': False}),\n Prediction(uid=82475, iid='Библиотека №111', r_ui=3.0, est=3.5912280701754407, details={'actual_k': 14, 'was_impossible': False}),\n Prediction(uid=92924, iid='Театр живого действия', r_ui=1.0, est=4.482300884955753, details={'actual_k': 16, 'was_impossible': False}),\n Prediction(uid=67069, iid='Порто миконос', r_ui=5.0, est=3.0833333333333335, details={'actual_k': 7, 'was_impossible': False}),\n Prediction(uid=43549, iid='Saperavi', r_ui=5.0, est=4.296296296296296, details={'actual_k': 4, 'was_impossible': False}),\n Prediction(uid=92615, iid='Московский театр Олега Табакова', r_ui=5.0, est=3.6170212765957444, details={'actual_k': 40, 'was_impossible': False}),\n Prediction(uid=98612, iid='TheatreHD', r_ui=4.0, est=3.9390513745306652, details={'actual_k': 34, 'was_impossible': False}),\n Prediction(uid=46041, iid='Кимчи', r_ui=1.0, est=3.333333333333333, details={'actual_k': 4, 'was_impossible': False}),\n Prediction(uid=91150, iid='Театральная школа Олега Табакова', r_ui=5.0, est=3.4097476816907495, details={'actual_k': 14, 'was_impossible': False}),\n Prediction(uid=91413, iid='Вернадского 13', r_ui=5.0, est=3.4874371859296502, details={'actual_k': 23, 'was_impossible': False}),\n Prediction(uid=74429, iid='Мытищинские бани', r_ui=5.0, est=4.166123778501628, details={'actual_k': 12, 'was_impossible': False}),\n Prediction(uid=89264, iid='Синяя птица, театр кукол', r_ui=3.0, est=4.171755725190841, details={'actual_k': 16, 'was_impossible': False}),\n Prediction(uid=64037, iid='The Бык', r_ui=3.0, est=3.475, details={'actual_k': 40, 'was_impossible': False}),\n Prediction(uid=99615, iid='Москонцерт Холл', r_ui=5.0, est=3.95265700483092, details={'actual_k': 24, 'was_impossible': False}),\n Prediction(uid=5166, iid='Регги', r_ui=2.0, est=3.666666666666667, details={'actual_k': 3, 'was_impossible': False}),\n Prediction(uid=2488, iid='Jolly leprechaun', r_ui=2.0, est=3.6325263811297357, details={'actual_k': 21, 'was_impossible': False}),\n Prediction(uid=95127, iid='Community Stage', r_ui=4.0, est=2.6050643250969987, details={'actual_k': 19, 'was_impossible': False}),\n Prediction(uid=22173, iid='Синема стар', r_ui=4.0, est=3.5555555555555567, details={'actual_k': 30, 'was_impossible': False}),\n Prediction(uid=9315, iid='Первый', r_ui=5.0, est=3.528784648187633, details={'actual_k': 6, 'was_impossible': False}),\n Prediction(uid=5132, iid='J`pan', r_ui=3.0, est=3.3852573018080676, details={'actual_k': 14, 'was_impossible': False}),\n Prediction(uid=88953, iid='Московский государственный академический театр танца Гжель', r_ui=3.0, est=3.865248226950356, details={'actual_k': 25, 'was_impossible': False}),\n Prediction(uid=59253, iid='Assunta Madre', r_ui=5.0, est=3.552954292084727, details={'actual_k': 12, 'was_impossible': False}),\n Prediction(uid=10765, iid='Moloko', r_ui=4.0, est=3.3703703703703702, details={'actual_k': 14, 'was_impossible': False}),\n Prediction(uid=75300, iid='Библиотека №10', r_ui=2.0, est=3.5882809468374104, details={'actual_k': 32, 'was_impossible': False}),\n Prediction(uid=18934, iid='Каро', r_ui=4.0, est=3.975, details={'actual_k': 40, 'was_impossible': False}),\n Prediction(uid=54522, iid='Fish культура', r_ui=1.0, est=4.0831930752584755, details={'actual_k': 32, 'was_impossible': False}),\n Prediction(uid=23126, iid='Сенеж', r_ui=3.0, est=2.339805825242718, details={'actual_k': 8, 'was_impossible': False}),\n Prediction(uid=94552, iid='Театр драмы и комедии', r_ui=1.0, est=3.534234340430163, details={'actual_k': 21, 'was_impossible': False}),\n Prediction(uid=98323, iid='Русский балет', r_ui=5.0, est=3.440969557431571, details={'actual_k': 21, 'was_impossible': False}),\n Prediction(uid=54524, iid='Кофемания', r_ui=5.0, est=3.995238095238096, details={'actual_k': 40, 'was_impossible': False}),\n Prediction(uid=16713, iid='Киномакс', r_ui=5.0, est=3.7634517766497484, details={'actual_k': 40, 'was_impossible': False}),\n Prediction(uid=87607, iid='Дом', r_ui=3.0, est=3.585689045936396, details={'actual_k': 13, 'was_impossible': False}),\n Prediction(uid=52766, iid='Chef', r_ui=1.0, est=4.615384615384615, details={'actual_k': 3, 'was_impossible': False}),\n Prediction(uid=45087, iid='Ycp', r_ui=3.0, est=4.113924050632911, details={'actual_k': 7, 'was_impossible': False}),\n Prediction(uid=80973, iid='Библиотека №93 им. А.А. Блока', r_ui=2.0, est=3.7589285714285725, details={'actual_k': 17, 'was_impossible': False}),\n Prediction(uid=97452, iid='Театр на Бронной', r_ui=4.0, est=4.214043035107589, details={'actual_k': 19, 'was_impossible': False}),\n Prediction(uid=20239, iid='Пьяный цеппелин', r_ui=2.0, est=3.5771428571428574, details={'actual_k': 21, 'was_impossible': False}),\n Prediction(uid=77134, iid='Объединение культурных центров Западного административного округа', r_ui=4.0, est=3.4393939393939386, details={'actual_k': 40, 'was_impossible': False}),\n Prediction(uid=3791, iid='Republic', r_ui=3.0, est=3.9594095940959417, details={'actual_k': 14, 'was_impossible': False}),\n Prediction(uid=703, iid='Куприн', r_ui=3.0, est=4.615384615384615, details={'actual_k': 4, 'was_impossible': False}),\n Prediction(uid=41620, iid='Сунели', r_ui=4.0, est=3.3084677419354835, details={'actual_k': 13, 'was_impossible': False}),\n Prediction(uid=19493, iid='Kulёk', r_ui=5.0, est=3.6451612903225796, details={'actual_k': 9, 'was_impossible': False}),\n Prediction(uid=99412, iid='Детский театр марионеток', r_ui=4.0, est=3.7680457746478893, details={'actual_k': 23, 'was_impossible': False}),\n Prediction(uid=2492, iid='High ground', r_ui=5.0, est=3.3962264150943398, details={'actual_k': 12, 'was_impossible': False}),\n Prediction(uid=64640, iid='Кофемания', r_ui=4.0, est=3.6772853185595578, details={'actual_k': 40, 'was_impossible': False}),\n Prediction(uid=95498, iid='Театр им. Е. Вахтангова', r_ui=4.0, est=3.9513540621865597, details={'actual_k': 40, 'was_impossible': False}),\n Prediction(uid=41109, iid='Bimba', r_ui=3.0, est=3.225806451612903, details={'actual_k': 5, 'was_impossible': False}),\n Prediction(uid=74800, iid='Котельная', r_ui=5.0, est=3.0852722063037255, details={'actual_k': 39, 'was_impossible': False}),\n Prediction(uid=23829, iid='The Бык', r_ui=5.0, est=3.047826086956522, details={'actual_k': 40, 'was_impossible': False}),\n Prediction(uid=72500, iid='Frank by Баста', r_ui=4.0, est=3.1, details={'actual_k': 40, 'was_impossible': False}),\n Prediction(uid=5321, iid='Кишлак', r_ui=3.0, est=3.464872927410218, details={'actual_k': 29, 'was_impossible': False}),\n Prediction(uid=53261, iid='Varvarka 3', r_ui=5.0, est=4.004838525064947, details={'actual_k': 40, 'was_impossible': False}),\n Prediction(uid=78863, iid='Библиотека искусств им. А.П. Боголюбова', r_ui=3.0, est=2.9131003795314747, details={'actual_k': 15, 'was_impossible': False}),\n Prediction(uid=18504, iid='The Бык', r_ui=3.0, est=3.0, details={'actual_k': 40, 'was_impossible': False}),\n Prediction(uid=59371, iid='Кофемания', r_ui=2.0, est=3.75, details={'actual_k': 40, 'was_impossible': False}),\n Prediction(uid=87669, iid='Гжель', r_ui=4.0, est=3.0000000000000004, details={'actual_k': 8, 'was_impossible': False}),\n Prediction(uid=68683, iid='Frank by Баста', r_ui=5.0, est=3.964646464646464, details={'actual_k': 40, 'was_impossible': False}),\n Prediction(uid=67326, iid='Sakura Place', r_ui=5.0, est=3.9047619047619055, details={'actual_k': 18, 'was_impossible': False}),\n Prediction(uid=616, iid='Martini', r_ui=4.0, est=3.476357267950963, details={'actual_k': 9, 'was_impossible': False}),\n Prediction(uid=39698, iid='На стульях', r_ui=4.0, est=3.698422398291751, details={'was_impossible': True, 'reason': 'Not enough neighbors.'}),\n Prediction(uid=44705, iid='Вернадского 13', r_ui=3.0, est=3.7058333333333335, details={'actual_k': 15, 'was_impossible': False}),\n Prediction(uid=51120, iid='Chekhoff Cafe&Bar', r_ui=4.0, est=2.874999999999999, details={'actual_k': 8, 'was_impossible': False}),\n Prediction(uid=64824, iid='Каспийка', r_ui=1.0, est=3.660714285714286, details={'actual_k': 10, 'was_impossible': False}),\n Prediction(uid=6015, iid='1929', r_ui=2.0, est=3.7063829787234033, details={'actual_k': 40, 'was_impossible': False}),\n Prediction(uid=88369, iid='Рыжий театр', r_ui=5.0, est=3.5955056179775293, details={'actual_k': 17, 'was_impossible': False}),\n Prediction(uid=65528, iid='Кухня Полли', r_ui=5.0, est=3.6149358226371078, details={'actual_k': 18, 'was_impossible': False}),\n Prediction(uid=99600, iid='Московский театр Олега Табакова', r_ui=4.0, est=3.5047169811320766, details={'actual_k': 40, 'was_impossible': False}),\n Prediction(uid=37894, iid='Дворец на Яузе', r_ui=3.0, est=3.765838011226945, details={'actual_k': 18, 'was_impossible': False}),\n ...]"
     },
     "execution_count": 15,
     "metadata": {},
     "output_type": "execute_result"
    }
   ],
   "source": [
    "predictions"
   ],
   "metadata": {
    "collapsed": false,
    "ExecuteTime": {
     "end_time": "2024-03-17T12:04:13.327095Z",
     "start_time": "2024-03-17T12:04:13.313388Z"
    }
   },
   "id": "5e38223dde675ffa"
  },
  {
   "cell_type": "markdown",
   "source": [
    "### Инференс модели"
   ],
   "metadata": {
    "collapsed": false
   },
   "id": "8db367e20106ad16"
  },
  {
   "cell_type": "code",
   "execution_count": null,
   "outputs": [
    {
     "name": "stdout",
     "output_type": "stream",
     "text": [
      "Estimating biases using als...\n"
     ]
    }
   ],
   "source": [
    "data = visit_data.copy()\n",
    "# Подготовка данных для surprise\n",
    "reader = Reader(rating_scale=(1, 5))  # Рейтинги в вашем датасете от 1 до 5\n",
    "data = Dataset.load_from_df(data[['user_id', 'name', 'user_rating']], reader)\n",
    "trainset = data.build_full_trainset()\n",
    "sim_options = {\n",
    "    'name': 'pearson_baseline',  # Метрика схожести: косинусное сходство, MSD, pearson, pearson_baseline\n",
    "    'user_based': True,  # или False, если предпочитаете схожесть на основе объектов\n",
    "    'min_support': 5,  # Минимальное количество общих объектов/пользователей\n",
    "    'shrinkage': 0  # Параметр уменьшения для pearson_baseline, 100 по умолчанию\n",
    "}\n",
    "\n",
    "# Создание и обучение модели KNNWithMeans\n",
    "inference_model = KNNWithMeans(k=40, sim_options=sim_options)\n",
    "cross_validate(inference_model, data, measures=['RMSE', 'MAE'], cv=3, verbose=True)\n",
    "inference_model.fit(trainset)"
   ],
   "metadata": {
    "collapsed": false,
    "ExecuteTime": {
     "start_time": "2024-03-17T12:43:09.385725Z"
    }
   },
   "id": "7f83be679bfbbfa9"
  },
  {
   "cell_type": "code",
   "execution_count": 1,
   "outputs": [
    {
     "data": {
      "text/plain": "1"
     },
     "execution_count": 1,
     "metadata": {},
     "output_type": "execute_result"
    }
   ],
   "source": [
    "1"
   ],
   "metadata": {
    "collapsed": false,
    "ExecuteTime": {
     "end_time": "2024-03-17T12:45:38.560025Z",
     "start_time": "2024-03-17T12:45:38.530873Z"
    }
   },
   "id": "733857d84bf61a4d"
  },
  {
   "cell_type": "code",
   "execution_count": 20,
   "outputs": [
    {
     "name": "stdout",
     "output_type": "stream",
     "text": [
      "Top-100 Recommendations for User 16:\n",
      "Item ID: Fox, Predicted Rating: 3.6990914390874354\n",
      "Item ID: Кремлёвский, Predicted Rating: 3.6990914390874354\n",
      "Item ID: Soul Burger, Predicted Rating: 3.6990914390874354\n",
      "Item ID: МУ-МУ, Predicted Rating: 3.6990914390874354\n",
      "Item ID: Москва-Дели, Predicted Rating: 3.6990914390874354\n",
      "Item ID: Краснодарский Парень, Predicted Rating: 3.6990914390874354\n",
      "Item ID: PARKHOUSE, Predicted Rating: 3.6990914390874354\n",
      "Item ID: Vasilchuki chaihona №1, Predicted Rating: 3.6990914390874354\n",
      "Item ID: Ботаника, Predicted Rating: 3.6990914390874354\n",
      "Item ID: Nagoya, Predicted Rating: 3.6990914390874354\n",
      "Item ID: Amico Bistro, Predicted Rating: 3.6990914390874354\n",
      "Item ID: Metafora bar, Predicted Rating: 3.6990914390874354\n",
      "Item ID: Этажерка, Predicted Rating: 3.6990914390874354\n",
      "Item ID: Кот Ч, Predicted Rating: 3.6990914390874354\n",
      "Item ID: Liberty, Predicted Rating: 3.6990914390874354\n",
      "Item ID: Faiza, Predicted Rating: 3.6990914390874354\n",
      "Item ID: Dry&wet, Predicted Rating: 3.6990914390874354\n",
      "Item ID: Beverly hills diner, Predicted Rating: 3.6990914390874354\n",
      "Item ID: Kalabasa, Predicted Rating: 3.6990914390874354\n",
      "Item ID: Soho Rooms, Predicted Rating: 3.6990914390874354\n",
      "Item ID: Полигон Холл, Predicted Rating: 3.6990914390874354\n",
      "Item ID: АндерСон, Predicted Rating: 3.6990914390874354\n",
      "Item ID: Моремания, Predicted Rating: 3.6990914390874354\n",
      "Item ID: Pauwel kwak, Predicted Rating: 3.6990914390874354\n",
      "Item ID: VK GIPSY, Predicted Rating: 3.6990914390874354\n",
      "Item ID: Дружба, Predicted Rating: 3.6990914390874354\n",
      "Item ID: Miraclub, Predicted Rating: 3.6990914390874354\n",
      "Item ID: Friends Forever Botanica, Predicted Rating: 3.6990914390874354\n",
      "Item ID: Нияма, Predicted Rating: 3.6990914390874354\n",
      "Item ID: Aroma espresso, Predicted Rating: 3.6990914390874354\n",
      "Item ID: Эль Гаучито, Predicted Rating: 3.6990914390874354\n",
      "Item ID: Tematika, Predicted Rating: 3.6990914390874354\n",
      "Item ID: Blondie, Predicted Rating: 3.6990914390874354\n",
      "Item ID: Сыто пьяно, Predicted Rating: 3.6990914390874354\n",
      "Item ID: Дом в котором, Predicted Rating: 3.6990914390874354\n",
      "Item ID: Saperavi, Predicted Rating: 3.6990914390874354\n",
      "Item ID: The Waterfront, Predicted Rating: 3.6990914390874354\n",
      "Item ID: Клуб Алексея Козлова, Predicted Rating: 3.6990914390874354\n",
      "Item ID: Чифанька, Predicted Rating: 3.6990914390874354\n",
      "Item ID: Литали, Predicted Rating: 3.6990914390874354\n",
      "Item ID: Шоколадница, Predicted Rating: 3.6990914390874354\n",
      "Item ID: Руки Вверх!, Predicted Rating: 3.6990914390874354\n",
      "Item ID: Ташкент Сити, Predicted Rating: 3.6990914390874354\n",
      "Item ID: Arch 1908, Predicted Rating: 3.6990914390874354\n",
      "Item ID: Папа Вейдер, Predicted Rating: 3.6990914390874354\n",
      "Item ID: Тото, Predicted Rating: 3.6990914390874354\n",
      "Item ID: Flex club, Predicted Rating: 3.6990914390874354\n",
      "Item ID: Гараж, Predicted Rating: 3.6990914390874354\n",
      "Item ID: Mastersuit, Predicted Rating: 3.6990914390874354\n",
      "Item ID: Мonte Lounge, Predicted Rating: 3.6990914390874354\n",
      "Item ID: Между нами булочками, Predicted Rating: 3.6990914390874354\n",
      "Item ID: Lampa, Predicted Rating: 3.6990914390874354\n",
      "Item ID: Индийские Карри Indian Curry, Predicted Rating: 3.6990914390874354\n",
      "Item ID: Moloko, Predicted Rating: 3.6990914390874354\n",
      "Item ID: Рюмочная Ильича, Predicted Rating: 3.6990914390874354\n",
      "Item ID: Мимо Нот, Predicted Rating: 3.6990914390874354\n",
      "Item ID: Kook, Predicted Rating: 3.6990914390874354\n",
      "Item ID: Рис&соя, Predicted Rating: 3.6990914390874354\n",
      "Item ID: Барвиха lounge, Predicted Rating: 3.6990914390874354\n",
      "Item ID: Leda, Predicted Rating: 3.6990914390874354\n",
      "Item ID: Lao lee, Predicted Rating: 3.6990914390874354\n",
      "Item ID: Defaqto, Predicted Rating: 3.6990914390874354\n",
      "Item ID: Nebar, Predicted Rating: 3.6990914390874354\n",
      "Item ID: Megobari, Predicted Rating: 3.6990914390874354\n",
      "Item ID: Jeremy`s club, Predicted Rating: 3.6990914390874354\n",
      "Item ID: Ami Chaise, Predicted Rating: 3.6990914390874354\n",
      "Item ID: Между булок, Predicted Rating: 3.6990914390874354\n",
      "Item ID: Маска, Predicted Rating: 3.6990914390874354\n",
      "Item ID: Kitchen, Predicted Rating: 3.6990914390874354\n",
      "Item ID: Шашлыкоff, Predicted Rating: 3.6990914390874354\n",
      "Item ID: Дом культур, Predicted Rating: 3.6990914390874354\n",
      "Item ID: Polyanka bar&kitchen, Predicted Rating: 3.6990914390874354\n",
      "Item ID: Ли, Predicted Rating: 3.6990914390874354\n",
      "Item ID: Bon app cafe, Predicted Rating: 3.6990914390874354\n",
      "Item ID: So Far Kebab, Predicted Rating: 3.6990914390874354\n",
      "Item ID: Техника БезОпасности, Predicted Rating: 3.6990914390874354\n",
      "Item ID: Притяжение, Predicted Rating: 3.6990914390874354\n",
      "Item ID: Powerhouse Moscow, Predicted Rating: 3.6990914390874354\n",
      "Item ID: SQ bar wine & grill, Predicted Rating: 3.6990914390874354\n",
      "Item ID: Бирхаус, Predicted Rating: 3.6990914390874354\n",
      "Item ID: Rodina Moskva, Predicted Rating: 3.6990914390874354\n",
      "Item ID: 22 сантиметра, Predicted Rating: 3.6990914390874354\n",
      "Item ID: Nicepricecafe, Predicted Rating: 3.6990914390874354\n",
      "Item ID: Каприз, Predicted Rating: 3.6990914390874354\n",
      "Item ID: Клуб 29, Predicted Rating: 3.6990914390874354\n",
      "Item ID: Китайский летчик Джао Да, Predicted Rating: 3.6990914390874354\n",
      "Item ID: Джонджоли, Predicted Rating: 3.6990914390874354\n",
      "Item ID: Эссе, Predicted Rating: 3.6990914390874354\n",
      "Item ID: Underground bar, Predicted Rating: 3.6990914390874354\n",
      "Item ID: Паддок, Predicted Rating: 3.6990914390874354\n",
      "Item ID: Вареничная №1, Predicted Rating: 3.6990914390874354\n",
      "Item ID: Neon monkey, Predicted Rating: 3.6990914390874354\n",
      "Item ID: Rock`n`Roll bar, Predicted Rating: 3.6990914390874354\n",
      "Item ID: Патефон, Predicted Rating: 3.6990914390874354\n",
      "Item ID: Ровесник, Predicted Rating: 3.6990914390874354\n",
      "Item ID: Кофемания, Predicted Rating: 3.6990914390874354\n",
      "Item ID: Чихо, Predicted Rating: 3.6990914390874354\n",
      "Item ID: Мост, Predicted Rating: 3.6990914390874354\n",
      "Item ID: Клешни и Хвосты, Predicted Rating: 3.6990914390874354\n",
      "Item ID: Клуб, Predicted Rating: 3.6990914390874354\n"
     ]
    }
   ],
   "source": [
    "from surprise import Dataset, Reader, KNNBasic\n",
    "from surprise.model_selection import train_test_split\n",
    "from surprise import accuracy\n",
    "# Допустим, мы хотим сгенерировать рекомендации для пользователя с user_id\n",
    "# Обучение модели\n",
    "users = trainset.all_users()\n",
    "items = trainset.all_items()\n",
    "item_names = trainset.to_raw_iid  # Получаем исходные идентификаторы объектов\n",
    "\n",
    "# Предположим, мы хотим сгенерировать рекомендации для пользователя с исходным user_id\n",
    "user_id = 16  # Пример исходного ID пользователя\n",
    "inner_user_id = trainset.to_inner_uid(user_id)  # Преобразуем во внутренний ID\n",
    "\n",
    "# Получаем список объектов, которые пользователь уже оценил\n",
    "user_rated_items = [item for (item, _) in trainset.ur[inner_user_id]]\n",
    "\n",
    "# Генерация предсказаний для объектов, которые пользователь не оценил\n",
    "unrated_items = [item for item in items if item not in user_rated_items]\n",
    "predictions = [inference_model.predict(inner_user_id, item) for item in unrated_items]\n",
    "\n",
    "# Сортировка предсказаний по убыванию предсказанного рейтинга\n",
    "predictions.sort(key=lambda x: x.est, reverse=True)\n",
    "\n",
    "# Выбор top-N рекомендаций\n",
    "N = 100\n",
    "top_n_recommendations = predictions[:N]\n",
    "\n",
    "# Вывод рекомендаций\n",
    "print(f\"Top-{N} Recommendations for User {user_id}:\")\n",
    "for pred in top_n_recommendations:\n",
    "    print(f\"Item ID: {item_names(pred.iid)}, Predicted Rating: {pred.est}\")"
   ],
   "metadata": {
    "collapsed": false,
    "ExecuteTime": {
     "end_time": "2024-03-17T12:23:44.810820Z",
     "start_time": "2024-03-17T12:23:44.797510Z"
    }
   },
   "id": "b2e074bae134664c"
  },
  {
   "cell_type": "code",
   "execution_count": 18,
   "outputs": [
    {
     "data": {
      "text/plain": "     user_id  age   gender             name  \\\n94        16   19  Мужской              Нах   \n95        16   19  Мужской         Петрович   \n96        16   19  Мужской            Весна   \n97        16   19  Мужской          Танzпол   \n98        16   19  Мужской  Geisha Superman   \n99        16   19  Мужской            Happy   \n100       16   19  Мужской          The Бык   \n101       16   19  Мужской  Twenty One Club   \n\n                                               address       pos1       pos2  \\\n94                           Тверская улица, 9, Москва  37.611009  55.759413   \n95                     Улица Мясницкая, 24 ст3, Москва  37.635206  55.762667   \n96   ТЦ Московский, Московский бульвар, 1а, Балаших...  37.960486  55.825886   \n97    Шараповская улица, 7, Мытищи, Московская область  37.751242  55.915195   \n98                  Улица Малая Бронная, 2 ст1, Москва  37.598300  55.759026   \n99   Ансамбль Миусского трамвайного депо, улица Лес...  37.593084  55.780218   \n100          ТДЦ ВЭБ.РФ, Новинский бульвар, 31, Москва  37.582520  55.757830   \n101  БЦ Обновление Арбата, улица Новый Арбат, 21, М...  37.586733  55.751924   \n\n     user_rating  visited  viewed_detail  \n94             5        0              1  \n95             5        0              0  \n96             5        0              0  \n97             4        0              0  \n98             3        0              1  \n99             5        0              0  \n100            4        0              0  \n101            5        0              0  ",
      "text/html": "<div>\n<style scoped>\n    .dataframe tbody tr th:only-of-type {\n        vertical-align: middle;\n    }\n\n    .dataframe tbody tr th {\n        vertical-align: top;\n    }\n\n    .dataframe thead th {\n        text-align: right;\n    }\n</style>\n<table border=\"1\" class=\"dataframe\">\n  <thead>\n    <tr style=\"text-align: right;\">\n      <th></th>\n      <th>user_id</th>\n      <th>age</th>\n      <th>gender</th>\n      <th>name</th>\n      <th>address</th>\n      <th>pos1</th>\n      <th>pos2</th>\n      <th>user_rating</th>\n      <th>visited</th>\n      <th>viewed_detail</th>\n    </tr>\n  </thead>\n  <tbody>\n    <tr>\n      <th>94</th>\n      <td>16</td>\n      <td>19</td>\n      <td>Мужской</td>\n      <td>Нах</td>\n      <td>Тверская улица, 9, Москва</td>\n      <td>37.611009</td>\n      <td>55.759413</td>\n      <td>5</td>\n      <td>0</td>\n      <td>1</td>\n    </tr>\n    <tr>\n      <th>95</th>\n      <td>16</td>\n      <td>19</td>\n      <td>Мужской</td>\n      <td>Петрович</td>\n      <td>Улица Мясницкая, 24 ст3, Москва</td>\n      <td>37.635206</td>\n      <td>55.762667</td>\n      <td>5</td>\n      <td>0</td>\n      <td>0</td>\n    </tr>\n    <tr>\n      <th>96</th>\n      <td>16</td>\n      <td>19</td>\n      <td>Мужской</td>\n      <td>Весна</td>\n      <td>ТЦ Московский, Московский бульвар, 1а, Балаших...</td>\n      <td>37.960486</td>\n      <td>55.825886</td>\n      <td>5</td>\n      <td>0</td>\n      <td>0</td>\n    </tr>\n    <tr>\n      <th>97</th>\n      <td>16</td>\n      <td>19</td>\n      <td>Мужской</td>\n      <td>Танzпол</td>\n      <td>Шараповская улица, 7, Мытищи, Московская область</td>\n      <td>37.751242</td>\n      <td>55.915195</td>\n      <td>4</td>\n      <td>0</td>\n      <td>0</td>\n    </tr>\n    <tr>\n      <th>98</th>\n      <td>16</td>\n      <td>19</td>\n      <td>Мужской</td>\n      <td>Geisha Superman</td>\n      <td>Улица Малая Бронная, 2 ст1, Москва</td>\n      <td>37.598300</td>\n      <td>55.759026</td>\n      <td>3</td>\n      <td>0</td>\n      <td>1</td>\n    </tr>\n    <tr>\n      <th>99</th>\n      <td>16</td>\n      <td>19</td>\n      <td>Мужской</td>\n      <td>Happy</td>\n      <td>Ансамбль Миусского трамвайного депо, улица Лес...</td>\n      <td>37.593084</td>\n      <td>55.780218</td>\n      <td>5</td>\n      <td>0</td>\n      <td>0</td>\n    </tr>\n    <tr>\n      <th>100</th>\n      <td>16</td>\n      <td>19</td>\n      <td>Мужской</td>\n      <td>The Бык</td>\n      <td>ТДЦ ВЭБ.РФ, Новинский бульвар, 31, Москва</td>\n      <td>37.582520</td>\n      <td>55.757830</td>\n      <td>4</td>\n      <td>0</td>\n      <td>0</td>\n    </tr>\n    <tr>\n      <th>101</th>\n      <td>16</td>\n      <td>19</td>\n      <td>Мужской</td>\n      <td>Twenty One Club</td>\n      <td>БЦ Обновление Арбата, улица Новый Арбат, 21, М...</td>\n      <td>37.586733</td>\n      <td>55.751924</td>\n      <td>5</td>\n      <td>0</td>\n      <td>0</td>\n    </tr>\n  </tbody>\n</table>\n</div>"
     },
     "execution_count": 18,
     "metadata": {},
     "output_type": "execute_result"
    }
   ],
   "source": [
    "visit_data[visit_data['user_id']==16]"
   ],
   "metadata": {
    "collapsed": false,
    "ExecuteTime": {
     "end_time": "2024-03-17T12:22:08.529248Z",
     "start_time": "2024-03-17T12:22:08.508479Z"
    }
   },
   "id": "675efa77f90a6655"
  },
  {
   "cell_type": "code",
   "execution_count": 19,
   "outputs": [
    {
     "data": {
      "text/plain": "       user_id  age   gender   name  \\\n99          16   19  Мужской  Happy   \n898        137   24  Мужской  Happy   \n1332       203   23  Мужской  Happy   \n1471       221   20  Мужской  Happy   \n2164       329   18  Мужской  Happy   \n...        ...  ...      ...    ...   \n78816    12107   21  Мужской  Happy   \n79825    12255   19  Мужской  Happy   \n80199    12309   18  Мужской  Happy   \n80246    12316   21  Мужской  Happy   \n80293    12323   21  Мужской  Happy   \n\n                                                 address       pos1  \\\n99     Ансамбль Миусского трамвайного депо, улица Лес...  37.593084   \n898    Ансамбль Миусского трамвайного депо, улица Лес...  37.593084   \n1332   Ансамбль Миусского трамвайного депо, улица Лес...  37.593084   \n1471   Ансамбль Миусского трамвайного депо, улица Лес...  37.593084   \n2164   Ансамбль Миусского трамвайного депо, улица Лес...  37.593084   \n...                                                  ...        ...   \n78816  Ансамбль Миусского трамвайного депо, улица Лес...  37.593084   \n79825  Ансамбль Миусского трамвайного депо, улица Лес...  37.593084   \n80199  Ансамбль Миусского трамвайного депо, улица Лес...  37.593084   \n80246  Ансамбль Миусского трамвайного депо, улица Лес...  37.593084   \n80293  Ансамбль Миусского трамвайного депо, улица Лес...  37.593084   \n\n            pos2  user_rating  visited  viewed_detail  \n99     55.780218            5        0              0  \n898    55.780218            2        0              0  \n1332   55.780218            1        0              0  \n1471   55.780218            5        0              1  \n2164   55.780218            5        0              0  \n...          ...          ...      ...            ...  \n78816  55.780218            5        0              0  \n79825  55.780218            4        0              0  \n80199  55.780218            4        0              0  \n80246  55.780218            1        0              1  \n80293  55.780218            4        0              1  \n\n[122 rows x 10 columns]",
      "text/html": "<div>\n<style scoped>\n    .dataframe tbody tr th:only-of-type {\n        vertical-align: middle;\n    }\n\n    .dataframe tbody tr th {\n        vertical-align: top;\n    }\n\n    .dataframe thead th {\n        text-align: right;\n    }\n</style>\n<table border=\"1\" class=\"dataframe\">\n  <thead>\n    <tr style=\"text-align: right;\">\n      <th></th>\n      <th>user_id</th>\n      <th>age</th>\n      <th>gender</th>\n      <th>name</th>\n      <th>address</th>\n      <th>pos1</th>\n      <th>pos2</th>\n      <th>user_rating</th>\n      <th>visited</th>\n      <th>viewed_detail</th>\n    </tr>\n  </thead>\n  <tbody>\n    <tr>\n      <th>99</th>\n      <td>16</td>\n      <td>19</td>\n      <td>Мужской</td>\n      <td>Happy</td>\n      <td>Ансамбль Миусского трамвайного депо, улица Лес...</td>\n      <td>37.593084</td>\n      <td>55.780218</td>\n      <td>5</td>\n      <td>0</td>\n      <td>0</td>\n    </tr>\n    <tr>\n      <th>898</th>\n      <td>137</td>\n      <td>24</td>\n      <td>Мужской</td>\n      <td>Happy</td>\n      <td>Ансамбль Миусского трамвайного депо, улица Лес...</td>\n      <td>37.593084</td>\n      <td>55.780218</td>\n      <td>2</td>\n      <td>0</td>\n      <td>0</td>\n    </tr>\n    <tr>\n      <th>1332</th>\n      <td>203</td>\n      <td>23</td>\n      <td>Мужской</td>\n      <td>Happy</td>\n      <td>Ансамбль Миусского трамвайного депо, улица Лес...</td>\n      <td>37.593084</td>\n      <td>55.780218</td>\n      <td>1</td>\n      <td>0</td>\n      <td>0</td>\n    </tr>\n    <tr>\n      <th>1471</th>\n      <td>221</td>\n      <td>20</td>\n      <td>Мужской</td>\n      <td>Happy</td>\n      <td>Ансамбль Миусского трамвайного депо, улица Лес...</td>\n      <td>37.593084</td>\n      <td>55.780218</td>\n      <td>5</td>\n      <td>0</td>\n      <td>1</td>\n    </tr>\n    <tr>\n      <th>2164</th>\n      <td>329</td>\n      <td>18</td>\n      <td>Мужской</td>\n      <td>Happy</td>\n      <td>Ансамбль Миусского трамвайного депо, улица Лес...</td>\n      <td>37.593084</td>\n      <td>55.780218</td>\n      <td>5</td>\n      <td>0</td>\n      <td>0</td>\n    </tr>\n    <tr>\n      <th>...</th>\n      <td>...</td>\n      <td>...</td>\n      <td>...</td>\n      <td>...</td>\n      <td>...</td>\n      <td>...</td>\n      <td>...</td>\n      <td>...</td>\n      <td>...</td>\n      <td>...</td>\n    </tr>\n    <tr>\n      <th>78816</th>\n      <td>12107</td>\n      <td>21</td>\n      <td>Мужской</td>\n      <td>Happy</td>\n      <td>Ансамбль Миусского трамвайного депо, улица Лес...</td>\n      <td>37.593084</td>\n      <td>55.780218</td>\n      <td>5</td>\n      <td>0</td>\n      <td>0</td>\n    </tr>\n    <tr>\n      <th>79825</th>\n      <td>12255</td>\n      <td>19</td>\n      <td>Мужской</td>\n      <td>Happy</td>\n      <td>Ансамбль Миусского трамвайного депо, улица Лес...</td>\n      <td>37.593084</td>\n      <td>55.780218</td>\n      <td>4</td>\n      <td>0</td>\n      <td>0</td>\n    </tr>\n    <tr>\n      <th>80199</th>\n      <td>12309</td>\n      <td>18</td>\n      <td>Мужской</td>\n      <td>Happy</td>\n      <td>Ансамбль Миусского трамвайного депо, улица Лес...</td>\n      <td>37.593084</td>\n      <td>55.780218</td>\n      <td>4</td>\n      <td>0</td>\n      <td>0</td>\n    </tr>\n    <tr>\n      <th>80246</th>\n      <td>12316</td>\n      <td>21</td>\n      <td>Мужской</td>\n      <td>Happy</td>\n      <td>Ансамбль Миусского трамвайного депо, улица Лес...</td>\n      <td>37.593084</td>\n      <td>55.780218</td>\n      <td>1</td>\n      <td>0</td>\n      <td>1</td>\n    </tr>\n    <tr>\n      <th>80293</th>\n      <td>12323</td>\n      <td>21</td>\n      <td>Мужской</td>\n      <td>Happy</td>\n      <td>Ансамбль Миусского трамвайного депо, улица Лес...</td>\n      <td>37.593084</td>\n      <td>55.780218</td>\n      <td>4</td>\n      <td>0</td>\n      <td>1</td>\n    </tr>\n  </tbody>\n</table>\n<p>122 rows × 10 columns</p>\n</div>"
     },
     "execution_count": 19,
     "metadata": {},
     "output_type": "execute_result"
    }
   ],
   "source": [
    "visit_data[visit_data['name']=='Happy']"
   ],
   "metadata": {
    "collapsed": false,
    "ExecuteTime": {
     "end_time": "2024-03-17T12:22:46.301255Z",
     "start_time": "2024-03-17T12:22:46.292812Z"
    }
   },
   "id": "1d958d68db2c6e05"
  },
  {
   "cell_type": "code",
   "execution_count": null,
   "outputs": [],
   "source": [
    "predictions"
   ],
   "metadata": {
    "collapsed": false
   },
   "id": "57f09da984175ee1"
  },
  {
   "cell_type": "markdown",
   "source": [
    "### Модель SVD"
   ],
   "metadata": {
    "collapsed": false
   },
   "id": "7433853535bdd0e1"
  },
  {
   "cell_type": "code",
   "execution_count": null,
   "outputs": [],
   "source": [
    "from surprise import SVD, Dataset, Reader\n",
    "from surprise.model_selection import cross_validate\n",
    "data = visit_data.copy()\n",
    "# Подготовка данных для surprise\n",
    "reader = Reader(rating_scale=(1, 5))  # Рейтинги в вашем датасете от 1 до 5\n",
    "data = Dataset.load_from_df(data[['user_id', 'name', 'user_rating']], reader)\n",
    "\n",
    "# Разделение на обучающую и тестовую выборки\n",
    "trainset, testset = train_test_split(data, test_size=0.25)\n",
    "\n",
    "# Использование SVD\n",
    "algo = SVD()\n",
    "\n",
    "# Проведение кросс-валидации для оценки модели\n",
    "cross_validate(algo, trainset, measures=['RMSE', 'MAE'], cv=5, verbose=True)"
   ],
   "metadata": {
    "collapsed": false
   },
   "id": "66df480d803a8a93"
  },
  {
   "cell_type": "code",
   "execution_count": 21,
   "outputs": [
    {
     "name": "stdout",
     "output_type": "stream",
     "text": [
      "1.3463557852571846\n",
      "{'n_epochs': 5, 'lr_all': 0.002, 'reg_all': 0.6}\n"
     ]
    }
   ],
   "source": [
    "from surprise.model_selection import GridSearchCV\n",
    "\n",
    "param_grid = {\n",
    "    'n_epochs': [5, 10, 20],  # Количество эпох обучения\n",
    "    'lr_all': [0.002, 0.005],  # Скорость обучения\n",
    "    'reg_all': [0.4, 0.6]  # Коэффициент регуляризации\n",
    "}\n",
    "\n",
    "gs = GridSearchCV(SVD, param_grid, measures=['rmse', 'mae'], cv=3)\n",
    "gs.fit(data)\n",
    "\n",
    "# Лучшие результаты RMSE\n",
    "print(gs.best_score['rmse'])\n",
    "\n",
    "# Параметры для лучшего RMSE\n",
    "print(gs.best_params['rmse'])"
   ],
   "metadata": {
    "collapsed": false,
    "ExecuteTime": {
     "end_time": "2024-03-16T21:55:18.157353Z",
     "start_time": "2024-03-16T21:53:46.439048Z"
    }
   },
   "id": "a88f92ec0fa54fd4"
  },
  {
   "cell_type": "code",
   "execution_count": 22,
   "outputs": [
    {
     "data": {
      "text/plain": "<surprise.prediction_algorithms.matrix_factorization.SVD at 0x2a2987f50>"
     },
     "execution_count": 22,
     "metadata": {},
     "output_type": "execute_result"
    }
   ],
   "source": [
    "# Обучение модели с лучшими параметрами\n",
    "algo = SVD(n_epochs=gs.best_params['rmse']['n_epochs'],\n",
    "           lr_all=gs.best_params['rmse']['lr_all'],\n",
    "           reg_all=gs.best_params['rmse']['reg_all'])\n",
    "algo.fit(trainset)"
   ],
   "metadata": {
    "collapsed": false,
    "ExecuteTime": {
     "end_time": "2024-03-16T21:56:00.833358Z",
     "start_time": "2024-03-16T21:55:59.893687Z"
    }
   },
   "id": "f4196576c4f01019"
  },
  {
   "cell_type": "code",
   "execution_count": 24,
   "outputs": [
    {
     "name": "stdout",
     "output_type": "stream",
     "text": [
      "Top-100 Recommendations for User 16:\n",
      "Item ID: Eno bistro, Predicted Rating: 3.6990914390874354\n",
      "Item ID: Up Sushi, Predicted Rating: 3.6990914390874354\n",
      "Item ID: Библиотека №170 им. К.Г. Паустовского, Predicted Rating: 3.6990914390874354\n",
      "Item ID: Savva, Predicted Rating: 3.6990914390874354\n",
      "Item ID: Библиотека №51, Predicted Rating: 3.6990914390874354\n",
      "Item ID: Шоколадница, Predicted Rating: 3.6990914390874354\n",
      "Item ID: Sartoria Lamberti, Predicted Rating: 3.6990914390874354\n",
      "Item ID: Osteria Gini, Predicted Rating: 3.6990914390874354\n",
      "Item ID: The Abbey Players Pub, Predicted Rating: 3.6990914390874354\n",
      "Item ID: Mission, Predicted Rating: 3.6990914390874354\n",
      "Item ID: Московский открытый студенческий театр, Predicted Rating: 3.6990914390874354\n",
      "Item ID: Московский Государственный Академический театр оперетты, Predicted Rating: 3.6990914390874354\n",
      "Item ID: Бочка, Predicted Rating: 3.6990914390874354\n",
      "Item ID: Московский Драматический театр им. М.Н. Ермоловой, Predicted Rating: 3.6990914390874354\n",
      "Item ID: Библиотека №30, Predicted Rating: 3.6990914390874354\n",
      "Item ID: Osteria Unica, Predicted Rating: 3.6990914390874354\n",
      "Item ID: Атмосфера, Predicted Rating: 3.6990914390874354\n",
      "Item ID: from Berlin, Predicted Rating: 3.6990914390874354\n",
      "Item ID: На Пироговке, Predicted Rating: 3.6990914390874354\n",
      "Item ID: Кочевники, Predicted Rating: 3.6990914390874354\n",
      "Item ID: Мечта, Predicted Rating: 3.6990914390874354\n",
      "Item ID: Pino restaurant bar, Predicted Rating: 3.6990914390874354\n",
      "Item ID: Библиотека №146, Predicted Rating: 3.6990914390874354\n",
      "Item ID: Mary Wong, Predicted Rating: 3.6990914390874354\n",
      "Item ID: Рыжий театр, Predicted Rating: 3.6990914390874354\n",
      "Item ID: Гуси-Лебеди, Predicted Rating: 3.6990914390874354\n",
      "Item ID: Детская библиотека №126, Predicted Rating: 3.6990914390874354\n",
      "Item ID: Amico Bistro, Predicted Rating: 3.6990914390874354\n",
      "Item ID: Ленком Марка Захарова, Predicted Rating: 3.6990914390874354\n",
      "Item ID: Библиотека №213 им. Леси Украинки, Predicted Rating: 3.6990914390874354\n",
      "Item ID: Гитис, Predicted Rating: 3.6990914390874354\n",
      "Item ID: Share, Predicted Rating: 3.6990914390874354\n",
      "Item ID: Ли, Predicted Rating: 3.6990914390874354\n",
      "Item ID: IL Патио, Predicted Rating: 3.6990914390874354\n",
      "Item ID: Центральная городская детская библиотека им. А.П. Гайдара, Predicted Rating: 3.6990914390874354\n",
      "Item ID: Библиотека №72, Predicted Rating: 3.6990914390874354\n",
      "Item ID: Ладо, Predicted Rating: 3.6990914390874354\n",
      "Item ID: Bon app cafe, Predicted Rating: 3.6990914390874354\n",
      "Item ID: Моремания, Predicted Rating: 3.6990914390874354\n",
      "Item ID: She, Predicted Rating: 3.6990914390874354\n",
      "Item ID: Индийские Карри Indian Curry, Predicted Rating: 3.6990914390874354\n",
      "Item ID: Библиотека, Predicted Rating: 3.6990914390874354\n",
      "Item ID: Peshi, Predicted Rating: 3.6990914390874354\n",
      "Item ID: RedBox, Predicted Rating: 3.6990914390874354\n",
      "Item ID: Библиотека №7 им. А. де Сент-Экзюпери, Predicted Rating: 3.6990914390874354\n",
      "Item ID: Московский Художественный театр им. А.П. Чехова, Predicted Rating: 3.6990914390874354\n",
      "Item ID: Домик в саду, Predicted Rating: 3.6990914390874354\n",
      "Item ID: Карлсон, Predicted Rating: 3.6990914390874354\n",
      "Item ID: Пафос, Predicted Rating: 3.6990914390874354\n",
      "Item ID: Truba, Predicted Rating: 3.6990914390874354\n",
      "Item ID: Legacy lounge & bar, Predicted Rating: 3.6990914390874354\n",
      "Item ID: Натахтари, Predicted Rating: 3.6990914390874354\n",
      "Item ID: La Virgen, Predicted Rating: 3.6990914390874354\n",
      "Item ID: Дом кино, Predicted Rating: 3.6990914390874354\n",
      "Item ID: Театр комедии, Predicted Rating: 3.6990914390874354\n",
      "Item ID: Галакс, Predicted Rating: 3.6990914390874354\n",
      "Item ID: Айдабаран, Predicted Rating: 3.6990914390874354\n",
      "Item ID: Библиотека №98, Predicted Rating: 3.6990914390874354\n",
      "Item ID: PARKHOUSE, Predicted Rating: 3.6990914390874354\n",
      "Item ID: Аполлинария, Predicted Rating: 3.6990914390874354\n",
      "Item ID: Pasta Queen, Predicted Rating: 3.6990914390874354\n",
      "Item ID: Ugolёk, Predicted Rating: 3.6990914390874354\n",
      "Item ID: Библиотека №179, Predicted Rating: 3.6990914390874354\n",
      "Item ID: Чайка, Predicted Rating: 3.6990914390874354\n",
      "Item ID: Сунели, Predicted Rating: 3.6990914390874354\n",
      "Item ID: Би Ба Бо, Predicted Rating: 3.6990914390874354\n",
      "Item ID: Модерн, Predicted Rating: 3.6990914390874354\n",
      "Item ID: Морфеус, Predicted Rating: 3.6990914390874354\n",
      "Item ID: Ботаника, Predicted Rating: 3.6990914390874354\n",
      "Item ID: Поклонка, Predicted Rating: 3.6990914390874354\n",
      "Item ID: Pizzamento, Predicted Rating: 3.6990914390874354\n",
      "Item ID: Mushrooms, Predicted Rating: 3.6990914390874354\n",
      "Item ID: Хитрые люди, Predicted Rating: 3.6990914390874354\n",
      "Item ID: Церковная библиотека, Predicted Rating: 3.6990914390874354\n",
      "Item ID: Officina, Predicted Rating: 3.6990914390874354\n",
      "Item ID: Уе!, Predicted Rating: 3.6990914390874354\n",
      "Item ID: Stand Up Cafe, Predicted Rating: 3.6990914390874354\n",
      "Item ID: Neon monkey, Predicted Rating: 3.6990914390874354\n",
      "Item ID: 345, Predicted Rating: 3.6990914390874354\n",
      "Item ID: 77 на Ленинском, Predicted Rating: 3.6990914390874354\n",
      "Item ID: Мир, Predicted Rating: 3.6990914390874354\n",
      "Item ID: Гранд кофемания, Predicted Rating: 3.6990914390874354\n",
      "Item ID: Суп, Predicted Rating: 3.6990914390874354\n",
      "Item ID: Старик Хинкалыч, Predicted Rating: 3.6990914390874354\n",
      "Item ID: Ma Mi, Predicted Rating: 3.6990914390874354\n",
      "Item ID: Московский драматический​ открытый театр, Predicted Rating: 3.6990914390874354\n",
      "Item ID: RAZGAR, Predicted Rating: 3.6990914390874354\n",
      "Item ID: Ты gde?, Predicted Rating: 3.6990914390874354\n",
      "Item ID: Театр им. М.А. Булгакова, Predicted Rating: 3.6990914390874354\n",
      "Item ID: Сыто пьяно, Predicted Rating: 3.6990914390874354\n",
      "Item ID: Grand Урюк Berezka, Predicted Rating: 3.6990914390874354\n",
      "Item ID: Реберная №1, Predicted Rating: 3.6990914390874354\n",
      "Item ID: Краснодарский Парень, Predicted Rating: 3.6990914390874354\n",
      "Item ID: Londri, Predicted Rating: 3.6990914390874354\n",
      "Item ID: Детская библиотека №40, Predicted Rating: 3.6990914390874354\n",
      "Item ID: Nicepricecafe, Predicted Rating: 3.6990914390874354\n",
      "Item ID: Friends Forever Botanica, Predicted Rating: 3.6990914390874354\n",
      "Item ID: Зарядье, Predicted Rating: 3.6990914390874354\n",
      "Item ID: Жасмин, Predicted Rating: 3.6990914390874354\n",
      "Item ID: Московский Театр Иллюзии, Predicted Rating: 3.6990914390874354\n"
     ]
    }
   ],
   "source": [
    "from surprise import Dataset, Reader, KNNBasic\n",
    "from surprise.model_selection import train_test_split\n",
    "from surprise import accuracy\n",
    "# Допустим, мы хотим сгенерировать рекомендации для пользователя с user_id = 1\n",
    "# Обучение модели\n",
    "users = trainset.all_users()\n",
    "items = trainset.all_items()\n",
    "item_names = trainset.to_raw_iid  # Получаем исходные идентификаторы объектов\n",
    "\n",
    "# Предположим, мы хотим сгенерировать рекомендации для пользователя с исходным user_id\n",
    "user_id = 16  # Пример исходного ID пользователя\n",
    "inner_user_id = trainset.to_inner_uid(user_id)  # Преобразуем во внутренний ID\n",
    "\n",
    "# Получаем список объектов, которые пользователь уже оценил\n",
    "user_rated_items = [item for (item, _) in trainset.ur[inner_user_id]]\n",
    "\n",
    "# Генерация предсказаний для объектов, которые пользователь не оценил\n",
    "unrated_items = [item for item in items if item not in user_rated_items]\n",
    "predictions = [inference_model.predict(inner_user_id, item) for item in unrated_items]\n",
    "\n",
    "# Сортировка предсказаний по убыванию предсказанного рейтинга\n",
    "predictions.sort(key=lambda x: x.est, reverse=True)\n",
    "\n",
    "# Выбор top-N рекомендаций\n",
    "N = 100\n",
    "top_n_recommendations = predictions[:N]\n",
    "\n",
    "# Вывод рекомендаций\n",
    "print(f\"Top-{N} Recommendations for User {user_id}:\")\n",
    "for pred in top_n_recommendations:\n",
    "    print(f\"Item ID: {item_names(pred.iid)}, Predicted Rating: {pred.est}\")"
   ],
   "metadata": {
    "collapsed": false,
    "ExecuteTime": {
     "end_time": "2024-03-16T21:56:43.848824Z",
     "start_time": "2024-03-16T21:56:43.827034Z"
    }
   },
   "id": "cfabef21c914fe4f"
  },
  {
   "cell_type": "code",
   "execution_count": 29,
   "outputs": [],
   "source": [
    "# Предсказания на тестовом наборе\n",
    "predictions = algo.test(testset)"
   ],
   "metadata": {
    "collapsed": false,
    "ExecuteTime": {
     "end_time": "2024-03-16T21:59:55.098840Z",
     "start_time": "2024-03-16T21:59:54.384978Z"
    }
   },
   "id": "414ea33fa59c86f9"
  },
  {
   "cell_type": "code",
   "execution_count": 30,
   "outputs": [
    {
     "name": "stdout",
     "output_type": "stream",
     "text": [
      "Precision@5: 0.9999\n",
      "Recall@5: 0.4023\n"
     ]
    }
   ],
   "source": [
    "# Расчет метрик\n",
    "precisions, recalls = precision_recall_at_k(predictions, k=1, threshold=4)\n",
    "\n",
    "# Средний precision и recall по всем пользователям\n",
    "print(f\"Precision@5: {sum(prec for prec in precisions.values()) / len(precisions):.4f}\")\n",
    "print(f\"Recall@5: {sum(rec for rec in recalls.values()) / len(recalls):.4f}\")"
   ],
   "metadata": {
    "collapsed": false,
    "ExecuteTime": {
     "end_time": "2024-03-16T21:59:56.037113Z",
     "start_time": "2024-03-16T21:59:55.836970Z"
    }
   },
   "id": "da05563b2a564a61"
  },
  {
   "cell_type": "markdown",
   "source": [
    "### Гибридная рекомендательная система"
   ],
   "metadata": {
    "collapsed": false
   },
   "id": "3a351f384125d0b0"
  },
  {
   "cell_type": "code",
   "execution_count": 16,
   "outputs": [
    {
     "name": "stdout",
     "output_type": "stream",
     "text": [
      "0:\tlearn: 0.6912048\ttotal: 203ms\tremaining: 1m 41s\n",
      "50:\tlearn: 0.6731845\ttotal: 3.43s\tremaining: 30.2s\n",
      "100:\tlearn: 0.6730446\ttotal: 7s\tremaining: 27.7s\n",
      "150:\tlearn: 0.6730070\ttotal: 9.64s\tremaining: 22.3s\n",
      "200:\tlearn: 0.6729733\ttotal: 11.6s\tremaining: 17.3s\n",
      "250:\tlearn: 0.6729341\ttotal: 13.5s\tremaining: 13.4s\n",
      "300:\tlearn: 0.6728915\ttotal: 15.5s\tremaining: 10.2s\n",
      "350:\tlearn: 0.6728334\ttotal: 17.5s\tremaining: 7.44s\n",
      "400:\tlearn: 0.6727871\ttotal: 19.6s\tremaining: 4.83s\n",
      "450:\tlearn: 0.6727398\ttotal: 21.6s\tremaining: 2.35s\n",
      "499:\tlearn: 0.6726952\ttotal: 23.6s\tremaining: 0us\n"
     ]
    },
    {
     "data": {
      "text/plain": "<catboost.core.CatBoostClassifier at 0x16c958750>"
     },
     "execution_count": 16,
     "metadata": {},
     "output_type": "execute_result"
    }
   ],
   "source": [
    "from sklearn.model_selection import train_test_split\n",
    "df = visit_data.copy()\n",
    "df['name'] = df['name'].astype('category')\n",
    "df['address'] = df['address'].astype('category')\n",
    "\n",
    "# Создаем новую колонку 'place_id'\n",
    "df['place_id'] = df['name'].astype(str) + ' - ' + df['address'].astype(str)\n",
    "df['place_id'] = df['place_id'].astype('category')\n",
    "\n",
    "# Преобразование рейтингов и пола пользователя\n",
    "df['rating_class'] = (df['user_rating'] >= 4).astype(int)\n",
    "df['gender'] = df['gender'].astype('category')\n",
    "\n",
    "# Подготовка признаков и целевой переменной\n",
    "X = df[['user_id', 'age', 'gender', 'place_id']]  # Исключаем ненужные колонки\n",
    "y = df['rating_class']\n",
    "\n",
    "# CatBoost умеет работать с категориальными переменными напрямую\n",
    "cat_features = ['gender', 'place_id']\n",
    "\n",
    "# Разделение на обучающую и тестовую выборки\n",
    "X_train, X_test, y_train, y_test = train_test_split(X, y, test_size=0.2, random_state=42, shuffle=False)\n",
    "\n",
    "# Инициализация и обучение модели CatBoostClassifier\n",
    "classifier = CatBoostClassifier(iterations=500,\n",
    "                                learning_rate=0.05,\n",
    "                                depth=4,\n",
    "                                verbose=50,\n",
    "                                thread_count=-1)\n",
    "classifier.fit(X_train, y_train, cat_features=cat_features)"
   ],
   "metadata": {
    "collapsed": false,
    "ExecuteTime": {
     "end_time": "2024-03-19T15:57:18.289932Z",
     "start_time": "2024-03-19T15:56:53.375251Z"
    }
   },
   "id": "e1c62ec49fa91de0"
  },
  {
   "cell_type": "code",
   "execution_count": 17,
   "outputs": [
    {
     "data": {
      "text/plain": "455577    0\n455578    1\n455579    0\n455580    1\n455581    0\n         ..\n569467    1\n569468    1\n569469    1\n569470    1\n569471    1\nName: rating_class, Length: 113895, dtype: int64"
     },
     "execution_count": 17,
     "metadata": {},
     "output_type": "execute_result"
    }
   ],
   "source": [
    "y_test"
   ],
   "metadata": {
    "collapsed": false,
    "ExecuteTime": {
     "end_time": "2024-03-19T16:02:10.766871Z",
     "start_time": "2024-03-19T16:02:10.750743Z"
    }
   },
   "id": "7c07aede0cb0d1b6"
  },
  {
   "cell_type": "code",
   "execution_count": 18,
   "outputs": [
    {
     "name": "stdout",
     "output_type": "stream",
     "text": [
      "Average Precision (AP): 0.6007\n",
      "Precision@15: 0.6000, Recall@15: 0.9333\n"
     ]
    }
   ],
   "source": [
    "from sklearn.metrics import precision_recall_curve, average_precision_score\n",
    "import numpy as np\n",
    "\n",
    "# Предсказание вероятностей для тестовой выборки\n",
    "y_scores = classifier.predict_proba(X_test)[:, 1]\n",
    "\n",
    "# Расчет precision и recall для всех возможных порогов\n",
    "precision, recall, thresholds = precision_recall_curve(y_test, y_scores)\n",
    "\n",
    "# Расчет Average Precision (AP)\n",
    "ap_score = average_precision_score(y_test, y_scores)\n",
    "\n",
    "\n",
    "print(f'Average Precision (AP): {ap_score:.4f}')\n",
    "k = 15\n",
    "# Опционально: Найти precision и recall при конкретном k, используя пороги\n",
    "# Например, для порога, соответствующего top-k предсказаний\n",
    "threshold_k = 0.55\n",
    "precision_at_k = precision[np.searchsorted(thresholds, threshold_k)]\n",
    "recall_at_k = recall[np.searchsorted(thresholds, threshold_k)]\n",
    "\n",
    "print(f'Precision@{k}: {precision_at_k:.4f}, Recall@{k}: {recall_at_k:.4f}')"
   ],
   "metadata": {
    "collapsed": false,
    "ExecuteTime": {
     "end_time": "2024-03-19T16:02:12.045666Z",
     "start_time": "2024-03-19T16:02:11.990915Z"
    }
   },
   "id": "db389a64afbc457e"
  },
  {
   "cell_type": "code",
   "execution_count": 19,
   "outputs": [],
   "source": [
    "def prepare_inference_data(user_id, user_features, all_places):\n",
    "    \"\"\"\n",
    "    Создает DataFrame для инференса для одного пользователя с учетом всех неоцененных мест.\n",
    "    user_id: ID пользователя, для которого генерируются рекомендации\n",
    "    user_features: Демографические данные пользователя (например, возраст и пол)\n",
    "    all_places: DataFrame всех возможных мест с их информацией (включая названия и адреса)\n",
    "    Возвращает DataFrame, подходящий для модели предсказания.\n",
    "    \"\"\"\n",
    "    # Создаем список словарей, где каждый словарь соответствует одной строке в будущем DataFrame\n",
    "    data_rows = [{\n",
    "        'user_id': user_id,\n",
    "        'age': user_features['age'],\n",
    "        'gender': user_features['gender'],\n",
    "        'place_id': row['place_id']  # Используем place_id напрямую из all_places\n",
    "    } for index, row in all_places.iterrows()]\n",
    "\n",
    "    # Преобразуем список словарей в DataFrame\n",
    "    data = pd.DataFrame(data_rows)\n",
    "\n",
    "    return data\n",
    "\n",
    "# Убедитесь, что all_places содержит уникальные идентификаторы мест (place_id), включая название и адрес\n",
    "all_places = df[['place_id']].drop_duplicates()\n",
    "\n",
    "# Подготовка данных для инференса\n",
    "user_id = 16\n",
    "user_features = {'age': 25, 'gender': 'M'}\n",
    "X_infer = prepare_inference_data(user_id, user_features, all_places)\n",
    "\n",
    "# Теперь X_infer должен содержать корректную структуру для инференса: \n",
    "# одна строка для каждой пары \"пользователь-место\", где место еще не оценено данным пользователем."
   ],
   "metadata": {
    "collapsed": false,
    "ExecuteTime": {
     "end_time": "2024-03-19T16:02:15.019668Z",
     "start_time": "2024-03-19T16:02:14.990046Z"
    }
   },
   "id": "1581d4b01db2787e"
  },
  {
   "cell_type": "code",
   "execution_count": 20,
   "outputs": [
    {
     "name": "stdout",
     "output_type": "stream",
     "text": [
      "Топ-100 рекомендаций для пользователя с ID 16:\n",
      "                                               place_id  probability\n",
      "304                Ra`men - Пятницкая улица, 45, Москва     0.633103\n",
      "17      Beverly hills diner - Улица Сретенка, 1, Москва     0.632579\n",
      "281   Petruccio. Pizza&pasta - РЦ Высота, улица Юных...     0.629992\n",
      "477          Молодежь - Сущёвская улица, 21 ст8, Москва     0.629195\n",
      "231   Live stars - Красный Октябрь, Берсеневский пер...     0.629062\n",
      "...                                                 ...          ...\n",
      "1222  Орфей - ДК Балашиха, Московский проезд, 9, Бал...     0.613100\n",
      "277          Semenov - Китайгородский проезд, 5, Москва     0.612966\n",
      "276   Руки Вверх! - Московский проспект, 56, Пушкино...     0.612962\n",
      "148   Atlas Club - ДЛ Рассвет, Столярный переулок, 3...     0.612962\n",
      "185   Вираж - Центральная улица, 98, д. Осеево, Лоси...     0.612930\n",
      "\n",
      "[100 rows x 2 columns]\n"
     ]
    }
   ],
   "source": [
    "# Предполагается, что X_infer - это DataFrame, подготовленный для инференса,\n",
    "# и predictions - массив вероятностей положительного класса для каждого места\n",
    "predictions = classifier.predict_proba(X_infer)[:, 1]\n",
    "# Добавляем вероятности как новый столбец в X_infer\n",
    "X_infer['probability'] = predictions\n",
    "\n",
    "# Сортируем места по убыванию вероятности\n",
    "X_infer_sorted = X_infer.sort_values(by='probability', ascending=False)\n",
    "\n",
    "# Выбираем топ-N мест\n",
    "N = 100\n",
    "top_n_recommendations = X_infer_sorted.head(N)\n",
    "\n",
    "# Выводим топ-N рекомендаций\n",
    "print(\"Топ-{} рекомендаций для пользователя с ID {}:\".format(N, user_id))\n",
    "print(top_n_recommendations[['place_id', 'probability']])"
   ],
   "metadata": {
    "collapsed": false,
    "ExecuteTime": {
     "end_time": "2024-03-19T16:02:16.315116Z",
     "start_time": "2024-03-19T16:02:16.291313Z"
    }
   },
   "id": "471bfdc01178507c"
  },
  {
   "cell_type": "code",
   "execution_count": 76,
   "outputs": [
    {
     "data": {
      "text/plain": "     user_id  age   gender             name  \\\n94        16   19  Мужской              Нах   \n95        16   19  Мужской         Петрович   \n96        16   19  Мужской            Весна   \n97        16   19  Мужской          Танzпол   \n98        16   19  Мужской  Geisha Superman   \n99        16   19  Мужской            Happy   \n100       16   19  Мужской          The Бык   \n101       16   19  Мужской  Twenty One Club   \n\n                                               address       pos1       pos2  \\\n94                           Тверская улица, 9, Москва  37.611009  55.759413   \n95                     Улица Мясницкая, 24 ст3, Москва  37.635206  55.762667   \n96   ТЦ Московский, Московский бульвар, 1а, Балаших...  37.960486  55.825886   \n97    Шараповская улица, 7, Мытищи, Московская область  37.751242  55.915195   \n98                  Улица Малая Бронная, 2 ст1, Москва  37.598300  55.759026   \n99   Ансамбль Миусского трамвайного депо, улица Лес...  37.593084  55.780218   \n100          ТДЦ ВЭБ.РФ, Новинский бульвар, 31, Москва  37.582520  55.757830   \n101  БЦ Обновление Арбата, улица Новый Арбат, 21, М...  37.586733  55.751924   \n\n     user_rating  \n94             5  \n95             5  \n96             5  \n97             4  \n98             3  \n99             5  \n100            4  \n101            5  ",
      "text/html": "<div>\n<style scoped>\n    .dataframe tbody tr th:only-of-type {\n        vertical-align: middle;\n    }\n\n    .dataframe tbody tr th {\n        vertical-align: top;\n    }\n\n    .dataframe thead th {\n        text-align: right;\n    }\n</style>\n<table border=\"1\" class=\"dataframe\">\n  <thead>\n    <tr style=\"text-align: right;\">\n      <th></th>\n      <th>user_id</th>\n      <th>age</th>\n      <th>gender</th>\n      <th>name</th>\n      <th>address</th>\n      <th>pos1</th>\n      <th>pos2</th>\n      <th>user_rating</th>\n    </tr>\n  </thead>\n  <tbody>\n    <tr>\n      <th>94</th>\n      <td>16</td>\n      <td>19</td>\n      <td>Мужской</td>\n      <td>Нах</td>\n      <td>Тверская улица, 9, Москва</td>\n      <td>37.611009</td>\n      <td>55.759413</td>\n      <td>5</td>\n    </tr>\n    <tr>\n      <th>95</th>\n      <td>16</td>\n      <td>19</td>\n      <td>Мужской</td>\n      <td>Петрович</td>\n      <td>Улица Мясницкая, 24 ст3, Москва</td>\n      <td>37.635206</td>\n      <td>55.762667</td>\n      <td>5</td>\n    </tr>\n    <tr>\n      <th>96</th>\n      <td>16</td>\n      <td>19</td>\n      <td>Мужской</td>\n      <td>Весна</td>\n      <td>ТЦ Московский, Московский бульвар, 1а, Балаших...</td>\n      <td>37.960486</td>\n      <td>55.825886</td>\n      <td>5</td>\n    </tr>\n    <tr>\n      <th>97</th>\n      <td>16</td>\n      <td>19</td>\n      <td>Мужской</td>\n      <td>Танzпол</td>\n      <td>Шараповская улица, 7, Мытищи, Московская область</td>\n      <td>37.751242</td>\n      <td>55.915195</td>\n      <td>4</td>\n    </tr>\n    <tr>\n      <th>98</th>\n      <td>16</td>\n      <td>19</td>\n      <td>Мужской</td>\n      <td>Geisha Superman</td>\n      <td>Улица Малая Бронная, 2 ст1, Москва</td>\n      <td>37.598300</td>\n      <td>55.759026</td>\n      <td>3</td>\n    </tr>\n    <tr>\n      <th>99</th>\n      <td>16</td>\n      <td>19</td>\n      <td>Мужской</td>\n      <td>Happy</td>\n      <td>Ансамбль Миусского трамвайного депо, улица Лес...</td>\n      <td>37.593084</td>\n      <td>55.780218</td>\n      <td>5</td>\n    </tr>\n    <tr>\n      <th>100</th>\n      <td>16</td>\n      <td>19</td>\n      <td>Мужской</td>\n      <td>The Бык</td>\n      <td>ТДЦ ВЭБ.РФ, Новинский бульвар, 31, Москва</td>\n      <td>37.582520</td>\n      <td>55.757830</td>\n      <td>4</td>\n    </tr>\n    <tr>\n      <th>101</th>\n      <td>16</td>\n      <td>19</td>\n      <td>Мужской</td>\n      <td>Twenty One Club</td>\n      <td>БЦ Обновление Арбата, улица Новый Арбат, 21, М...</td>\n      <td>37.586733</td>\n      <td>55.751924</td>\n      <td>5</td>\n    </tr>\n  </tbody>\n</table>\n</div>"
     },
     "execution_count": 76,
     "metadata": {},
     "output_type": "execute_result"
    }
   ],
   "source": [
    "visit_data[visit_data['user_id']==16]"
   ],
   "metadata": {
    "collapsed": false,
    "ExecuteTime": {
     "end_time": "2024-03-17T14:13:12.702677Z",
     "start_time": "2024-03-17T14:13:12.681960Z"
    }
   },
   "id": "a813d067b11e77fb"
  },
  {
   "cell_type": "code",
   "execution_count": null,
   "outputs": [],
   "source": [
    "classifier"
   ],
   "metadata": {
    "collapsed": false
   },
   "id": "53d540e8f892d088"
  },
  {
   "cell_type": "code",
   "execution_count": 21,
   "outputs": [],
   "source": [
    "import pickle\n",
    "with open('model.pkl', 'wb') as f:\n",
    "    pickle.dump(classifier, f)"
   ],
   "metadata": {
    "collapsed": false,
    "ExecuteTime": {
     "end_time": "2024-03-19T16:08:33.593664Z",
     "start_time": "2024-03-19T16:08:33.557543Z"
    }
   },
   "id": "41932c50d5cd8c66"
  },
  {
   "cell_type": "code",
   "execution_count": 23,
   "outputs": [],
   "source": [
    "places_data = pd.read_parquet('places_data.parquet')"
   ],
   "metadata": {
    "collapsed": false,
    "ExecuteTime": {
     "end_time": "2024-03-19T16:53:15.128069Z",
     "start_time": "2024-03-19T16:53:15.084952Z"
    }
   },
   "id": "a302000f4d752f00"
  },
  {
   "cell_type": "code",
   "execution_count": 25,
   "outputs": [],
   "source": [
    "category_subcategory_data = places_data[['subcategory','category']].drop_duplicates()"
   ],
   "metadata": {
    "collapsed": false,
    "ExecuteTime": {
     "end_time": "2024-03-19T16:53:56.042769Z",
     "start_time": "2024-03-19T16:53:56.017163Z"
    }
   },
   "id": "a06504eb7fd3c59d"
  },
  {
   "cell_type": "code",
   "execution_count": 26,
   "outputs": [],
   "source": [
    "category_subcategory_data.to_csv('sub_cat_and_cat_data.csv')"
   ],
   "metadata": {
    "collapsed": false,
    "ExecuteTime": {
     "end_time": "2024-03-19T16:54:13.455604Z",
     "start_time": "2024-03-19T16:54:13.410858Z"
    }
   },
   "id": "df99b39f2114bf26"
  },
  {
   "cell_type": "code",
   "execution_count": 27,
   "outputs": [
    {
     "data": {
      "text/plain": "                 subcategory      category\n0                       Кафе        Поесть\n500                Рестораны        Поесть\n966                     Бары        Поесть\n1440               Суши-бары        Поесть\n1940         Быстрое питание        Поесть\n...                      ...           ...\n54592       Студии медитации         Спорт\n29071  Продажа живых бабочек  Спецмагазины\n669           Акватеррариумы   Развлечения\n7809      Букмекеры, лотереи   Развлечения\n29272               Мавзолей   Развлечения\n\n[242 rows x 2 columns]",
      "text/html": "<div>\n<style scoped>\n    .dataframe tbody tr th:only-of-type {\n        vertical-align: middle;\n    }\n\n    .dataframe tbody tr th {\n        vertical-align: top;\n    }\n\n    .dataframe thead th {\n        text-align: right;\n    }\n</style>\n<table border=\"1\" class=\"dataframe\">\n  <thead>\n    <tr style=\"text-align: right;\">\n      <th></th>\n      <th>subcategory</th>\n      <th>category</th>\n    </tr>\n  </thead>\n  <tbody>\n    <tr>\n      <th>0</th>\n      <td>Кафе</td>\n      <td>Поесть</td>\n    </tr>\n    <tr>\n      <th>500</th>\n      <td>Рестораны</td>\n      <td>Поесть</td>\n    </tr>\n    <tr>\n      <th>966</th>\n      <td>Бары</td>\n      <td>Поесть</td>\n    </tr>\n    <tr>\n      <th>1440</th>\n      <td>Суши-бары</td>\n      <td>Поесть</td>\n    </tr>\n    <tr>\n      <th>1940</th>\n      <td>Быстрое питание</td>\n      <td>Поесть</td>\n    </tr>\n    <tr>\n      <th>...</th>\n      <td>...</td>\n      <td>...</td>\n    </tr>\n    <tr>\n      <th>54592</th>\n      <td>Студии медитации</td>\n      <td>Спорт</td>\n    </tr>\n    <tr>\n      <th>29071</th>\n      <td>Продажа живых бабочек</td>\n      <td>Спецмагазины</td>\n    </tr>\n    <tr>\n      <th>669</th>\n      <td>Акватеррариумы</td>\n      <td>Развлечения</td>\n    </tr>\n    <tr>\n      <th>7809</th>\n      <td>Букмекеры, лотереи</td>\n      <td>Развлечения</td>\n    </tr>\n    <tr>\n      <th>29272</th>\n      <td>Мавзолей</td>\n      <td>Развлечения</td>\n    </tr>\n  </tbody>\n</table>\n<p>242 rows × 2 columns</p>\n</div>"
     },
     "execution_count": 27,
     "metadata": {},
     "output_type": "execute_result"
    }
   ],
   "source": [
    "category_subcategory_data"
   ],
   "metadata": {
    "collapsed": false,
    "ExecuteTime": {
     "end_time": "2024-03-19T16:55:02.368986Z",
     "start_time": "2024-03-19T16:55:02.336111Z"
    }
   },
   "id": "44f0d7c9a9b0806e"
  },
  {
   "cell_type": "code",
   "execution_count": 28,
   "outputs": [
    {
     "name": "stdout",
     "output_type": "stream",
     "text": [
      "   category_id      category\n",
      "0            1        Поесть\n",
      "1            2   Развлечения\n",
      "2            3        Туризм\n",
      "3            4        Товары\n",
      "4            5        Услуги\n",
      "5            6  Спецмагазины\n",
      "6            7      Продукты\n",
      "7            8         Спорт\n",
      "8            9   Образование\n",
      "     subcategory_id  category_id            subcategory\n",
      "0                 1            1                   Кафе\n",
      "1                 2            1              Рестораны\n",
      "2                 3            1                   Бары\n",
      "3                 4            1              Суши-бары\n",
      "4                 5            1        Быстрое питание\n",
      "..              ...          ...                    ...\n",
      "237             238            8       Студии медитации\n",
      "238             239            6  Продажа живых бабочек\n",
      "239             240            2         Акватеррариумы\n",
      "240             241            2     Букмекеры, лотереи\n",
      "241             242            2               Мавзолей\n",
      "\n",
      "[242 rows x 3 columns]\n"
     ]
    }
   ],
   "source": [
    "df = category_subcategory_data.copy()\n",
    "# Генерируем уникальные ID для категорий\n",
    "category_ids = pd.factorize(df['category'])[0] + 1\n",
    "df['category_id'] = category_ids\n",
    "\n",
    "# Генерируем уникальные ID для подкатегорий\n",
    "subcategory_combinations = df['category'] + df['subcategory']\n",
    "subcategory_ids = pd.factorize(subcategory_combinations)[0] + 1\n",
    "df['subcategory_id'] = subcategory_ids\n",
    "\n",
    "# Создаем отдельные DataFrame'ы для категорий и подкатегорий\n",
    "categories_df = df[['category_id', 'category']].drop_duplicates().reset_index(drop=True)\n",
    "subcategories_df = df[['subcategory_id', 'category_id', 'subcategory']].drop_duplicates().reset_index(drop=True)\n",
    "\n",
    "print(categories_df)\n",
    "print(subcategories_df)"
   ],
   "metadata": {
    "collapsed": false,
    "ExecuteTime": {
     "end_time": "2024-03-19T16:58:13.959009Z",
     "start_time": "2024-03-19T16:58:13.925818Z"
    }
   },
   "id": "db8320a383c994e6"
  },
  {
   "cell_type": "code",
   "execution_count": 38,
   "outputs": [],
   "source": [
    "categories_df.to_csv('categories.csv',index=False)"
   ],
   "metadata": {
    "collapsed": false,
    "ExecuteTime": {
     "end_time": "2024-03-19T17:15:38.269261Z",
     "start_time": "2024-03-19T17:15:38.249558Z"
    }
   },
   "id": "2b303ed84f405d99"
  },
  {
   "cell_type": "code",
   "execution_count": 39,
   "outputs": [],
   "source": [
    "subcategories_df.to_csv('subcategories.csv',index=False)"
   ],
   "metadata": {
    "collapsed": false,
    "ExecuteTime": {
     "end_time": "2024-03-19T17:15:38.669007Z",
     "start_time": "2024-03-19T17:15:38.649504Z"
    }
   },
   "id": "e7bd3d2448cfb034"
  },
  {
   "cell_type": "code",
   "execution_count": 35,
   "outputs": [
    {
     "data": {
      "text/plain": "   category_id      category\n0            1        Поесть\n1            2   Развлечения\n2            3        Туризм\n3            4        Товары\n4            5        Услуги\n5            6  Спецмагазины\n6            7      Продукты\n7            8         Спорт\n8            9   Образование",
      "text/html": "<div>\n<style scoped>\n    .dataframe tbody tr th:only-of-type {\n        vertical-align: middle;\n    }\n\n    .dataframe tbody tr th {\n        vertical-align: top;\n    }\n\n    .dataframe thead th {\n        text-align: right;\n    }\n</style>\n<table border=\"1\" class=\"dataframe\">\n  <thead>\n    <tr style=\"text-align: right;\">\n      <th></th>\n      <th>category_id</th>\n      <th>category</th>\n    </tr>\n  </thead>\n  <tbody>\n    <tr>\n      <th>0</th>\n      <td>1</td>\n      <td>Поесть</td>\n    </tr>\n    <tr>\n      <th>1</th>\n      <td>2</td>\n      <td>Развлечения</td>\n    </tr>\n    <tr>\n      <th>2</th>\n      <td>3</td>\n      <td>Туризм</td>\n    </tr>\n    <tr>\n      <th>3</th>\n      <td>4</td>\n      <td>Товары</td>\n    </tr>\n    <tr>\n      <th>4</th>\n      <td>5</td>\n      <td>Услуги</td>\n    </tr>\n    <tr>\n      <th>5</th>\n      <td>6</td>\n      <td>Спецмагазины</td>\n    </tr>\n    <tr>\n      <th>6</th>\n      <td>7</td>\n      <td>Продукты</td>\n    </tr>\n    <tr>\n      <th>7</th>\n      <td>8</td>\n      <td>Спорт</td>\n    </tr>\n    <tr>\n      <th>8</th>\n      <td>9</td>\n      <td>Образование</td>\n    </tr>\n  </tbody>\n</table>\n</div>"
     },
     "execution_count": 35,
     "metadata": {},
     "output_type": "execute_result"
    }
   ],
   "source": [
    "categories_df"
   ],
   "metadata": {
    "collapsed": false,
    "ExecuteTime": {
     "end_time": "2024-03-19T17:12:37.902935Z",
     "start_time": "2024-03-19T17:12:37.860586Z"
    }
   },
   "id": "5db5e686c6ca4637"
  },
  {
   "cell_type": "code",
   "execution_count": 37,
   "outputs": [],
   "source": [
    "subcategories_df.rename(columns={'subcategory_id':'id','subcategory':'name'},inplace=True)\n",
    "categories_df.rename(columns={'category_id':'id','category':'name'},inplace=True)"
   ],
   "metadata": {
    "collapsed": false,
    "ExecuteTime": {
     "end_time": "2024-03-19T17:15:35.696307Z",
     "start_time": "2024-03-19T17:15:35.678860Z"
    }
   },
   "id": "5b143a4b5a1a4e35"
  },
  {
   "cell_type": "code",
   "execution_count": 58,
   "outputs": [
    {
     "name": "stderr",
     "output_type": "stream",
     "text": [
      "/var/folders/5m/skwg1kcj24198_7b50yg8twm0000gp/T/ipykernel_43155/3937785881.py:1: DtypeWarning: Columns (9,10) have mixed types. Specify dtype option on import or set low_memory=False.\n",
      "  NEW_PLACES_DATA = pd.read_csv('../COURSE_WRK/some_marked_places.csv',header=None)\n"
     ]
    }
   ],
   "source": [
    "NEW_PLACES_DATA = pd.read_csv('../COURSE_WRK/some_marked_places.csv',header=None)"
   ],
   "metadata": {
    "collapsed": false,
    "ExecuteTime": {
     "end_time": "2024-03-20T06:33:35.136919Z",
     "start_time": "2024-03-20T06:33:34.999092Z"
    }
   },
   "id": "f34a9f2644561714"
  },
  {
   "cell_type": "code",
   "execution_count": 60,
   "outputs": [],
   "source": [
    "NEW_PLACES_DATA = NEW_PLACES_DATA.drop(0,axis=1)"
   ],
   "metadata": {
    "collapsed": false,
    "ExecuteTime": {
     "end_time": "2024-03-20T06:33:42.405158Z",
     "start_time": "2024-03-20T06:33:42.385436Z"
    }
   },
   "id": "554bed612de5c4c0"
  },
  {
   "cell_type": "code",
   "execution_count": 61,
   "outputs": [
    {
     "data": {
      "text/plain": "           1          2                           3   \\\n0      Поесть       Кафе                       МУ-МУ   \n1      Поесть       Кафе  Кафе на Останкинской башне   \n2      Поесть       Кафе                     Здрасте   \n3      Поесть       Кафе                   Краснодар   \n4      Поесть       Кафе               KIDZROCK Cafe   \n...       ...        ...                         ...   \n67448   Спорт  Яхт-клубы               Поместье галс   \n67449   Спорт  Яхт-клубы                       Сенеж   \n67450   Спорт  Яхт-клубы              Фарватер-вилла   \n67451   Спорт  Яхт-клубы                       Химик   \n67452   Спорт  Яхт-клубы                      Шкипер   \n\n                                                      4           5   \\\n0           Охотный ряд, Манежная площадь, 1 ст2, Москва         4.6   \n1                Улица Академика Королёва, 15 к1, Москва         4.7   \n2      Лефортово Парк, Красноказарменная улица, 14а к...         4.9   \n3                 Улица Большая Дмитровка, 9 ст1, Москва         4.7   \n4             ТРЦ Хорошо!, Хорошёвское шоссе, 27, Москва         4.9   \n...                                                  ...         ...   \n67448  Прибрежная улица, ст2в/1, д. Болтино, Мытищи г...  Нет данных   \n67449                                      Солнечногорск  Нет данных   \n67450  Прибрежная улица, 5, д. Подрезово, Мытищи горо...           5   \n67451  Набережная улица, 6, Долгопрудный, Московская ...  Нет данных   \n67452               Электрический переулок, 3/10, Москва  Нет данных   \n\n               6          7          8   \\\n0      894 оценки  37.615036  55.755489   \n1       62 оценки  37.611677  55.819868   \n2       21 оценка  37.706236  55.752525   \n3      140 оценок  37.614207  55.761462   \n4       50 оценок  37.523658  55.777112   \n...           ...        ...        ...   \n67448  Нет данных  37.681227  55.973300   \n67449  Нет данных  36.977631  56.185107   \n67450    1 оценка  37.698313  55.972957   \n67451  Нет данных  37.512856  55.955171   \n67452  Нет данных  37.574983  55.772816   \n\n                                                      9   \\\n0      Кафе «Му-му» — это место, где можно по-домашне...   \n1      Останкинская телебашня предоставляет большой с...   \n2      «Здрасте» — сеть уютных кофеен с авторской кух...   \n3                                       ООО «МИЛОВИДОВ».   \n4      «Замания» — это более 2000 квадратных метров н...   \n...                                                  ...   \n67448                                                NaN   \n67449                                                NaN   \n67450                                                NaN   \n67451                                                NaN   \n67452                                                NaN   \n\n                                                      10  \n0      https://ams2-cdn.2gis.com/previews/10286469513...  \n1      https://i1.photo.2gis.com/images/branch/0/3025...  \n2      https://ams2-cdn.2gis.com/previews/11437209486...  \n3      https://ams2-cdn.2gis.com/previews/10365511406...  \n4      https://ams2-cdn.2gis.com/previews/11351735832...  \n...                                                  ...  \n67448                                                NaN  \n67449                                                NaN  \n67450                                                NaN  \n67451                                                NaN  \n67452                                                NaN  \n\n[67453 rows x 10 columns]",
      "text/html": "<div>\n<style scoped>\n    .dataframe tbody tr th:only-of-type {\n        vertical-align: middle;\n    }\n\n    .dataframe tbody tr th {\n        vertical-align: top;\n    }\n\n    .dataframe thead th {\n        text-align: right;\n    }\n</style>\n<table border=\"1\" class=\"dataframe\">\n  <thead>\n    <tr style=\"text-align: right;\">\n      <th></th>\n      <th>1</th>\n      <th>2</th>\n      <th>3</th>\n      <th>4</th>\n      <th>5</th>\n      <th>6</th>\n      <th>7</th>\n      <th>8</th>\n      <th>9</th>\n      <th>10</th>\n    </tr>\n  </thead>\n  <tbody>\n    <tr>\n      <th>0</th>\n      <td>Поесть</td>\n      <td>Кафе</td>\n      <td>МУ-МУ</td>\n      <td>Охотный ряд, Манежная площадь, 1 ст2, Москва</td>\n      <td>4.6</td>\n      <td>894 оценки</td>\n      <td>37.615036</td>\n      <td>55.755489</td>\n      <td>Кафе «Му-му» — это место, где можно по-домашне...</td>\n      <td>https://ams2-cdn.2gis.com/previews/10286469513...</td>\n    </tr>\n    <tr>\n      <th>1</th>\n      <td>Поесть</td>\n      <td>Кафе</td>\n      <td>Кафе на Останкинской башне</td>\n      <td>Улица Академика Королёва, 15 к1, Москва</td>\n      <td>4.7</td>\n      <td>62 оценки</td>\n      <td>37.611677</td>\n      <td>55.819868</td>\n      <td>Останкинская телебашня предоставляет большой с...</td>\n      <td>https://i1.photo.2gis.com/images/branch/0/3025...</td>\n    </tr>\n    <tr>\n      <th>2</th>\n      <td>Поесть</td>\n      <td>Кафе</td>\n      <td>Здрасте</td>\n      <td>Лефортово Парк, Красноказарменная улица, 14а к...</td>\n      <td>4.9</td>\n      <td>21 оценка</td>\n      <td>37.706236</td>\n      <td>55.752525</td>\n      <td>«Здрасте» — сеть уютных кофеен с авторской кух...</td>\n      <td>https://ams2-cdn.2gis.com/previews/11437209486...</td>\n    </tr>\n    <tr>\n      <th>3</th>\n      <td>Поесть</td>\n      <td>Кафе</td>\n      <td>Краснодар</td>\n      <td>Улица Большая Дмитровка, 9 ст1, Москва</td>\n      <td>4.7</td>\n      <td>140 оценок</td>\n      <td>37.614207</td>\n      <td>55.761462</td>\n      <td>ООО «МИЛОВИДОВ».</td>\n      <td>https://ams2-cdn.2gis.com/previews/10365511406...</td>\n    </tr>\n    <tr>\n      <th>4</th>\n      <td>Поесть</td>\n      <td>Кафе</td>\n      <td>KIDZROCK Cafe</td>\n      <td>ТРЦ Хорошо!, Хорошёвское шоссе, 27, Москва</td>\n      <td>4.9</td>\n      <td>50 оценок</td>\n      <td>37.523658</td>\n      <td>55.777112</td>\n      <td>«Замания» — это более 2000 квадратных метров н...</td>\n      <td>https://ams2-cdn.2gis.com/previews/11351735832...</td>\n    </tr>\n    <tr>\n      <th>...</th>\n      <td>...</td>\n      <td>...</td>\n      <td>...</td>\n      <td>...</td>\n      <td>...</td>\n      <td>...</td>\n      <td>...</td>\n      <td>...</td>\n      <td>...</td>\n      <td>...</td>\n    </tr>\n    <tr>\n      <th>67448</th>\n      <td>Спорт</td>\n      <td>Яхт-клубы</td>\n      <td>Поместье галс</td>\n      <td>Прибрежная улица, ст2в/1, д. Болтино, Мытищи г...</td>\n      <td>Нет данных</td>\n      <td>Нет данных</td>\n      <td>37.681227</td>\n      <td>55.973300</td>\n      <td>NaN</td>\n      <td>NaN</td>\n    </tr>\n    <tr>\n      <th>67449</th>\n      <td>Спорт</td>\n      <td>Яхт-клубы</td>\n      <td>Сенеж</td>\n      <td>Солнечногорск</td>\n      <td>Нет данных</td>\n      <td>Нет данных</td>\n      <td>36.977631</td>\n      <td>56.185107</td>\n      <td>NaN</td>\n      <td>NaN</td>\n    </tr>\n    <tr>\n      <th>67450</th>\n      <td>Спорт</td>\n      <td>Яхт-клубы</td>\n      <td>Фарватер-вилла</td>\n      <td>Прибрежная улица, 5, д. Подрезово, Мытищи горо...</td>\n      <td>5</td>\n      <td>1 оценка</td>\n      <td>37.698313</td>\n      <td>55.972957</td>\n      <td>NaN</td>\n      <td>NaN</td>\n    </tr>\n    <tr>\n      <th>67451</th>\n      <td>Спорт</td>\n      <td>Яхт-клубы</td>\n      <td>Химик</td>\n      <td>Набережная улица, 6, Долгопрудный, Московская ...</td>\n      <td>Нет данных</td>\n      <td>Нет данных</td>\n      <td>37.512856</td>\n      <td>55.955171</td>\n      <td>NaN</td>\n      <td>NaN</td>\n    </tr>\n    <tr>\n      <th>67452</th>\n      <td>Спорт</td>\n      <td>Яхт-клубы</td>\n      <td>Шкипер</td>\n      <td>Электрический переулок, 3/10, Москва</td>\n      <td>Нет данных</td>\n      <td>Нет данных</td>\n      <td>37.574983</td>\n      <td>55.772816</td>\n      <td>NaN</td>\n      <td>NaN</td>\n    </tr>\n  </tbody>\n</table>\n<p>67453 rows × 10 columns</p>\n</div>"
     },
     "execution_count": 61,
     "metadata": {},
     "output_type": "execute_result"
    }
   ],
   "source": [
    "NEW_PLACES_DATA"
   ],
   "metadata": {
    "collapsed": false,
    "ExecuteTime": {
     "end_time": "2024-03-20T06:33:42.903007Z",
     "start_time": "2024-03-20T06:33:42.883005Z"
    }
   },
   "id": "a7471f5f2a49a836"
  },
  {
   "cell_type": "code",
   "execution_count": 62,
   "outputs": [],
   "source": [
    "columns_names = ['category','subcategory','name','address','rating','reviews_count','pos1','pos2','description','image']\n",
    "NEW_PLACES_DATA.columns = columns_names"
   ],
   "metadata": {
    "collapsed": false,
    "ExecuteTime": {
     "end_time": "2024-03-20T06:34:06.709806Z",
     "start_time": "2024-03-20T06:34:06.687446Z"
    }
   },
   "id": "57929b02d06888c0"
  },
  {
   "cell_type": "code",
   "execution_count": 63,
   "outputs": [],
   "source": [
    "NEW_PLACES_DATA['description'] = NEW_PLACES_DATA['description'].fillna('Нет данных')\n",
    "NEW_PLACES_DATA['image'] = NEW_PLACES_DATA['image'].fillna('Нет данных')"
   ],
   "metadata": {
    "collapsed": false,
    "ExecuteTime": {
     "end_time": "2024-03-20T06:34:38.927134Z",
     "start_time": "2024-03-20T06:34:38.912367Z"
    }
   },
   "id": "9934990c995d92a8"
  },
  {
   "cell_type": "code",
   "execution_count": 66,
   "outputs": [
    {
     "data": {
      "text/plain": "      category                 subcategory                        name  \\\n0       Поесть                        Кафе                       МУ-МУ   \n1       Поесть                        Кафе  Кафе на Останкинской башне   \n2       Поесть                        Кафе                     Здрасте   \n3       Поесть                        Кафе                   Краснодар   \n4       Поесть                        Кафе               KIDZROCK Cafe   \n...        ...                         ...                         ...   \n61003    Спорт  Аренда спортивных площадок                  Evolve gym   \n61004    Спорт  Аренда спортивных площадок                    Fit N Go   \n61005    Спорт  Аренда спортивных площадок        Fit4ever-fitness&ems   \n61011    Спорт  Аренда спортивных площадок                     TopStar   \n61022    Спорт  Аренда спортивных площадок                   Мир Танца   \n\n                                                 address rating reviews_count  \\\n0           Охотный ряд, Манежная площадь, 1 ст2, Москва    4.6    894 оценки   \n1                Улица Академика Королёва, 15 к1, Москва    4.7     62 оценки   \n2      Лефортово Парк, Красноказарменная улица, 14а к...    4.9     21 оценка   \n3                 Улица Большая Дмитровка, 9 ст1, Москва    4.7    140 оценок   \n4             ТРЦ Хорошо!, Хорошёвское шоссе, 27, Москва    4.9     50 оценок   \n...                                                  ...    ...           ...   \n61003  Новоспасский, Дербеневская набережная, 7 ст6, ...    4.9     11 оценок   \n61004  Улица 3-е Почтовое отделение, 102, Люберцы, Мо...    4.3      6 оценок   \n61005              Рождественский бульвар, 9 ст1, Москва      5      7 оценок   \n61011                      Улица Декабристов, 27, Москва    4.3      9 оценок   \n61022               1-я Тверская-Ямская улица, 8, Москва    1.1      3 оценки   \n\n            pos1       pos2  \\\n0      37.615036  55.755489   \n1      37.611677  55.819868   \n2      37.706236  55.752525   \n3      37.614207  55.761462   \n4      37.523658  55.777112   \n...          ...        ...   \n61003  37.653936  55.721914   \n61004  37.865220  55.681600   \n61005  37.625756  55.766876   \n61011  37.609488  55.863151   \n61022  37.593435  55.771899   \n\n                                             description  \\\n0      Кафе «Му-му» — это место, где можно по-домашне...   \n1      Останкинская телебашня предоставляет большой с...   \n2      «Здрасте» — сеть уютных кофеен с авторской кух...   \n3                                       ООО «МИЛОВИДОВ».   \n4      «Замания» — это более 2000 квадратных метров н...   \n...                                                  ...   \n61003  Хочется чего-нибудь сытного, вкусного и по при...   \n61004         ООО «Меркато», Москва, ОГРН 1187746394296.   \n61005  Хочется чего-нибудь сытного, вкусного и по при...   \n61011  ООО «Додо Франчайзинг», Сыктывкар, ОГРН 113110...   \n61022  Введи в приложении Subway Russia промокод ГИСМ...   \n\n                                                   image  \n0      https://ams2-cdn.2gis.com/previews/10286469513...  \n1      https://i1.photo.2gis.com/images/branch/0/3025...  \n2      https://ams2-cdn.2gis.com/previews/11437209486...  \n3      https://ams2-cdn.2gis.com/previews/10365511406...  \n4      https://ams2-cdn.2gis.com/previews/11351735832...  \n...                                                  ...  \n61003  https://i4.photo.2gis.com/images/branch/0/3025...  \n61004  https://ams2-cdn.2gis.com/previews/10778388854...  \n61005  https://i9.photo.2gis.com/images/branch/0/3025...  \n61011  https://ams2-cdn.2gis.com/previews/10778388854...  \n61022  https://ams2-cdn.2gis.com/previews/11481546381...  \n\n[2941 rows x 10 columns]",
      "text/html": "<div>\n<style scoped>\n    .dataframe tbody tr th:only-of-type {\n        vertical-align: middle;\n    }\n\n    .dataframe tbody tr th {\n        vertical-align: top;\n    }\n\n    .dataframe thead th {\n        text-align: right;\n    }\n</style>\n<table border=\"1\" class=\"dataframe\">\n  <thead>\n    <tr style=\"text-align: right;\">\n      <th></th>\n      <th>category</th>\n      <th>subcategory</th>\n      <th>name</th>\n      <th>address</th>\n      <th>rating</th>\n      <th>reviews_count</th>\n      <th>pos1</th>\n      <th>pos2</th>\n      <th>description</th>\n      <th>image</th>\n    </tr>\n  </thead>\n  <tbody>\n    <tr>\n      <th>0</th>\n      <td>Поесть</td>\n      <td>Кафе</td>\n      <td>МУ-МУ</td>\n      <td>Охотный ряд, Манежная площадь, 1 ст2, Москва</td>\n      <td>4.6</td>\n      <td>894 оценки</td>\n      <td>37.615036</td>\n      <td>55.755489</td>\n      <td>Кафе «Му-му» — это место, где можно по-домашне...</td>\n      <td>https://ams2-cdn.2gis.com/previews/10286469513...</td>\n    </tr>\n    <tr>\n      <th>1</th>\n      <td>Поесть</td>\n      <td>Кафе</td>\n      <td>Кафе на Останкинской башне</td>\n      <td>Улица Академика Королёва, 15 к1, Москва</td>\n      <td>4.7</td>\n      <td>62 оценки</td>\n      <td>37.611677</td>\n      <td>55.819868</td>\n      <td>Останкинская телебашня предоставляет большой с...</td>\n      <td>https://i1.photo.2gis.com/images/branch/0/3025...</td>\n    </tr>\n    <tr>\n      <th>2</th>\n      <td>Поесть</td>\n      <td>Кафе</td>\n      <td>Здрасте</td>\n      <td>Лефортово Парк, Красноказарменная улица, 14а к...</td>\n      <td>4.9</td>\n      <td>21 оценка</td>\n      <td>37.706236</td>\n      <td>55.752525</td>\n      <td>«Здрасте» — сеть уютных кофеен с авторской кух...</td>\n      <td>https://ams2-cdn.2gis.com/previews/11437209486...</td>\n    </tr>\n    <tr>\n      <th>3</th>\n      <td>Поесть</td>\n      <td>Кафе</td>\n      <td>Краснодар</td>\n      <td>Улица Большая Дмитровка, 9 ст1, Москва</td>\n      <td>4.7</td>\n      <td>140 оценок</td>\n      <td>37.614207</td>\n      <td>55.761462</td>\n      <td>ООО «МИЛОВИДОВ».</td>\n      <td>https://ams2-cdn.2gis.com/previews/10365511406...</td>\n    </tr>\n    <tr>\n      <th>4</th>\n      <td>Поесть</td>\n      <td>Кафе</td>\n      <td>KIDZROCK Cafe</td>\n      <td>ТРЦ Хорошо!, Хорошёвское шоссе, 27, Москва</td>\n      <td>4.9</td>\n      <td>50 оценок</td>\n      <td>37.523658</td>\n      <td>55.777112</td>\n      <td>«Замания» — это более 2000 квадратных метров н...</td>\n      <td>https://ams2-cdn.2gis.com/previews/11351735832...</td>\n    </tr>\n    <tr>\n      <th>...</th>\n      <td>...</td>\n      <td>...</td>\n      <td>...</td>\n      <td>...</td>\n      <td>...</td>\n      <td>...</td>\n      <td>...</td>\n      <td>...</td>\n      <td>...</td>\n      <td>...</td>\n    </tr>\n    <tr>\n      <th>61003</th>\n      <td>Спорт</td>\n      <td>Аренда спортивных площадок</td>\n      <td>Evolve gym</td>\n      <td>Новоспасский, Дербеневская набережная, 7 ст6, ...</td>\n      <td>4.9</td>\n      <td>11 оценок</td>\n      <td>37.653936</td>\n      <td>55.721914</td>\n      <td>Хочется чего-нибудь сытного, вкусного и по при...</td>\n      <td>https://i4.photo.2gis.com/images/branch/0/3025...</td>\n    </tr>\n    <tr>\n      <th>61004</th>\n      <td>Спорт</td>\n      <td>Аренда спортивных площадок</td>\n      <td>Fit N Go</td>\n      <td>Улица 3-е Почтовое отделение, 102, Люберцы, Мо...</td>\n      <td>4.3</td>\n      <td>6 оценок</td>\n      <td>37.865220</td>\n      <td>55.681600</td>\n      <td>ООО «Меркато», Москва, ОГРН 1187746394296.</td>\n      <td>https://ams2-cdn.2gis.com/previews/10778388854...</td>\n    </tr>\n    <tr>\n      <th>61005</th>\n      <td>Спорт</td>\n      <td>Аренда спортивных площадок</td>\n      <td>Fit4ever-fitness&amp;ems</td>\n      <td>Рождественский бульвар, 9 ст1, Москва</td>\n      <td>5</td>\n      <td>7 оценок</td>\n      <td>37.625756</td>\n      <td>55.766876</td>\n      <td>Хочется чего-нибудь сытного, вкусного и по при...</td>\n      <td>https://i9.photo.2gis.com/images/branch/0/3025...</td>\n    </tr>\n    <tr>\n      <th>61011</th>\n      <td>Спорт</td>\n      <td>Аренда спортивных площадок</td>\n      <td>TopStar</td>\n      <td>Улица Декабристов, 27, Москва</td>\n      <td>4.3</td>\n      <td>9 оценок</td>\n      <td>37.609488</td>\n      <td>55.863151</td>\n      <td>ООО «Додо Франчайзинг», Сыктывкар, ОГРН 113110...</td>\n      <td>https://ams2-cdn.2gis.com/previews/10778388854...</td>\n    </tr>\n    <tr>\n      <th>61022</th>\n      <td>Спорт</td>\n      <td>Аренда спортивных площадок</td>\n      <td>Мир Танца</td>\n      <td>1-я Тверская-Ямская улица, 8, Москва</td>\n      <td>1.1</td>\n      <td>3 оценки</td>\n      <td>37.593435</td>\n      <td>55.771899</td>\n      <td>Введи в приложении Subway Russia промокод ГИСМ...</td>\n      <td>https://ams2-cdn.2gis.com/previews/11481546381...</td>\n    </tr>\n  </tbody>\n</table>\n<p>2941 rows × 10 columns</p>\n</div>"
     },
     "execution_count": 66,
     "metadata": {},
     "output_type": "execute_result"
    }
   ],
   "source": [
    "NEW_PLACES_DATA[(NEW_PLACES_DATA['description']!='Нет данных')&(NEW_PLACES_DATA['image']!='Нет данных')]"
   ],
   "metadata": {
    "collapsed": false,
    "ExecuteTime": {
     "end_time": "2024-03-20T06:35:19.574980Z",
     "start_time": "2024-03-20T06:35:19.551981Z"
    }
   },
   "id": "229e6c9651f6e9b9"
  },
  {
   "cell_type": "code",
   "execution_count": 67,
   "outputs": [],
   "source": [
    "NEW_PLACES_DATA.to_parquet('new_places_data.parquet')"
   ],
   "metadata": {
    "collapsed": false,
    "ExecuteTime": {
     "end_time": "2024-03-20T06:35:40.939487Z",
     "start_time": "2024-03-20T06:35:40.846583Z"
    }
   },
   "id": "e066d4a5606fc47d"
  },
  {
   "cell_type": "code",
   "execution_count": 68,
   "outputs": [],
   "source": [
    "NEW_PLACES_DATA.to_csv('new_places_data.csv',index=False)"
   ],
   "metadata": {
    "collapsed": false,
    "ExecuteTime": {
     "end_time": "2024-03-20T06:45:41.525345Z",
     "start_time": "2024-03-20T06:45:41.307472Z"
    }
   },
   "id": "72ceaa8983178578"
  },
  {
   "cell_type": "code",
   "execution_count": 69,
   "outputs": [
    {
     "data": {
      "text/plain": "      category subcategory                        name  \\\n0       Поесть        Кафе                       МУ-МУ   \n1       Поесть        Кафе  Кафе на Останкинской башне   \n2       Поесть        Кафе                     Здрасте   \n3       Поесть        Кафе                   Краснодар   \n4       Поесть        Кафе               KIDZROCK Cafe   \n...        ...         ...                         ...   \n67448    Спорт   Яхт-клубы               Поместье галс   \n67449    Спорт   Яхт-клубы                       Сенеж   \n67450    Спорт   Яхт-клубы              Фарватер-вилла   \n67451    Спорт   Яхт-клубы                       Химик   \n67452    Спорт   Яхт-клубы                      Шкипер   \n\n                                                 address      rating  \\\n0           Охотный ряд, Манежная площадь, 1 ст2, Москва         4.6   \n1                Улица Академика Королёва, 15 к1, Москва         4.7   \n2      Лефортово Парк, Красноказарменная улица, 14а к...         4.9   \n3                 Улица Большая Дмитровка, 9 ст1, Москва         4.7   \n4             ТРЦ Хорошо!, Хорошёвское шоссе, 27, Москва         4.9   \n...                                                  ...         ...   \n67448  Прибрежная улица, ст2в/1, д. Болтино, Мытищи г...  Нет данных   \n67449                                      Солнечногорск  Нет данных   \n67450  Прибрежная улица, 5, д. Подрезово, Мытищи горо...           5   \n67451  Набережная улица, 6, Долгопрудный, Московская ...  Нет данных   \n67452               Электрический переулок, 3/10, Москва  Нет данных   \n\n      reviews_count       pos1       pos2  \\\n0        894 оценки  37.615036  55.755489   \n1         62 оценки  37.611677  55.819868   \n2         21 оценка  37.706236  55.752525   \n3        140 оценок  37.614207  55.761462   \n4         50 оценок  37.523658  55.777112   \n...             ...        ...        ...   \n67448    Нет данных  37.681227  55.973300   \n67449    Нет данных  36.977631  56.185107   \n67450      1 оценка  37.698313  55.972957   \n67451    Нет данных  37.512856  55.955171   \n67452    Нет данных  37.574983  55.772816   \n\n                                             description  \\\n0      Кафе «Му-му» — это место, где можно по-домашне...   \n1      Останкинская телебашня предоставляет большой с...   \n2      «Здрасте» — сеть уютных кофеен с авторской кух...   \n3                                       ООО «МИЛОВИДОВ».   \n4      «Замания» — это более 2000 квадратных метров н...   \n...                                                  ...   \n67448                                         Нет данных   \n67449                                         Нет данных   \n67450                                         Нет данных   \n67451                                         Нет данных   \n67452                                         Нет данных   \n\n                                                   image  \n0      https://ams2-cdn.2gis.com/previews/10286469513...  \n1      https://i1.photo.2gis.com/images/branch/0/3025...  \n2      https://ams2-cdn.2gis.com/previews/11437209486...  \n3      https://ams2-cdn.2gis.com/previews/10365511406...  \n4      https://ams2-cdn.2gis.com/previews/11351735832...  \n...                                                  ...  \n67448                                         Нет данных  \n67449                                         Нет данных  \n67450                                         Нет данных  \n67451                                         Нет данных  \n67452                                         Нет данных  \n\n[67453 rows x 10 columns]",
      "text/html": "<div>\n<style scoped>\n    .dataframe tbody tr th:only-of-type {\n        vertical-align: middle;\n    }\n\n    .dataframe tbody tr th {\n        vertical-align: top;\n    }\n\n    .dataframe thead th {\n        text-align: right;\n    }\n</style>\n<table border=\"1\" class=\"dataframe\">\n  <thead>\n    <tr style=\"text-align: right;\">\n      <th></th>\n      <th>category</th>\n      <th>subcategory</th>\n      <th>name</th>\n      <th>address</th>\n      <th>rating</th>\n      <th>reviews_count</th>\n      <th>pos1</th>\n      <th>pos2</th>\n      <th>description</th>\n      <th>image</th>\n    </tr>\n  </thead>\n  <tbody>\n    <tr>\n      <th>0</th>\n      <td>Поесть</td>\n      <td>Кафе</td>\n      <td>МУ-МУ</td>\n      <td>Охотный ряд, Манежная площадь, 1 ст2, Москва</td>\n      <td>4.6</td>\n      <td>894 оценки</td>\n      <td>37.615036</td>\n      <td>55.755489</td>\n      <td>Кафе «Му-му» — это место, где можно по-домашне...</td>\n      <td>https://ams2-cdn.2gis.com/previews/10286469513...</td>\n    </tr>\n    <tr>\n      <th>1</th>\n      <td>Поесть</td>\n      <td>Кафе</td>\n      <td>Кафе на Останкинской башне</td>\n      <td>Улица Академика Королёва, 15 к1, Москва</td>\n      <td>4.7</td>\n      <td>62 оценки</td>\n      <td>37.611677</td>\n      <td>55.819868</td>\n      <td>Останкинская телебашня предоставляет большой с...</td>\n      <td>https://i1.photo.2gis.com/images/branch/0/3025...</td>\n    </tr>\n    <tr>\n      <th>2</th>\n      <td>Поесть</td>\n      <td>Кафе</td>\n      <td>Здрасте</td>\n      <td>Лефортово Парк, Красноказарменная улица, 14а к...</td>\n      <td>4.9</td>\n      <td>21 оценка</td>\n      <td>37.706236</td>\n      <td>55.752525</td>\n      <td>«Здрасте» — сеть уютных кофеен с авторской кух...</td>\n      <td>https://ams2-cdn.2gis.com/previews/11437209486...</td>\n    </tr>\n    <tr>\n      <th>3</th>\n      <td>Поесть</td>\n      <td>Кафе</td>\n      <td>Краснодар</td>\n      <td>Улица Большая Дмитровка, 9 ст1, Москва</td>\n      <td>4.7</td>\n      <td>140 оценок</td>\n      <td>37.614207</td>\n      <td>55.761462</td>\n      <td>ООО «МИЛОВИДОВ».</td>\n      <td>https://ams2-cdn.2gis.com/previews/10365511406...</td>\n    </tr>\n    <tr>\n      <th>4</th>\n      <td>Поесть</td>\n      <td>Кафе</td>\n      <td>KIDZROCK Cafe</td>\n      <td>ТРЦ Хорошо!, Хорошёвское шоссе, 27, Москва</td>\n      <td>4.9</td>\n      <td>50 оценок</td>\n      <td>37.523658</td>\n      <td>55.777112</td>\n      <td>«Замания» — это более 2000 квадратных метров н...</td>\n      <td>https://ams2-cdn.2gis.com/previews/11351735832...</td>\n    </tr>\n    <tr>\n      <th>...</th>\n      <td>...</td>\n      <td>...</td>\n      <td>...</td>\n      <td>...</td>\n      <td>...</td>\n      <td>...</td>\n      <td>...</td>\n      <td>...</td>\n      <td>...</td>\n      <td>...</td>\n    </tr>\n    <tr>\n      <th>67448</th>\n      <td>Спорт</td>\n      <td>Яхт-клубы</td>\n      <td>Поместье галс</td>\n      <td>Прибрежная улица, ст2в/1, д. Болтино, Мытищи г...</td>\n      <td>Нет данных</td>\n      <td>Нет данных</td>\n      <td>37.681227</td>\n      <td>55.973300</td>\n      <td>Нет данных</td>\n      <td>Нет данных</td>\n    </tr>\n    <tr>\n      <th>67449</th>\n      <td>Спорт</td>\n      <td>Яхт-клубы</td>\n      <td>Сенеж</td>\n      <td>Солнечногорск</td>\n      <td>Нет данных</td>\n      <td>Нет данных</td>\n      <td>36.977631</td>\n      <td>56.185107</td>\n      <td>Нет данных</td>\n      <td>Нет данных</td>\n    </tr>\n    <tr>\n      <th>67450</th>\n      <td>Спорт</td>\n      <td>Яхт-клубы</td>\n      <td>Фарватер-вилла</td>\n      <td>Прибрежная улица, 5, д. Подрезово, Мытищи горо...</td>\n      <td>5</td>\n      <td>1 оценка</td>\n      <td>37.698313</td>\n      <td>55.972957</td>\n      <td>Нет данных</td>\n      <td>Нет данных</td>\n    </tr>\n    <tr>\n      <th>67451</th>\n      <td>Спорт</td>\n      <td>Яхт-клубы</td>\n      <td>Химик</td>\n      <td>Набережная улица, 6, Долгопрудный, Московская ...</td>\n      <td>Нет данных</td>\n      <td>Нет данных</td>\n      <td>37.512856</td>\n      <td>55.955171</td>\n      <td>Нет данных</td>\n      <td>Нет данных</td>\n    </tr>\n    <tr>\n      <th>67452</th>\n      <td>Спорт</td>\n      <td>Яхт-клубы</td>\n      <td>Шкипер</td>\n      <td>Электрический переулок, 3/10, Москва</td>\n      <td>Нет данных</td>\n      <td>Нет данных</td>\n      <td>37.574983</td>\n      <td>55.772816</td>\n      <td>Нет данных</td>\n      <td>Нет данных</td>\n    </tr>\n  </tbody>\n</table>\n<p>67453 rows × 10 columns</p>\n</div>"
     },
     "execution_count": 69,
     "metadata": {},
     "output_type": "execute_result"
    }
   ],
   "source": [
    "NEW_PLACES_DATA"
   ],
   "metadata": {
    "collapsed": false,
    "ExecuteTime": {
     "end_time": "2024-03-20T06:47:07.001869Z",
     "start_time": "2024-03-20T06:47:06.954027Z"
    }
   },
   "id": "971652cf07c0038e"
  },
  {
   "cell_type": "code",
   "execution_count": null,
   "outputs": [],
   "source": [],
   "metadata": {
    "collapsed": false
   },
   "id": "88939bdf6ff28828"
  }
 ],
 "metadata": {
  "kernelspec": {
   "display_name": "Python 3",
   "language": "python",
   "name": "python3"
  },
  "language_info": {
   "codemirror_mode": {
    "name": "ipython",
    "version": 2
   },
   "file_extension": ".py",
   "mimetype": "text/x-python",
   "name": "python",
   "nbconvert_exporter": "python",
   "pygments_lexer": "ipython2",
   "version": "2.7.6"
  }
 },
 "nbformat": 4,
 "nbformat_minor": 5
}
